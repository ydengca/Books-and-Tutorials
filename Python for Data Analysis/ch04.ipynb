{
 "cells": [
  {
   "cell_type": "markdown",
   "metadata": {},
   "source": [
    "# NumPy Basics: Arrays and Vectorized Computation "
   ]
  },
  {
   "cell_type": "code",
   "execution_count": null,
   "metadata": {},
   "outputs": [],
   "source": [
    "import numpy as np\n",
    "np.random.seed(12345)"
   ]
  },
  {
   "cell_type": "code",
   "execution_count": null,
   "metadata": {},
   "outputs": [],
   "source": [
    "import matplotlib.pyplot as plt\n",
    "plt.rc('figure', figsize=(10, 6))\n",
    "plt.show()"
   ]
  },
  {
   "cell_type": "code",
   "execution_count": null,
   "metadata": {},
   "outputs": [],
   "source": [
    "np.set_printoptions(precision=4, suppress=True)"
   ]
  },
  {
   "cell_type": "code",
   "execution_count": 1,
   "metadata": {},
   "outputs": [
    {
     "data": {
      "text/plain": [
       "array([     0,      1,      2, ..., 999997, 999998, 999999])"
      ]
     },
     "execution_count": 1,
     "metadata": {},
     "output_type": "execute_result"
    }
   ],
   "source": [
    "import numpy as np\n",
    "my_arr = np.arange(1000000)\n",
    "my_arr"
   ]
  },
  {
   "cell_type": "code",
   "execution_count": 2,
   "metadata": {},
   "outputs": [
    {
     "data": {
      "text/plain": [
       "[0,\n",
       " 1,\n",
       " 2,\n",
       " 3,\n",
       " 4,\n",
       " 5,\n",
       " 6,\n",
       " 7,\n",
       " 8,\n",
       " 9,\n",
       " 10,\n",
       " 11,\n",
       " 12,\n",
       " 13,\n",
       " 14,\n",
       " 15,\n",
       " 16,\n",
       " 17,\n",
       " 18,\n",
       " 19,\n",
       " 20,\n",
       " 21,\n",
       " 22,\n",
       " 23,\n",
       " 24,\n",
       " 25,\n",
       " 26,\n",
       " 27,\n",
       " 28,\n",
       " 29,\n",
       " 30,\n",
       " 31,\n",
       " 32,\n",
       " 33,\n",
       " 34,\n",
       " 35,\n",
       " 36,\n",
       " 37,\n",
       " 38,\n",
       " 39,\n",
       " 40,\n",
       " 41,\n",
       " 42,\n",
       " 43,\n",
       " 44,\n",
       " 45,\n",
       " 46,\n",
       " 47,\n",
       " 48,\n",
       " 49,\n",
       " 50,\n",
       " 51,\n",
       " 52,\n",
       " 53,\n",
       " 54,\n",
       " 55,\n",
       " 56,\n",
       " 57,\n",
       " 58,\n",
       " 59,\n",
       " 60,\n",
       " 61,\n",
       " 62,\n",
       " 63,\n",
       " 64,\n",
       " 65,\n",
       " 66,\n",
       " 67,\n",
       " 68,\n",
       " 69,\n",
       " 70,\n",
       " 71,\n",
       " 72,\n",
       " 73,\n",
       " 74,\n",
       " 75,\n",
       " 76,\n",
       " 77,\n",
       " 78,\n",
       " 79,\n",
       " 80,\n",
       " 81,\n",
       " 82,\n",
       " 83,\n",
       " 84,\n",
       " 85,\n",
       " 86,\n",
       " 87,\n",
       " 88,\n",
       " 89,\n",
       " 90,\n",
       " 91,\n",
       " 92,\n",
       " 93,\n",
       " 94,\n",
       " 95,\n",
       " 96,\n",
       " 97,\n",
       " 98,\n",
       " 99,\n",
       " 100,\n",
       " 101,\n",
       " 102,\n",
       " 103,\n",
       " 104,\n",
       " 105,\n",
       " 106,\n",
       " 107,\n",
       " 108,\n",
       " 109,\n",
       " 110,\n",
       " 111,\n",
       " 112,\n",
       " 113,\n",
       " 114,\n",
       " 115,\n",
       " 116,\n",
       " 117,\n",
       " 118,\n",
       " 119,\n",
       " 120,\n",
       " 121,\n",
       " 122,\n",
       " 123,\n",
       " 124,\n",
       " 125,\n",
       " 126,\n",
       " 127,\n",
       " 128,\n",
       " 129,\n",
       " 130,\n",
       " 131,\n",
       " 132,\n",
       " 133,\n",
       " 134,\n",
       " 135,\n",
       " 136,\n",
       " 137,\n",
       " 138,\n",
       " 139,\n",
       " 140,\n",
       " 141,\n",
       " 142,\n",
       " 143,\n",
       " 144,\n",
       " 145,\n",
       " 146,\n",
       " 147,\n",
       " 148,\n",
       " 149,\n",
       " 150,\n",
       " 151,\n",
       " 152,\n",
       " 153,\n",
       " 154,\n",
       " 155,\n",
       " 156,\n",
       " 157,\n",
       " 158,\n",
       " 159,\n",
       " 160,\n",
       " 161,\n",
       " 162,\n",
       " 163,\n",
       " 164,\n",
       " 165,\n",
       " 166,\n",
       " 167,\n",
       " 168,\n",
       " 169,\n",
       " 170,\n",
       " 171,\n",
       " 172,\n",
       " 173,\n",
       " 174,\n",
       " 175,\n",
       " 176,\n",
       " 177,\n",
       " 178,\n",
       " 179,\n",
       " 180,\n",
       " 181,\n",
       " 182,\n",
       " 183,\n",
       " 184,\n",
       " 185,\n",
       " 186,\n",
       " 187,\n",
       " 188,\n",
       " 189,\n",
       " 190,\n",
       " 191,\n",
       " 192,\n",
       " 193,\n",
       " 194,\n",
       " 195,\n",
       " 196,\n",
       " 197,\n",
       " 198,\n",
       " 199,\n",
       " 200,\n",
       " 201,\n",
       " 202,\n",
       " 203,\n",
       " 204,\n",
       " 205,\n",
       " 206,\n",
       " 207,\n",
       " 208,\n",
       " 209,\n",
       " 210,\n",
       " 211,\n",
       " 212,\n",
       " 213,\n",
       " 214,\n",
       " 215,\n",
       " 216,\n",
       " 217,\n",
       " 218,\n",
       " 219,\n",
       " 220,\n",
       " 221,\n",
       " 222,\n",
       " 223,\n",
       " 224,\n",
       " 225,\n",
       " 226,\n",
       " 227,\n",
       " 228,\n",
       " 229,\n",
       " 230,\n",
       " 231,\n",
       " 232,\n",
       " 233,\n",
       " 234,\n",
       " 235,\n",
       " 236,\n",
       " 237,\n",
       " 238,\n",
       " 239,\n",
       " 240,\n",
       " 241,\n",
       " 242,\n",
       " 243,\n",
       " 244,\n",
       " 245,\n",
       " 246,\n",
       " 247,\n",
       " 248,\n",
       " 249,\n",
       " 250,\n",
       " 251,\n",
       " 252,\n",
       " 253,\n",
       " 254,\n",
       " 255,\n",
       " 256,\n",
       " 257,\n",
       " 258,\n",
       " 259,\n",
       " 260,\n",
       " 261,\n",
       " 262,\n",
       " 263,\n",
       " 264,\n",
       " 265,\n",
       " 266,\n",
       " 267,\n",
       " 268,\n",
       " 269,\n",
       " 270,\n",
       " 271,\n",
       " 272,\n",
       " 273,\n",
       " 274,\n",
       " 275,\n",
       " 276,\n",
       " 277,\n",
       " 278,\n",
       " 279,\n",
       " 280,\n",
       " 281,\n",
       " 282,\n",
       " 283,\n",
       " 284,\n",
       " 285,\n",
       " 286,\n",
       " 287,\n",
       " 288,\n",
       " 289,\n",
       " 290,\n",
       " 291,\n",
       " 292,\n",
       " 293,\n",
       " 294,\n",
       " 295,\n",
       " 296,\n",
       " 297,\n",
       " 298,\n",
       " 299,\n",
       " 300,\n",
       " 301,\n",
       " 302,\n",
       " 303,\n",
       " 304,\n",
       " 305,\n",
       " 306,\n",
       " 307,\n",
       " 308,\n",
       " 309,\n",
       " 310,\n",
       " 311,\n",
       " 312,\n",
       " 313,\n",
       " 314,\n",
       " 315,\n",
       " 316,\n",
       " 317,\n",
       " 318,\n",
       " 319,\n",
       " 320,\n",
       " 321,\n",
       " 322,\n",
       " 323,\n",
       " 324,\n",
       " 325,\n",
       " 326,\n",
       " 327,\n",
       " 328,\n",
       " 329,\n",
       " 330,\n",
       " 331,\n",
       " 332,\n",
       " 333,\n",
       " 334,\n",
       " 335,\n",
       " 336,\n",
       " 337,\n",
       " 338,\n",
       " 339,\n",
       " 340,\n",
       " 341,\n",
       " 342,\n",
       " 343,\n",
       " 344,\n",
       " 345,\n",
       " 346,\n",
       " 347,\n",
       " 348,\n",
       " 349,\n",
       " 350,\n",
       " 351,\n",
       " 352,\n",
       " 353,\n",
       " 354,\n",
       " 355,\n",
       " 356,\n",
       " 357,\n",
       " 358,\n",
       " 359,\n",
       " 360,\n",
       " 361,\n",
       " 362,\n",
       " 363,\n",
       " 364,\n",
       " 365,\n",
       " 366,\n",
       " 367,\n",
       " 368,\n",
       " 369,\n",
       " 370,\n",
       " 371,\n",
       " 372,\n",
       " 373,\n",
       " 374,\n",
       " 375,\n",
       " 376,\n",
       " 377,\n",
       " 378,\n",
       " 379,\n",
       " 380,\n",
       " 381,\n",
       " 382,\n",
       " 383,\n",
       " 384,\n",
       " 385,\n",
       " 386,\n",
       " 387,\n",
       " 388,\n",
       " 389,\n",
       " 390,\n",
       " 391,\n",
       " 392,\n",
       " 393,\n",
       " 394,\n",
       " 395,\n",
       " 396,\n",
       " 397,\n",
       " 398,\n",
       " 399,\n",
       " 400,\n",
       " 401,\n",
       " 402,\n",
       " 403,\n",
       " 404,\n",
       " 405,\n",
       " 406,\n",
       " 407,\n",
       " 408,\n",
       " 409,\n",
       " 410,\n",
       " 411,\n",
       " 412,\n",
       " 413,\n",
       " 414,\n",
       " 415,\n",
       " 416,\n",
       " 417,\n",
       " 418,\n",
       " 419,\n",
       " 420,\n",
       " 421,\n",
       " 422,\n",
       " 423,\n",
       " 424,\n",
       " 425,\n",
       " 426,\n",
       " 427,\n",
       " 428,\n",
       " 429,\n",
       " 430,\n",
       " 431,\n",
       " 432,\n",
       " 433,\n",
       " 434,\n",
       " 435,\n",
       " 436,\n",
       " 437,\n",
       " 438,\n",
       " 439,\n",
       " 440,\n",
       " 441,\n",
       " 442,\n",
       " 443,\n",
       " 444,\n",
       " 445,\n",
       " 446,\n",
       " 447,\n",
       " 448,\n",
       " 449,\n",
       " 450,\n",
       " 451,\n",
       " 452,\n",
       " 453,\n",
       " 454,\n",
       " 455,\n",
       " 456,\n",
       " 457,\n",
       " 458,\n",
       " 459,\n",
       " 460,\n",
       " 461,\n",
       " 462,\n",
       " 463,\n",
       " 464,\n",
       " 465,\n",
       " 466,\n",
       " 467,\n",
       " 468,\n",
       " 469,\n",
       " 470,\n",
       " 471,\n",
       " 472,\n",
       " 473,\n",
       " 474,\n",
       " 475,\n",
       " 476,\n",
       " 477,\n",
       " 478,\n",
       " 479,\n",
       " 480,\n",
       " 481,\n",
       " 482,\n",
       " 483,\n",
       " 484,\n",
       " 485,\n",
       " 486,\n",
       " 487,\n",
       " 488,\n",
       " 489,\n",
       " 490,\n",
       " 491,\n",
       " 492,\n",
       " 493,\n",
       " 494,\n",
       " 495,\n",
       " 496,\n",
       " 497,\n",
       " 498,\n",
       " 499,\n",
       " 500,\n",
       " 501,\n",
       " 502,\n",
       " 503,\n",
       " 504,\n",
       " 505,\n",
       " 506,\n",
       " 507,\n",
       " 508,\n",
       " 509,\n",
       " 510,\n",
       " 511,\n",
       " 512,\n",
       " 513,\n",
       " 514,\n",
       " 515,\n",
       " 516,\n",
       " 517,\n",
       " 518,\n",
       " 519,\n",
       " 520,\n",
       " 521,\n",
       " 522,\n",
       " 523,\n",
       " 524,\n",
       " 525,\n",
       " 526,\n",
       " 527,\n",
       " 528,\n",
       " 529,\n",
       " 530,\n",
       " 531,\n",
       " 532,\n",
       " 533,\n",
       " 534,\n",
       " 535,\n",
       " 536,\n",
       " 537,\n",
       " 538,\n",
       " 539,\n",
       " 540,\n",
       " 541,\n",
       " 542,\n",
       " 543,\n",
       " 544,\n",
       " 545,\n",
       " 546,\n",
       " 547,\n",
       " 548,\n",
       " 549,\n",
       " 550,\n",
       " 551,\n",
       " 552,\n",
       " 553,\n",
       " 554,\n",
       " 555,\n",
       " 556,\n",
       " 557,\n",
       " 558,\n",
       " 559,\n",
       " 560,\n",
       " 561,\n",
       " 562,\n",
       " 563,\n",
       " 564,\n",
       " 565,\n",
       " 566,\n",
       " 567,\n",
       " 568,\n",
       " 569,\n",
       " 570,\n",
       " 571,\n",
       " 572,\n",
       " 573,\n",
       " 574,\n",
       " 575,\n",
       " 576,\n",
       " 577,\n",
       " 578,\n",
       " 579,\n",
       " 580,\n",
       " 581,\n",
       " 582,\n",
       " 583,\n",
       " 584,\n",
       " 585,\n",
       " 586,\n",
       " 587,\n",
       " 588,\n",
       " 589,\n",
       " 590,\n",
       " 591,\n",
       " 592,\n",
       " 593,\n",
       " 594,\n",
       " 595,\n",
       " 596,\n",
       " 597,\n",
       " 598,\n",
       " 599,\n",
       " 600,\n",
       " 601,\n",
       " 602,\n",
       " 603,\n",
       " 604,\n",
       " 605,\n",
       " 606,\n",
       " 607,\n",
       " 608,\n",
       " 609,\n",
       " 610,\n",
       " 611,\n",
       " 612,\n",
       " 613,\n",
       " 614,\n",
       " 615,\n",
       " 616,\n",
       " 617,\n",
       " 618,\n",
       " 619,\n",
       " 620,\n",
       " 621,\n",
       " 622,\n",
       " 623,\n",
       " 624,\n",
       " 625,\n",
       " 626,\n",
       " 627,\n",
       " 628,\n",
       " 629,\n",
       " 630,\n",
       " 631,\n",
       " 632,\n",
       " 633,\n",
       " 634,\n",
       " 635,\n",
       " 636,\n",
       " 637,\n",
       " 638,\n",
       " 639,\n",
       " 640,\n",
       " 641,\n",
       " 642,\n",
       " 643,\n",
       " 644,\n",
       " 645,\n",
       " 646,\n",
       " 647,\n",
       " 648,\n",
       " 649,\n",
       " 650,\n",
       " 651,\n",
       " 652,\n",
       " 653,\n",
       " 654,\n",
       " 655,\n",
       " 656,\n",
       " 657,\n",
       " 658,\n",
       " 659,\n",
       " 660,\n",
       " 661,\n",
       " 662,\n",
       " 663,\n",
       " 664,\n",
       " 665,\n",
       " 666,\n",
       " 667,\n",
       " 668,\n",
       " 669,\n",
       " 670,\n",
       " 671,\n",
       " 672,\n",
       " 673,\n",
       " 674,\n",
       " 675,\n",
       " 676,\n",
       " 677,\n",
       " 678,\n",
       " 679,\n",
       " 680,\n",
       " 681,\n",
       " 682,\n",
       " 683,\n",
       " 684,\n",
       " 685,\n",
       " 686,\n",
       " 687,\n",
       " 688,\n",
       " 689,\n",
       " 690,\n",
       " 691,\n",
       " 692,\n",
       " 693,\n",
       " 694,\n",
       " 695,\n",
       " 696,\n",
       " 697,\n",
       " 698,\n",
       " 699,\n",
       " 700,\n",
       " 701,\n",
       " 702,\n",
       " 703,\n",
       " 704,\n",
       " 705,\n",
       " 706,\n",
       " 707,\n",
       " 708,\n",
       " 709,\n",
       " 710,\n",
       " 711,\n",
       " 712,\n",
       " 713,\n",
       " 714,\n",
       " 715,\n",
       " 716,\n",
       " 717,\n",
       " 718,\n",
       " 719,\n",
       " 720,\n",
       " 721,\n",
       " 722,\n",
       " 723,\n",
       " 724,\n",
       " 725,\n",
       " 726,\n",
       " 727,\n",
       " 728,\n",
       " 729,\n",
       " 730,\n",
       " 731,\n",
       " 732,\n",
       " 733,\n",
       " 734,\n",
       " 735,\n",
       " 736,\n",
       " 737,\n",
       " 738,\n",
       " 739,\n",
       " 740,\n",
       " 741,\n",
       " 742,\n",
       " 743,\n",
       " 744,\n",
       " 745,\n",
       " 746,\n",
       " 747,\n",
       " 748,\n",
       " 749,\n",
       " 750,\n",
       " 751,\n",
       " 752,\n",
       " 753,\n",
       " 754,\n",
       " 755,\n",
       " 756,\n",
       " 757,\n",
       " 758,\n",
       " 759,\n",
       " 760,\n",
       " 761,\n",
       " 762,\n",
       " 763,\n",
       " 764,\n",
       " 765,\n",
       " 766,\n",
       " 767,\n",
       " 768,\n",
       " 769,\n",
       " 770,\n",
       " 771,\n",
       " 772,\n",
       " 773,\n",
       " 774,\n",
       " 775,\n",
       " 776,\n",
       " 777,\n",
       " 778,\n",
       " 779,\n",
       " 780,\n",
       " 781,\n",
       " 782,\n",
       " 783,\n",
       " 784,\n",
       " 785,\n",
       " 786,\n",
       " 787,\n",
       " 788,\n",
       " 789,\n",
       " 790,\n",
       " 791,\n",
       " 792,\n",
       " 793,\n",
       " 794,\n",
       " 795,\n",
       " 796,\n",
       " 797,\n",
       " 798,\n",
       " 799,\n",
       " 800,\n",
       " 801,\n",
       " 802,\n",
       " 803,\n",
       " 804,\n",
       " 805,\n",
       " 806,\n",
       " 807,\n",
       " 808,\n",
       " 809,\n",
       " 810,\n",
       " 811,\n",
       " 812,\n",
       " 813,\n",
       " 814,\n",
       " 815,\n",
       " 816,\n",
       " 817,\n",
       " 818,\n",
       " 819,\n",
       " 820,\n",
       " 821,\n",
       " 822,\n",
       " 823,\n",
       " 824,\n",
       " 825,\n",
       " 826,\n",
       " 827,\n",
       " 828,\n",
       " 829,\n",
       " 830,\n",
       " 831,\n",
       " 832,\n",
       " 833,\n",
       " 834,\n",
       " 835,\n",
       " 836,\n",
       " 837,\n",
       " 838,\n",
       " 839,\n",
       " 840,\n",
       " 841,\n",
       " 842,\n",
       " 843,\n",
       " 844,\n",
       " 845,\n",
       " 846,\n",
       " 847,\n",
       " 848,\n",
       " 849,\n",
       " 850,\n",
       " 851,\n",
       " 852,\n",
       " 853,\n",
       " 854,\n",
       " 855,\n",
       " 856,\n",
       " 857,\n",
       " 858,\n",
       " 859,\n",
       " 860,\n",
       " 861,\n",
       " 862,\n",
       " 863,\n",
       " 864,\n",
       " 865,\n",
       " 866,\n",
       " 867,\n",
       " 868,\n",
       " 869,\n",
       " 870,\n",
       " 871,\n",
       " 872,\n",
       " 873,\n",
       " 874,\n",
       " 875,\n",
       " 876,\n",
       " 877,\n",
       " 878,\n",
       " 879,\n",
       " 880,\n",
       " 881,\n",
       " 882,\n",
       " 883,\n",
       " 884,\n",
       " 885,\n",
       " 886,\n",
       " 887,\n",
       " 888,\n",
       " 889,\n",
       " 890,\n",
       " 891,\n",
       " 892,\n",
       " 893,\n",
       " 894,\n",
       " 895,\n",
       " 896,\n",
       " 897,\n",
       " 898,\n",
       " 899,\n",
       " 900,\n",
       " 901,\n",
       " 902,\n",
       " 903,\n",
       " 904,\n",
       " 905,\n",
       " 906,\n",
       " 907,\n",
       " 908,\n",
       " 909,\n",
       " 910,\n",
       " 911,\n",
       " 912,\n",
       " 913,\n",
       " 914,\n",
       " 915,\n",
       " 916,\n",
       " 917,\n",
       " 918,\n",
       " 919,\n",
       " 920,\n",
       " 921,\n",
       " 922,\n",
       " 923,\n",
       " 924,\n",
       " 925,\n",
       " 926,\n",
       " 927,\n",
       " 928,\n",
       " 929,\n",
       " 930,\n",
       " 931,\n",
       " 932,\n",
       " 933,\n",
       " 934,\n",
       " 935,\n",
       " 936,\n",
       " 937,\n",
       " 938,\n",
       " 939,\n",
       " 940,\n",
       " 941,\n",
       " 942,\n",
       " 943,\n",
       " 944,\n",
       " 945,\n",
       " 946,\n",
       " 947,\n",
       " 948,\n",
       " 949,\n",
       " 950,\n",
       " 951,\n",
       " 952,\n",
       " 953,\n",
       " 954,\n",
       " 955,\n",
       " 956,\n",
       " 957,\n",
       " 958,\n",
       " 959,\n",
       " 960,\n",
       " 961,\n",
       " 962,\n",
       " 963,\n",
       " 964,\n",
       " 965,\n",
       " 966,\n",
       " 967,\n",
       " 968,\n",
       " 969,\n",
       " 970,\n",
       " 971,\n",
       " 972,\n",
       " 973,\n",
       " 974,\n",
       " 975,\n",
       " 976,\n",
       " 977,\n",
       " 978,\n",
       " 979,\n",
       " 980,\n",
       " 981,\n",
       " 982,\n",
       " 983,\n",
       " 984,\n",
       " 985,\n",
       " 986,\n",
       " 987,\n",
       " 988,\n",
       " 989,\n",
       " 990,\n",
       " 991,\n",
       " 992,\n",
       " 993,\n",
       " 994,\n",
       " 995,\n",
       " 996,\n",
       " 997,\n",
       " 998,\n",
       " 999,\n",
       " ...]"
      ]
     },
     "execution_count": 2,
     "metadata": {},
     "output_type": "execute_result"
    }
   ],
   "source": [
    "my_list = list(range(1000000))\n",
    "my_list"
   ]
  },
  {
   "cell_type": "code",
   "execution_count": 3,
   "metadata": {},
   "outputs": [
    {
     "name": "stdout",
     "output_type": "stream",
     "text": [
      "Wall time: 22 ms\n"
     ]
    }
   ],
   "source": [
    "%time for _ in range(10): my_arr2 = my_arr * 2"
   ]
  },
  {
   "cell_type": "code",
   "execution_count": 4,
   "metadata": {},
   "outputs": [
    {
     "name": "stdout",
     "output_type": "stream",
     "text": [
      "Wall time: 1.04 s\n"
     ]
    }
   ],
   "source": [
    "%time for _ in range(10): my_list2 = [x * 2 for x in my_list]"
   ]
  },
  {
   "cell_type": "markdown",
   "metadata": {},
   "source": [
    "## The NumPy ndarray: A Multidimensional Array Object"
   ]
  },
  {
   "cell_type": "code",
   "execution_count": 5,
   "metadata": {},
   "outputs": [
    {
     "data": {
      "text/plain": [
       "array([[ 0.63084494,  0.2337959 ,  0.35775546],\n",
       "       [-1.02509898, -0.7228616 , -1.30631868]])"
      ]
     },
     "execution_count": 5,
     "metadata": {},
     "output_type": "execute_result"
    }
   ],
   "source": [
    "import numpy as np\n",
    "# Generate some random data\n",
    "data = np.random.randn(2, 3)\n",
    "data"
   ]
  },
  {
   "cell_type": "code",
   "execution_count": 6,
   "metadata": {},
   "outputs": [
    {
     "data": {
      "text/plain": [
       "array([[  6.3084494 ,   2.33795899,   3.57755459],\n",
       "       [-10.25098984,  -7.22861596, -13.0631868 ]])"
      ]
     },
     "execution_count": 6,
     "metadata": {},
     "output_type": "execute_result"
    }
   ],
   "source": [
    "data * 10"
   ]
  },
  {
   "cell_type": "code",
   "execution_count": 7,
   "metadata": {},
   "outputs": [
    {
     "data": {
      "text/plain": [
       "array([[ 1.26168988,  0.4675918 ,  0.71551092],\n",
       "       [-2.05019797, -1.44572319, -2.61263736]])"
      ]
     },
     "execution_count": 7,
     "metadata": {},
     "output_type": "execute_result"
    }
   ],
   "source": [
    "data + data"
   ]
  },
  {
   "cell_type": "code",
   "execution_count": 8,
   "metadata": {},
   "outputs": [
    {
     "data": {
      "text/plain": [
       "(2, 3)"
      ]
     },
     "execution_count": 8,
     "metadata": {},
     "output_type": "execute_result"
    }
   ],
   "source": [
    "data.shape"
   ]
  },
  {
   "cell_type": "code",
   "execution_count": 9,
   "metadata": {},
   "outputs": [
    {
     "data": {
      "text/plain": [
       "dtype('float64')"
      ]
     },
     "execution_count": 9,
     "metadata": {},
     "output_type": "execute_result"
    }
   ],
   "source": [
    "data.dtype"
   ]
  },
  {
   "cell_type": "markdown",
   "metadata": {},
   "source": [
    "### Creating ndarrays"
   ]
  },
  {
   "cell_type": "code",
   "execution_count": 10,
   "metadata": {},
   "outputs": [
    {
     "data": {
      "text/plain": [
       "array([6. , 7.5, 8. , 0. , 1. ])"
      ]
     },
     "execution_count": 10,
     "metadata": {},
     "output_type": "execute_result"
    }
   ],
   "source": [
    "data1 = [6, 7.5, 8, 0, 1]\n",
    "arr1 = np.array(data1)\n",
    "arr1"
   ]
  },
  {
   "cell_type": "code",
   "execution_count": 11,
   "metadata": {},
   "outputs": [
    {
     "data": {
      "text/plain": [
       "array([[1, 2, 3, 4],\n",
       "       [5, 6, 7, 8]])"
      ]
     },
     "execution_count": 11,
     "metadata": {},
     "output_type": "execute_result"
    }
   ],
   "source": [
    "data2 = [[1, 2, 3, 4], [5, 6, 7, 8]]\n",
    "arr2 = np.array(data2)\n",
    "arr2"
   ]
  },
  {
   "cell_type": "code",
   "execution_count": 12,
   "metadata": {},
   "outputs": [
    {
     "data": {
      "text/plain": [
       "2"
      ]
     },
     "execution_count": 12,
     "metadata": {},
     "output_type": "execute_result"
    }
   ],
   "source": [
    "arr2.ndim"
   ]
  },
  {
   "cell_type": "code",
   "execution_count": 13,
   "metadata": {},
   "outputs": [
    {
     "data": {
      "text/plain": [
       "(2, 4)"
      ]
     },
     "execution_count": 13,
     "metadata": {},
     "output_type": "execute_result"
    }
   ],
   "source": [
    "arr2.shape"
   ]
  },
  {
   "cell_type": "code",
   "execution_count": 14,
   "metadata": {},
   "outputs": [
    {
     "data": {
      "text/plain": [
       "dtype('float64')"
      ]
     },
     "execution_count": 14,
     "metadata": {},
     "output_type": "execute_result"
    }
   ],
   "source": [
    "arr1.dtype"
   ]
  },
  {
   "cell_type": "code",
   "execution_count": 15,
   "metadata": {},
   "outputs": [
    {
     "data": {
      "text/plain": [
       "dtype('int32')"
      ]
     },
     "execution_count": 15,
     "metadata": {},
     "output_type": "execute_result"
    }
   ],
   "source": [
    "arr2.dtype"
   ]
  },
  {
   "cell_type": "code",
   "execution_count": 16,
   "metadata": {},
   "outputs": [
    {
     "data": {
      "text/plain": [
       "array([0., 0., 0., 0., 0., 0., 0., 0., 0., 0.])"
      ]
     },
     "execution_count": 16,
     "metadata": {},
     "output_type": "execute_result"
    }
   ],
   "source": [
    "np.zeros(10)"
   ]
  },
  {
   "cell_type": "code",
   "execution_count": 17,
   "metadata": {},
   "outputs": [
    {
     "data": {
      "text/plain": [
       "array([[0., 0., 0., 0., 0., 0.],\n",
       "       [0., 0., 0., 0., 0., 0.],\n",
       "       [0., 0., 0., 0., 0., 0.]])"
      ]
     },
     "execution_count": 17,
     "metadata": {},
     "output_type": "execute_result"
    }
   ],
   "source": [
    "np.zeros((3, 6))"
   ]
  },
  {
   "cell_type": "code",
   "execution_count": 18,
   "metadata": {},
   "outputs": [
    {
     "data": {
      "text/plain": [
       "array([[[1.23547298e-311, 3.16202013e-322],\n",
       "        [0.00000000e+000, 0.00000000e+000],\n",
       "        [0.00000000e+000, 1.68813045e+160]],\n",
       "\n",
       "       [[2.96134585e-032, 8.62007396e-043],\n",
       "        [4.66075929e-033, 1.39945860e-076],\n",
       "        [5.64150669e-062, 1.63205010e+185]]])"
      ]
     },
     "execution_count": 18,
     "metadata": {},
     "output_type": "execute_result"
    }
   ],
   "source": [
    "np.empty((2, 3, 2))"
   ]
  },
  {
   "cell_type": "code",
   "execution_count": 19,
   "metadata": {},
   "outputs": [
    {
     "data": {
      "text/plain": [
       "array([ 0,  1,  2,  3,  4,  5,  6,  7,  8,  9, 10, 11, 12, 13, 14])"
      ]
     },
     "execution_count": 19,
     "metadata": {},
     "output_type": "execute_result"
    }
   ],
   "source": [
    "np.arange(15)"
   ]
  },
  {
   "cell_type": "markdown",
   "metadata": {},
   "source": [
    "**Table 4-1. Array creation functions**\n",
    "<table>\n",
    "    <th>Function</th><th>Description</th>\n",
    "    <tr>\n",
    "        <td>array</td>\n",
    "        <td>Convert input data (list, tuple, array, or other sequence type) to an ndarray either by inferring a dtype or explicitly specifying a dtype; copies the input data by default</td>\n",
    "    </tr>\n",
    "    <tr>\n",
    "        <td>asarray</td>\n",
    "        <td>Convert input to ndarray, but do not copy if the input is already an ndarray</td>\n",
    "    </tr>\n",
    "    <tr>\n",
    "        <td>arange</td>\n",
    "        <td>Like the built-in range but returns an ndarray instead of a list</td>\n",
    "    </tr>\n",
    "    <tr>\n",
    "        <td>ones,</td>\n",
    "        <td>Produce an array of all 1s with the given shape and dtype; ones_like takes another array and</td>\n",
    "    </tr>\n",
    "    <tr>\n",
    "        <td>ones_like</td>\n",
    "        <td>Produces a ones array of the same shape and dtype</td>\n",
    "    </tr>\n",
    "    <tr>\n",
    "        <td>zeros,</td>\n",
    "        <td>Like ones and ones_like but producing arrays of 0s instead</td>\n",
    "    </tr>\n",
    "    <tr>\n",
    "        <td>zeros_like</td>\n",
    "        <td></td>\n",
    "    </tr>\n",
    "    <tr>\n",
    "        <td>empty,</td>\n",
    "        <td>Create new arrays by allocating new memory, but do not populate with any values like ones and zeros</td>\n",
    "    </tr>\n",
    "    <tr>\n",
    "        <td>empty_like</td>\n",
    "        <td></td>\n",
    "    </tr>\n",
    "    <tr>\n",
    "        <td>full,</td>\n",
    "        <td>Produce an array of the given shape and dtype with all values set to the indicated “fll value”</td>\n",
    "    </tr>\n",
    "    <tr>\n",
    "        <td>full_like</td>\n",
    "        <td>full_like takes another array and produces a flled array of the same shape and dtype</td>\n",
    "    </tr>\n",
    "    <tr>\n",
    "        <td>eye, identity</td>\n",
    "        <td>Create a square N × N identity matrix (1s on the diagonal and 0s elsewhere)</td>\n",
    "    </tr>\n",
    "</table>"
   ]
  },
  {
   "cell_type": "markdown",
   "metadata": {},
   "source": [
    "### Data Types for ndarrays"
   ]
  },
  {
   "cell_type": "code",
   "execution_count": 20,
   "metadata": {},
   "outputs": [
    {
     "data": {
      "text/plain": [
       "dtype('float64')"
      ]
     },
     "execution_count": 20,
     "metadata": {},
     "output_type": "execute_result"
    }
   ],
   "source": [
    "arr1 = np.array([1, 2, 3], dtype=np.float64)\n",
    "arr2 = np.array([1, 2, 3], dtype=np.int32)\n",
    "arr1.dtype"
   ]
  },
  {
   "cell_type": "code",
   "execution_count": 21,
   "metadata": {},
   "outputs": [
    {
     "data": {
      "text/plain": [
       "dtype('int32')"
      ]
     },
     "execution_count": 21,
     "metadata": {},
     "output_type": "execute_result"
    }
   ],
   "source": [
    "arr2.dtype"
   ]
  },
  {
   "cell_type": "code",
   "execution_count": 22,
   "metadata": {},
   "outputs": [
    {
     "data": {
      "text/plain": [
       "dtype('int32')"
      ]
     },
     "execution_count": 22,
     "metadata": {},
     "output_type": "execute_result"
    }
   ],
   "source": [
    "arr = np.array([1, 2, 3, 4, 5])\n",
    "arr.dtype"
   ]
  },
  {
   "cell_type": "code",
   "execution_count": 23,
   "metadata": {},
   "outputs": [
    {
     "data": {
      "text/plain": [
       "dtype('float64')"
      ]
     },
     "execution_count": 23,
     "metadata": {},
     "output_type": "execute_result"
    }
   ],
   "source": [
    "float_arr = arr.astype(np.float64)\n",
    "float_arr.dtype"
   ]
  },
  {
   "cell_type": "code",
   "execution_count": 24,
   "metadata": {},
   "outputs": [
    {
     "data": {
      "text/plain": [
       "array([ 3.7, -1.2, -2.6,  0.5, 12.9, 10.1])"
      ]
     },
     "execution_count": 24,
     "metadata": {},
     "output_type": "execute_result"
    }
   ],
   "source": [
    "arr = np.array([3.7, -1.2, -2.6, 0.5, 12.9, 10.1])\n",
    "arr"
   ]
  },
  {
   "cell_type": "code",
   "execution_count": 25,
   "metadata": {},
   "outputs": [
    {
     "data": {
      "text/plain": [
       "array([ 3, -1, -2,  0, 12, 10])"
      ]
     },
     "execution_count": 25,
     "metadata": {},
     "output_type": "execute_result"
    }
   ],
   "source": [
    "arr.astype(np.int32)"
   ]
  },
  {
   "cell_type": "code",
   "execution_count": 26,
   "metadata": {},
   "outputs": [
    {
     "data": {
      "text/plain": [
       "array([ 1.25, -9.6 , 42.  ])"
      ]
     },
     "execution_count": 26,
     "metadata": {},
     "output_type": "execute_result"
    }
   ],
   "source": [
    "numeric_strings = np.array(['1.25', '-9.6', '42'], dtype=np.string_)\n",
    "numeric_strings.astype(float)"
   ]
  },
  {
   "cell_type": "code",
   "execution_count": 27,
   "metadata": {},
   "outputs": [
    {
     "data": {
      "text/plain": [
       "array([0., 1., 2., 3., 4., 5., 6., 7., 8., 9.])"
      ]
     },
     "execution_count": 27,
     "metadata": {},
     "output_type": "execute_result"
    }
   ],
   "source": [
    "int_array = np.arange(10)\n",
    "calibers = np.array([.22, .270, .357, .380, .44, .50], dtype=np.float64)\n",
    "int_array.astype(calibers.dtype)"
   ]
  },
  {
   "cell_type": "code",
   "execution_count": 28,
   "metadata": {},
   "outputs": [
    {
     "data": {
      "text/plain": [
       "array([         0, 1075314688,          0, 1075707904,          0,\n",
       "       1075838976,          0, 1072693248], dtype=uint32)"
      ]
     },
     "execution_count": 28,
     "metadata": {},
     "output_type": "execute_result"
    }
   ],
   "source": [
    "empty_uint32 = np.empty(8, dtype='u4')\n",
    "empty_uint32"
   ]
  },
  {
   "cell_type": "markdown",
   "metadata": {},
   "source": [
    "**Table 4-2. NumPy data types**\n",
    "<table>\n",
    "    <th>Type</th><th>Type code</th><th>Description</th>\n",
    "    <tr>\n",
    "        <td>int8, uint8</td>\n",
    "        <td>i1, u1</td>\n",
    "        <td>Signed and unsigned 8-bit (1 byte) integer types</td>\n",
    "    </tr>\n",
    "    <tr>\n",
    "        <td>int16, uint16</td>\n",
    "        <td>i2, u2</td>\n",
    "        <td>Signed and unsigned 16-bit integer types</td>\n",
    "    </tr>\n",
    "    <tr>\n",
    "        <td>int32, uint32</td>\n",
    "        <td>i4, u4</td>\n",
    "        <td>Signed and unsigned 32-bit integer types</td>\n",
    "    </tr>\n",
    "    <tr>\n",
    "        <td>int64, uint64</td>\n",
    "        <td>i8, u8</td>\n",
    "        <td>Signed and unsigned 64-bit integer types</td>\n",
    "    </tr>\n",
    "    <tr>\n",
    "        <td>float16</td>\n",
    "        <td>f2</td>\n",
    "        <td>Half-precision floating point</td>\n",
    "    </tr>\n",
    "    <tr>\n",
    "        <td>float32</td>\n",
    "        <td>f4 or f</td>\n",
    "        <td>Standard single-precision floating point; compatible with C float</td>\n",
    "    </tr>\n",
    "    <tr>\n",
    "        <td>float64</td>\n",
    "        <td>f8 or d</td>\n",
    "        <td>Standard double-precision floating point; compatible with C double and Python float object</td>\n",
    "    </tr>\n",
    "    <tr>\n",
    "        <td>float128</td>\n",
    "        <td>f16 or g</td>\n",
    "        <td>Extended-precision floating point</td>\n",
    "    </tr>\n",
    "    <tr>\n",
    "        <td>complex64,</td>\n",
    "        <td>c8, c16,</td>\n",
    "        <td>Complex numbers represented by two 32, 64, or 128 floats, respectively</td>\n",
    "    </tr>\n",
    "    <tr>\n",
    "        <td>complex128,</td>\n",
    "        <td>c32</td>\n",
    "        <td></td>\n",
    "    </tr>\n",
    "    <tr>\n",
    "        <td>complex256</td>\n",
    "        <td></td>\n",
    "        <td></td>\n",
    "    </tr>\n",
    "    <tr>\n",
    "        <td>bool</td>\n",
    "        <td>?</td>\n",
    "        <td>Boolean type storing True and False values</td>\n",
    "    </tr>\n",
    "    <tr>\n",
    "        <td>object</td>\n",
    "        <td>O</td>\n",
    "        <td>Python object type; a value can be any Python object</td>\n",
    "    </tr>\n",
    "    <tr>\n",
    "        <td>string_</td>\n",
    "        <td>S</td>\n",
    "        <td>Fixed-length ASCII string type (1 byte per character); for example, to create a string dtype with length 10, use 'S10'</td>\n",
    "    </tr>\n",
    "    <tr>\n",
    "        <td>unicode_</td>\n",
    "        <td>U</td>\n",
    "        <td>Fixed-length Unicode type (number of bytes platform specifc); same specifcation semantics as string_ (e.g., 'U10')</td>\n",
    "    </tr>\n",
    "</table>"
   ]
  },
  {
   "cell_type": "markdown",
   "metadata": {},
   "source": [
    "### Arithmetic with NumPy Arrays"
   ]
  },
  {
   "cell_type": "code",
   "execution_count": 29,
   "metadata": {},
   "outputs": [
    {
     "data": {
      "text/plain": [
       "array([[1., 2., 3.],\n",
       "       [4., 5., 6.]])"
      ]
     },
     "execution_count": 29,
     "metadata": {},
     "output_type": "execute_result"
    }
   ],
   "source": [
    "arr = np.array([[1., 2., 3.], [4., 5., 6.]])\n",
    "arr"
   ]
  },
  {
   "cell_type": "code",
   "execution_count": 30,
   "metadata": {},
   "outputs": [
    {
     "data": {
      "text/plain": [
       "array([[ 1.,  4.,  9.],\n",
       "       [16., 25., 36.]])"
      ]
     },
     "execution_count": 30,
     "metadata": {},
     "output_type": "execute_result"
    }
   ],
   "source": [
    "arr * arr"
   ]
  },
  {
   "cell_type": "code",
   "execution_count": 31,
   "metadata": {},
   "outputs": [
    {
     "data": {
      "text/plain": [
       "array([[0., 0., 0.],\n",
       "       [0., 0., 0.]])"
      ]
     },
     "execution_count": 31,
     "metadata": {},
     "output_type": "execute_result"
    }
   ],
   "source": [
    "arr - arr"
   ]
  },
  {
   "cell_type": "code",
   "execution_count": 32,
   "metadata": {},
   "outputs": [
    {
     "data": {
      "text/plain": [
       "array([[1.        , 0.5       , 0.33333333],\n",
       "       [0.25      , 0.2       , 0.16666667]])"
      ]
     },
     "execution_count": 32,
     "metadata": {},
     "output_type": "execute_result"
    }
   ],
   "source": [
    "1 / arr"
   ]
  },
  {
   "cell_type": "code",
   "execution_count": 33,
   "metadata": {},
   "outputs": [
    {
     "data": {
      "text/plain": [
       "array([[1.        , 1.41421356, 1.73205081],\n",
       "       [2.        , 2.23606798, 2.44948974]])"
      ]
     },
     "execution_count": 33,
     "metadata": {},
     "output_type": "execute_result"
    }
   ],
   "source": [
    "arr ** 0.5"
   ]
  },
  {
   "cell_type": "code",
   "execution_count": 34,
   "metadata": {},
   "outputs": [
    {
     "data": {
      "text/plain": [
       "array([[ 0.,  4.,  1.],\n",
       "       [ 7.,  2., 12.]])"
      ]
     },
     "execution_count": 34,
     "metadata": {},
     "output_type": "execute_result"
    }
   ],
   "source": [
    "arr2 = np.array([[0., 4., 1.], [7., 2., 12.]])\n",
    "arr2"
   ]
  },
  {
   "cell_type": "code",
   "execution_count": 35,
   "metadata": {},
   "outputs": [
    {
     "data": {
      "text/plain": [
       "array([[False,  True, False],\n",
       "       [ True, False,  True]])"
      ]
     },
     "execution_count": 35,
     "metadata": {},
     "output_type": "execute_result"
    }
   ],
   "source": [
    "arr2 > arr"
   ]
  },
  {
   "cell_type": "markdown",
   "metadata": {},
   "source": [
    "### Basic Indexing and Slicing"
   ]
  },
  {
   "cell_type": "code",
   "execution_count": 36,
   "metadata": {},
   "outputs": [
    {
     "data": {
      "text/plain": [
       "array([0, 1, 2, 3, 4, 5, 6, 7, 8, 9])"
      ]
     },
     "execution_count": 36,
     "metadata": {},
     "output_type": "execute_result"
    }
   ],
   "source": [
    "arr = np.arange(10)\n",
    "arr"
   ]
  },
  {
   "cell_type": "code",
   "execution_count": 37,
   "metadata": {},
   "outputs": [
    {
     "data": {
      "text/plain": [
       "5"
      ]
     },
     "execution_count": 37,
     "metadata": {},
     "output_type": "execute_result"
    }
   ],
   "source": [
    "arr[5]"
   ]
  },
  {
   "cell_type": "code",
   "execution_count": 38,
   "metadata": {},
   "outputs": [
    {
     "data": {
      "text/plain": [
       "array([5, 6, 7])"
      ]
     },
     "execution_count": 38,
     "metadata": {},
     "output_type": "execute_result"
    }
   ],
   "source": [
    "arr[5:8]"
   ]
  },
  {
   "cell_type": "code",
   "execution_count": 39,
   "metadata": {},
   "outputs": [
    {
     "data": {
      "text/plain": [
       "array([ 0,  1,  2,  3,  4, 12, 12, 12,  8,  9])"
      ]
     },
     "execution_count": 39,
     "metadata": {},
     "output_type": "execute_result"
    }
   ],
   "source": [
    "arr[5:8] = 12\n",
    "arr"
   ]
  },
  {
   "cell_type": "code",
   "execution_count": 40,
   "metadata": {},
   "outputs": [
    {
     "data": {
      "text/plain": [
       "array([12, 12, 12])"
      ]
     },
     "execution_count": 40,
     "metadata": {},
     "output_type": "execute_result"
    }
   ],
   "source": [
    "arr_slice = arr[5:8]\n",
    "arr_slice"
   ]
  },
  {
   "cell_type": "code",
   "execution_count": 41,
   "metadata": {},
   "outputs": [
    {
     "data": {
      "text/plain": [
       "array([    0,     1,     2,     3,     4,    12, 12345,    12,     8,\n",
       "           9])"
      ]
     },
     "execution_count": 41,
     "metadata": {},
     "output_type": "execute_result"
    }
   ],
   "source": [
    "arr_slice[1] = 12345\n",
    "arr"
   ]
  },
  {
   "cell_type": "code",
   "execution_count": 42,
   "metadata": {},
   "outputs": [
    {
     "data": {
      "text/plain": [
       "array([ 0,  1,  2,  3,  4, 64, 64, 64,  8,  9])"
      ]
     },
     "execution_count": 42,
     "metadata": {},
     "output_type": "execute_result"
    }
   ],
   "source": [
    "arr_slice[:] = 64\n",
    "arr"
   ]
  },
  {
   "cell_type": "code",
   "execution_count": 43,
   "metadata": {},
   "outputs": [
    {
     "data": {
      "text/plain": [
       "array([7, 8, 9])"
      ]
     },
     "execution_count": 43,
     "metadata": {},
     "output_type": "execute_result"
    }
   ],
   "source": [
    "arr2d = np.array([[1, 2, 3], [4, 5, 6], [7, 8, 9]])\n",
    "arr2d[2]"
   ]
  },
  {
   "cell_type": "code",
   "execution_count": 44,
   "metadata": {},
   "outputs": [
    {
     "data": {
      "text/plain": [
       "3"
      ]
     },
     "execution_count": 44,
     "metadata": {},
     "output_type": "execute_result"
    }
   ],
   "source": [
    "arr2d[0][2]\n",
    "arr2d[0, 2]"
   ]
  },
  {
   "cell_type": "code",
   "execution_count": 45,
   "metadata": {},
   "outputs": [
    {
     "data": {
      "text/plain": [
       "array([[[ 1,  2,  3],\n",
       "        [ 4,  5,  6]],\n",
       "\n",
       "       [[ 7,  8,  9],\n",
       "        [10, 11, 12]]])"
      ]
     },
     "execution_count": 45,
     "metadata": {},
     "output_type": "execute_result"
    }
   ],
   "source": [
    "arr3d = np.array([[[1, 2, 3], [4, 5, 6]], [[7, 8, 9], [10, 11, 12]]])\n",
    "arr3d"
   ]
  },
  {
   "cell_type": "code",
   "execution_count": 46,
   "metadata": {},
   "outputs": [
    {
     "data": {
      "text/plain": [
       "array([[1, 2, 3],\n",
       "       [4, 5, 6]])"
      ]
     },
     "execution_count": 46,
     "metadata": {},
     "output_type": "execute_result"
    }
   ],
   "source": [
    "arr3d[0]"
   ]
  },
  {
   "cell_type": "code",
   "execution_count": 47,
   "metadata": {},
   "outputs": [
    {
     "data": {
      "text/plain": [
       "array([[[42, 42, 42],\n",
       "        [42, 42, 42]],\n",
       "\n",
       "       [[ 7,  8,  9],\n",
       "        [10, 11, 12]]])"
      ]
     },
     "execution_count": 47,
     "metadata": {},
     "output_type": "execute_result"
    }
   ],
   "source": [
    "old_values = arr3d[0].copy()\n",
    "arr3d[0] = 42\n",
    "arr3d"
   ]
  },
  {
   "cell_type": "code",
   "execution_count": 48,
   "metadata": {},
   "outputs": [
    {
     "data": {
      "text/plain": [
       "array([[[ 1,  2,  3],\n",
       "        [ 4,  5,  6]],\n",
       "\n",
       "       [[ 7,  8,  9],\n",
       "        [10, 11, 12]]])"
      ]
     },
     "execution_count": 48,
     "metadata": {},
     "output_type": "execute_result"
    }
   ],
   "source": [
    "arr3d[0] = old_values\n",
    "arr3d"
   ]
  },
  {
   "cell_type": "code",
   "execution_count": 49,
   "metadata": {},
   "outputs": [
    {
     "data": {
      "text/plain": [
       "array([7, 8, 9])"
      ]
     },
     "execution_count": 49,
     "metadata": {},
     "output_type": "execute_result"
    }
   ],
   "source": [
    "arr3d[1, 0]"
   ]
  },
  {
   "cell_type": "code",
   "execution_count": 50,
   "metadata": {},
   "outputs": [
    {
     "data": {
      "text/plain": [
       "array([[ 7,  8,  9],\n",
       "       [10, 11, 12]])"
      ]
     },
     "execution_count": 50,
     "metadata": {},
     "output_type": "execute_result"
    }
   ],
   "source": [
    "x = arr3d[1]\n",
    "x"
   ]
  },
  {
   "cell_type": "code",
   "execution_count": 51,
   "metadata": {},
   "outputs": [
    {
     "data": {
      "text/plain": [
       "array([7, 8, 9])"
      ]
     },
     "execution_count": 51,
     "metadata": {},
     "output_type": "execute_result"
    }
   ],
   "source": [
    "x[0]"
   ]
  },
  {
   "cell_type": "markdown",
   "metadata": {},
   "source": [
    "#### Indexing with slices"
   ]
  },
  {
   "cell_type": "code",
   "execution_count": 52,
   "metadata": {},
   "outputs": [
    {
     "data": {
      "text/plain": [
       "array([ 0,  1,  2,  3,  4, 64, 64, 64,  8,  9])"
      ]
     },
     "execution_count": 52,
     "metadata": {},
     "output_type": "execute_result"
    }
   ],
   "source": [
    "arr"
   ]
  },
  {
   "cell_type": "code",
   "execution_count": 53,
   "metadata": {},
   "outputs": [
    {
     "data": {
      "text/plain": [
       "array([ 1,  2,  3,  4, 64])"
      ]
     },
     "execution_count": 53,
     "metadata": {},
     "output_type": "execute_result"
    }
   ],
   "source": [
    "arr[1:6]"
   ]
  },
  {
   "cell_type": "code",
   "execution_count": 54,
   "metadata": {},
   "outputs": [
    {
     "data": {
      "text/plain": [
       "array([[1, 2, 3],\n",
       "       [4, 5, 6],\n",
       "       [7, 8, 9]])"
      ]
     },
     "execution_count": 54,
     "metadata": {},
     "output_type": "execute_result"
    }
   ],
   "source": [
    "arr2d"
   ]
  },
  {
   "cell_type": "code",
   "execution_count": 55,
   "metadata": {},
   "outputs": [
    {
     "data": {
      "text/plain": [
       "array([[1, 2, 3],\n",
       "       [4, 5, 6]])"
      ]
     },
     "execution_count": 55,
     "metadata": {},
     "output_type": "execute_result"
    }
   ],
   "source": [
    "arr2d[:2]"
   ]
  },
  {
   "cell_type": "code",
   "execution_count": 56,
   "metadata": {},
   "outputs": [
    {
     "data": {
      "text/plain": [
       "array([[2, 3],\n",
       "       [5, 6]])"
      ]
     },
     "execution_count": 56,
     "metadata": {},
     "output_type": "execute_result"
    }
   ],
   "source": [
    "arr2d[:2, 1:]"
   ]
  },
  {
   "cell_type": "code",
   "execution_count": 57,
   "metadata": {},
   "outputs": [
    {
     "data": {
      "text/plain": [
       "array([4, 5])"
      ]
     },
     "execution_count": 57,
     "metadata": {},
     "output_type": "execute_result"
    }
   ],
   "source": [
    "arr2d[1, :2]"
   ]
  },
  {
   "cell_type": "code",
   "execution_count": 58,
   "metadata": {},
   "outputs": [
    {
     "data": {
      "text/plain": [
       "array([3, 6])"
      ]
     },
     "execution_count": 58,
     "metadata": {},
     "output_type": "execute_result"
    }
   ],
   "source": [
    "arr2d[:2, 2]"
   ]
  },
  {
   "cell_type": "code",
   "execution_count": 59,
   "metadata": {},
   "outputs": [
    {
     "data": {
      "text/plain": [
       "array([[1],\n",
       "       [4],\n",
       "       [7]])"
      ]
     },
     "execution_count": 59,
     "metadata": {},
     "output_type": "execute_result"
    }
   ],
   "source": [
    "arr2d[:, :1]"
   ]
  },
  {
   "cell_type": "code",
   "execution_count": 60,
   "metadata": {},
   "outputs": [
    {
     "data": {
      "text/plain": [
       "array([[1, 0, 0],\n",
       "       [4, 0, 0],\n",
       "       [7, 8, 9]])"
      ]
     },
     "execution_count": 60,
     "metadata": {},
     "output_type": "execute_result"
    }
   ],
   "source": [
    "arr2d[:2, 1:] = 0\n",
    "arr2d"
   ]
  },
  {
   "cell_type": "markdown",
   "metadata": {},
   "source": [
    "### Boolean Indexing"
   ]
  },
  {
   "cell_type": "code",
   "execution_count": 61,
   "metadata": {},
   "outputs": [
    {
     "data": {
      "text/plain": [
       "array(['Bob', 'Joe', 'Will', 'Bob', 'Will', 'Joe', 'Joe'], dtype='<U4')"
      ]
     },
     "execution_count": 61,
     "metadata": {},
     "output_type": "execute_result"
    }
   ],
   "source": [
    "names = np.array(['Bob', 'Joe', 'Will', 'Bob', 'Will', 'Joe', 'Joe'])\n",
    "data = np.random.randn(7, 4)\n",
    "names"
   ]
  },
  {
   "cell_type": "code",
   "execution_count": 62,
   "metadata": {},
   "outputs": [
    {
     "data": {
      "text/plain": [
       "array([[-1.2884045 ,  0.43971163,  0.77574932, -0.08732276],\n",
       "       [-1.05390756, -1.04448856, -0.12723408,  1.77418235],\n",
       "       [-1.96043464, -1.28578088, -1.45685371, -0.13705902],\n",
       "       [ 0.0688367 , -0.43321883, -0.19379834,  0.45413113],\n",
       "       [ 0.93182253,  0.48288264, -0.91986812,  0.83993291],\n",
       "       [ 1.47424497,  0.69413723, -0.10414789,  0.93961023],\n",
       "       [-1.49847883,  0.44228584, -0.1215715 , -0.98132498]])"
      ]
     },
     "execution_count": 62,
     "metadata": {},
     "output_type": "execute_result"
    }
   ],
   "source": [
    "data"
   ]
  },
  {
   "cell_type": "code",
   "execution_count": 63,
   "metadata": {},
   "outputs": [
    {
     "data": {
      "text/plain": [
       "array([ True, False, False,  True, False, False, False])"
      ]
     },
     "execution_count": 63,
     "metadata": {},
     "output_type": "execute_result"
    }
   ],
   "source": [
    "names == 'Bob'"
   ]
  },
  {
   "cell_type": "code",
   "execution_count": 64,
   "metadata": {},
   "outputs": [
    {
     "data": {
      "text/plain": [
       "array([[-1.2884045 ,  0.43971163,  0.77574932, -0.08732276],\n",
       "       [ 0.0688367 , -0.43321883, -0.19379834,  0.45413113]])"
      ]
     },
     "execution_count": 64,
     "metadata": {},
     "output_type": "execute_result"
    }
   ],
   "source": [
    "data[names == 'Bob']"
   ]
  },
  {
   "cell_type": "code",
   "execution_count": 65,
   "metadata": {},
   "outputs": [
    {
     "data": {
      "text/plain": [
       "array([-0.08732276,  0.45413113])"
      ]
     },
     "execution_count": 65,
     "metadata": {},
     "output_type": "execute_result"
    }
   ],
   "source": [
    "data[names == 'Bob', 2:]\n",
    "data[names == 'Bob', 3]"
   ]
  },
  {
   "cell_type": "code",
   "execution_count": 66,
   "metadata": {},
   "outputs": [
    {
     "data": {
      "text/plain": [
       "array([[-1.05390756, -1.04448856, -0.12723408,  1.77418235],\n",
       "       [-1.96043464, -1.28578088, -1.45685371, -0.13705902],\n",
       "       [ 0.93182253,  0.48288264, -0.91986812,  0.83993291],\n",
       "       [ 1.47424497,  0.69413723, -0.10414789,  0.93961023],\n",
       "       [-1.49847883,  0.44228584, -0.1215715 , -0.98132498]])"
      ]
     },
     "execution_count": 66,
     "metadata": {},
     "output_type": "execute_result"
    }
   ],
   "source": [
    "names != 'Bob'\n",
    "data[~(names == 'Bob')]"
   ]
  },
  {
   "cell_type": "code",
   "execution_count": 67,
   "metadata": {},
   "outputs": [
    {
     "data": {
      "text/plain": [
       "array([[-1.05390756, -1.04448856, -0.12723408,  1.77418235],\n",
       "       [-1.96043464, -1.28578088, -1.45685371, -0.13705902],\n",
       "       [ 0.93182253,  0.48288264, -0.91986812,  0.83993291],\n",
       "       [ 1.47424497,  0.69413723, -0.10414789,  0.93961023],\n",
       "       [-1.49847883,  0.44228584, -0.1215715 , -0.98132498]])"
      ]
     },
     "execution_count": 67,
     "metadata": {},
     "output_type": "execute_result"
    }
   ],
   "source": [
    "cond = names == 'Bob'\n",
    "data[~cond]"
   ]
  },
  {
   "cell_type": "code",
   "execution_count": 68,
   "metadata": {},
   "outputs": [
    {
     "data": {
      "text/plain": [
       "array([[-1.2884045 ,  0.43971163,  0.77574932, -0.08732276],\n",
       "       [-1.96043464, -1.28578088, -1.45685371, -0.13705902],\n",
       "       [ 0.0688367 , -0.43321883, -0.19379834,  0.45413113],\n",
       "       [ 0.93182253,  0.48288264, -0.91986812,  0.83993291]])"
      ]
     },
     "execution_count": 68,
     "metadata": {},
     "output_type": "execute_result"
    }
   ],
   "source": [
    "mask = (names == 'Bob') | (names == 'Will')\n",
    "mask\n",
    "data[mask]"
   ]
  },
  {
   "cell_type": "code",
   "execution_count": 69,
   "metadata": {},
   "outputs": [
    {
     "data": {
      "text/plain": [
       "array([[0.        , 0.43971163, 0.77574932, 0.        ],\n",
       "       [0.        , 0.        , 0.        , 1.77418235],\n",
       "       [0.        , 0.        , 0.        , 0.        ],\n",
       "       [0.0688367 , 0.        , 0.        , 0.45413113],\n",
       "       [0.93182253, 0.48288264, 0.        , 0.83993291],\n",
       "       [1.47424497, 0.69413723, 0.        , 0.93961023],\n",
       "       [0.        , 0.44228584, 0.        , 0.        ]])"
      ]
     },
     "execution_count": 69,
     "metadata": {},
     "output_type": "execute_result"
    }
   ],
   "source": [
    "data[data < 0] = 0\n",
    "data"
   ]
  },
  {
   "cell_type": "code",
   "execution_count": 70,
   "metadata": {},
   "outputs": [
    {
     "data": {
      "text/plain": [
       "array([[7.        , 7.        , 7.        , 7.        ],\n",
       "       [0.        , 0.        , 0.        , 1.77418235],\n",
       "       [7.        , 7.        , 7.        , 7.        ],\n",
       "       [7.        , 7.        , 7.        , 7.        ],\n",
       "       [7.        , 7.        , 7.        , 7.        ],\n",
       "       [1.47424497, 0.69413723, 0.        , 0.93961023],\n",
       "       [0.        , 0.44228584, 0.        , 0.        ]])"
      ]
     },
     "execution_count": 70,
     "metadata": {},
     "output_type": "execute_result"
    }
   ],
   "source": [
    "data[names != 'Joe'] = 7\n",
    "data"
   ]
  },
  {
   "cell_type": "markdown",
   "metadata": {},
   "source": [
    "### Fancy Indexing"
   ]
  },
  {
   "cell_type": "code",
   "execution_count": 71,
   "metadata": {},
   "outputs": [
    {
     "data": {
      "text/plain": [
       "array([[0., 0., 0., 0.],\n",
       "       [1., 1., 1., 1.],\n",
       "       [2., 2., 2., 2.],\n",
       "       [3., 3., 3., 3.],\n",
       "       [4., 4., 4., 4.],\n",
       "       [5., 5., 5., 5.],\n",
       "       [6., 6., 6., 6.],\n",
       "       [7., 7., 7., 7.]])"
      ]
     },
     "execution_count": 71,
     "metadata": {},
     "output_type": "execute_result"
    }
   ],
   "source": [
    "arr = np.empty((8, 4))\n",
    "for i in range(8):\n",
    "    arr[i] = i\n",
    "arr"
   ]
  },
  {
   "cell_type": "code",
   "execution_count": 72,
   "metadata": {},
   "outputs": [
    {
     "data": {
      "text/plain": [
       "array([[4., 4., 4., 4.],\n",
       "       [3., 3., 3., 3.],\n",
       "       [0., 0., 0., 0.],\n",
       "       [6., 6., 6., 6.]])"
      ]
     },
     "execution_count": 72,
     "metadata": {},
     "output_type": "execute_result"
    }
   ],
   "source": [
    "arr[[4, 3, 0, 6]]"
   ]
  },
  {
   "cell_type": "code",
   "execution_count": 73,
   "metadata": {},
   "outputs": [
    {
     "data": {
      "text/plain": [
       "array([[5., 5., 5., 5.],\n",
       "       [3., 3., 3., 3.],\n",
       "       [1., 1., 1., 1.]])"
      ]
     },
     "execution_count": 73,
     "metadata": {},
     "output_type": "execute_result"
    }
   ],
   "source": [
    "arr[[-3, -5, -7]]"
   ]
  },
  {
   "cell_type": "code",
   "execution_count": 74,
   "metadata": {},
   "outputs": [
    {
     "data": {
      "text/plain": [
       "array([[ 0,  1,  2,  3],\n",
       "       [ 4,  5,  6,  7],\n",
       "       [ 8,  9, 10, 11],\n",
       "       [12, 13, 14, 15],\n",
       "       [16, 17, 18, 19],\n",
       "       [20, 21, 22, 23],\n",
       "       [24, 25, 26, 27],\n",
       "       [28, 29, 30, 31]])"
      ]
     },
     "execution_count": 74,
     "metadata": {},
     "output_type": "execute_result"
    }
   ],
   "source": [
    "arr = np.arange(32).reshape((8, 4))\n",
    "arr"
   ]
  },
  {
   "cell_type": "code",
   "execution_count": 75,
   "metadata": {},
   "outputs": [
    {
     "data": {
      "text/plain": [
       "array([ 4, 23, 29, 10])"
      ]
     },
     "execution_count": 75,
     "metadata": {},
     "output_type": "execute_result"
    }
   ],
   "source": [
    "arr[[1, 5, 7, 2], [0, 3, 1, 2]]"
   ]
  },
  {
   "cell_type": "code",
   "execution_count": 76,
   "metadata": {},
   "outputs": [
    {
     "data": {
      "text/plain": [
       "array([[ 4,  7,  5,  6],\n",
       "       [20, 23, 21, 22],\n",
       "       [28, 31, 29, 30],\n",
       "       [ 8, 11,  9, 10]])"
      ]
     },
     "execution_count": 76,
     "metadata": {},
     "output_type": "execute_result"
    }
   ],
   "source": [
    "arr[[1, 5, 7, 2]][:, [0, 3, 1, 2]]"
   ]
  },
  {
   "cell_type": "markdown",
   "metadata": {},
   "source": [
    "### Transposing Arrays and Swapping Axes"
   ]
  },
  {
   "cell_type": "code",
   "execution_count": 77,
   "metadata": {},
   "outputs": [
    {
     "data": {
      "text/plain": [
       "array([[ 0,  1,  2,  3,  4],\n",
       "       [ 5,  6,  7,  8,  9],\n",
       "       [10, 11, 12, 13, 14]])"
      ]
     },
     "execution_count": 77,
     "metadata": {},
     "output_type": "execute_result"
    }
   ],
   "source": [
    "arr = np.arange(15).reshape((3, 5))\n",
    "arr"
   ]
  },
  {
   "cell_type": "code",
   "execution_count": 78,
   "metadata": {},
   "outputs": [
    {
     "data": {
      "text/plain": [
       "array([[ 0,  5, 10],\n",
       "       [ 1,  6, 11],\n",
       "       [ 2,  7, 12],\n",
       "       [ 3,  8, 13],\n",
       "       [ 4,  9, 14]])"
      ]
     },
     "execution_count": 78,
     "metadata": {},
     "output_type": "execute_result"
    }
   ],
   "source": [
    "arr.T"
   ]
  },
  {
   "cell_type": "code",
   "execution_count": 79,
   "metadata": {},
   "outputs": [
    {
     "data": {
      "text/plain": [
       "array([[-0.17984192,  1.39033369, -0.50377318],\n",
       "       [-1.75001679,  0.54227017,  1.47461818],\n",
       "       [ 0.71749921, -0.57019808, -0.58310268],\n",
       "       [-0.17509247,  1.35434199, -0.88918391],\n",
       "       [-1.73905713,  2.3405099 ,  2.28635002],\n",
       "       [-0.83375834,  0.08036202, -0.85790714]])"
      ]
     },
     "execution_count": 79,
     "metadata": {},
     "output_type": "execute_result"
    }
   ],
   "source": [
    "arr = np.random.randn(6, 3)\n",
    "arr"
   ]
  },
  {
   "cell_type": "code",
   "execution_count": 80,
   "metadata": {},
   "outputs": [
    {
     "data": {
      "text/plain": [
       "array([[ 7.35983704, -5.98255686, -6.01349941],\n",
       "       [-5.98255686,  9.87089743,  4.50973525],\n",
       "       [-6.01349941,  4.50973525,  9.52234401]])"
      ]
     },
     "execution_count": 80,
     "metadata": {},
     "output_type": "execute_result"
    }
   ],
   "source": [
    "np.dot(arr.T, arr)"
   ]
  },
  {
   "cell_type": "code",
   "execution_count": 81,
   "metadata": {},
   "outputs": [
    {
     "data": {
      "text/plain": [
       "array([[[ 0,  1,  2,  3],\n",
       "        [ 4,  5,  6,  7]],\n",
       "\n",
       "       [[ 8,  9, 10, 11],\n",
       "        [12, 13, 14, 15]]])"
      ]
     },
     "execution_count": 81,
     "metadata": {},
     "output_type": "execute_result"
    }
   ],
   "source": [
    "arr = np.arange(16).reshape((2, 2, 4))\n",
    "arr"
   ]
  },
  {
   "cell_type": "code",
   "execution_count": 82,
   "metadata": {},
   "outputs": [
    {
     "data": {
      "text/plain": [
       "array([[[ 0,  1,  2,  3],\n",
       "        [ 8,  9, 10, 11]],\n",
       "\n",
       "       [[ 4,  5,  6,  7],\n",
       "        [12, 13, 14, 15]]])"
      ]
     },
     "execution_count": 82,
     "metadata": {},
     "output_type": "execute_result"
    }
   ],
   "source": [
    "arr.transpose((1, 0, 2))"
   ]
  },
  {
   "cell_type": "code",
   "execution_count": 83,
   "metadata": {},
   "outputs": [
    {
     "data": {
      "text/plain": [
       "array([[[ 0,  1,  2,  3],\n",
       "        [ 4,  5,  6,  7]],\n",
       "\n",
       "       [[ 8,  9, 10, 11],\n",
       "        [12, 13, 14, 15]]])"
      ]
     },
     "execution_count": 83,
     "metadata": {},
     "output_type": "execute_result"
    }
   ],
   "source": [
    "arr"
   ]
  },
  {
   "cell_type": "code",
   "execution_count": 84,
   "metadata": {},
   "outputs": [
    {
     "data": {
      "text/plain": [
       "array([[[ 0,  4],\n",
       "        [ 1,  5],\n",
       "        [ 2,  6],\n",
       "        [ 3,  7]],\n",
       "\n",
       "       [[ 8, 12],\n",
       "        [ 9, 13],\n",
       "        [10, 14],\n",
       "        [11, 15]]])"
      ]
     },
     "execution_count": 84,
     "metadata": {},
     "output_type": "execute_result"
    }
   ],
   "source": [
    "arr.swapaxes(1, 2)"
   ]
  },
  {
   "cell_type": "markdown",
   "metadata": {},
   "source": [
    "## Universal Functions: Fast Element-Wise Array Functions"
   ]
  },
  {
   "cell_type": "code",
   "execution_count": 85,
   "metadata": {},
   "outputs": [
    {
     "data": {
      "text/plain": [
       "array([0, 1, 2, 3, 4, 5, 6, 7, 8, 9])"
      ]
     },
     "execution_count": 85,
     "metadata": {},
     "output_type": "execute_result"
    }
   ],
   "source": [
    "arr = np.arange(10)\n",
    "arr"
   ]
  },
  {
   "cell_type": "code",
   "execution_count": 86,
   "metadata": {},
   "outputs": [
    {
     "data": {
      "text/plain": [
       "array([0.        , 1.        , 1.41421356, 1.73205081, 2.        ,\n",
       "       2.23606798, 2.44948974, 2.64575131, 2.82842712, 3.        ])"
      ]
     },
     "execution_count": 86,
     "metadata": {},
     "output_type": "execute_result"
    }
   ],
   "source": [
    "np.sqrt(arr)"
   ]
  },
  {
   "cell_type": "code",
   "execution_count": 87,
   "metadata": {},
   "outputs": [
    {
     "data": {
      "text/plain": [
       "array([1.00000000e+00, 2.71828183e+00, 7.38905610e+00, 2.00855369e+01,\n",
       "       5.45981500e+01, 1.48413159e+02, 4.03428793e+02, 1.09663316e+03,\n",
       "       2.98095799e+03, 8.10308393e+03])"
      ]
     },
     "execution_count": 87,
     "metadata": {},
     "output_type": "execute_result"
    }
   ],
   "source": [
    "np.exp(arr)"
   ]
  },
  {
   "cell_type": "code",
   "execution_count": 88,
   "metadata": {},
   "outputs": [
    {
     "data": {
      "text/plain": [
       "array([ 1.28111097,  1.43230332, -0.62552916,  2.12896085, -1.8634823 ,\n",
       "       -0.04475843,  0.20305139, -0.32360944])"
      ]
     },
     "execution_count": 88,
     "metadata": {},
     "output_type": "execute_result"
    }
   ],
   "source": [
    "x = np.random.randn(8)\n",
    "y = np.random.randn(8)\n",
    "x"
   ]
  },
  {
   "cell_type": "code",
   "execution_count": 89,
   "metadata": {},
   "outputs": [
    {
     "data": {
      "text/plain": [
       "array([-0.920804  ,  0.16735258, -0.49668336, -0.32711908,  2.17857623,\n",
       "        0.50662432,  0.40142541, -2.71273165])"
      ]
     },
     "execution_count": 89,
     "metadata": {},
     "output_type": "execute_result"
    }
   ],
   "source": [
    "y"
   ]
  },
  {
   "cell_type": "code",
   "execution_count": 90,
   "metadata": {},
   "outputs": [
    {
     "data": {
      "text/plain": [
       "array([ 1.28111097,  1.43230332, -0.49668336,  2.12896085,  2.17857623,\n",
       "        0.50662432,  0.40142541, -0.32360944])"
      ]
     },
     "execution_count": 90,
     "metadata": {},
     "output_type": "execute_result"
    }
   ],
   "source": [
    "np.maximum(x, y)"
   ]
  },
  {
   "cell_type": "code",
   "execution_count": 91,
   "metadata": {},
   "outputs": [
    {
     "data": {
      "text/plain": [
       "array([-5.23683216,  1.78833306, -3.29991433,  2.38491035, -5.93414982,\n",
       "        0.09428134, -2.46007036])"
      ]
     },
     "execution_count": 91,
     "metadata": {},
     "output_type": "execute_result"
    }
   ],
   "source": [
    "arr = np.random.randn(7) * 5\n",
    "arr"
   ]
  },
  {
   "cell_type": "code",
   "execution_count": 92,
   "metadata": {},
   "outputs": [
    {
     "data": {
      "text/plain": [
       "array([-0.23683216,  0.78833306, -0.29991433,  0.38491035, -0.93414982,\n",
       "        0.09428134, -0.46007036])"
      ]
     },
     "execution_count": 92,
     "metadata": {},
     "output_type": "execute_result"
    }
   ],
   "source": [
    "remainder, whole_part = np.modf(arr)\n",
    "remainder"
   ]
  },
  {
   "cell_type": "code",
   "execution_count": 93,
   "metadata": {},
   "outputs": [
    {
     "data": {
      "text/plain": [
       "array([-5.,  1., -3.,  2., -5.,  0., -2.])"
      ]
     },
     "execution_count": 93,
     "metadata": {},
     "output_type": "execute_result"
    }
   ],
   "source": [
    "whole_part"
   ]
  },
  {
   "cell_type": "code",
   "execution_count": 94,
   "metadata": {},
   "outputs": [
    {
     "data": {
      "text/plain": [
       "array([-5.23683216,  1.78833306, -3.29991433,  2.38491035, -5.93414982,\n",
       "        0.09428134, -2.46007036])"
      ]
     },
     "execution_count": 94,
     "metadata": {},
     "output_type": "execute_result"
    }
   ],
   "source": [
    "arr"
   ]
  },
  {
   "cell_type": "code",
   "execution_count": 95,
   "metadata": {},
   "outputs": [
    {
     "name": "stderr",
     "output_type": "stream",
     "text": [
      "D:\\Anaconda3\\lib\\site-packages\\ipykernel_launcher.py:1: RuntimeWarning: invalid value encountered in sqrt\n",
      "  \"\"\"Entry point for launching an IPython kernel.\n"
     ]
    },
    {
     "data": {
      "text/plain": [
       "array([       nan, 1.33728571,        nan, 1.54431549,        nan,\n",
       "       0.30705267,        nan])"
      ]
     },
     "execution_count": 95,
     "metadata": {},
     "output_type": "execute_result"
    }
   ],
   "source": [
    "np.sqrt(arr)"
   ]
  },
  {
   "cell_type": "code",
   "execution_count": 96,
   "metadata": {},
   "outputs": [
    {
     "name": "stderr",
     "output_type": "stream",
     "text": [
      "D:\\Anaconda3\\lib\\site-packages\\ipykernel_launcher.py:1: RuntimeWarning: invalid value encountered in sqrt\n",
      "  \"\"\"Entry point for launching an IPython kernel.\n"
     ]
    },
    {
     "data": {
      "text/plain": [
       "array([       nan, 1.33728571,        nan, 1.54431549,        nan,\n",
       "       0.30705267,        nan])"
      ]
     },
     "execution_count": 96,
     "metadata": {},
     "output_type": "execute_result"
    }
   ],
   "source": [
    "np.sqrt(arr, arr)"
   ]
  },
  {
   "cell_type": "code",
   "execution_count": 97,
   "metadata": {},
   "outputs": [
    {
     "data": {
      "text/plain": [
       "array([       nan, 1.33728571,        nan, 1.54431549,        nan,\n",
       "       0.30705267,        nan])"
      ]
     },
     "execution_count": 97,
     "metadata": {},
     "output_type": "execute_result"
    }
   ],
   "source": [
    "arr"
   ]
  },
  {
   "cell_type": "markdown",
   "metadata": {},
   "source": [
    "**Table 4-3. Unary ufuncs**\n",
    "<table>\n",
    "    <th>Function</th>\n",
    "    <th>Description</th>\n",
    "    <tr>\n",
    "        <td>abs, fabs</td>\n",
    "        <td>Compute the absolute value element-wise for integer, floating-point, or complex values</td>\n",
    "    </tr>\n",
    "    <tr>\n",
    "        <td>sqrt</td>\n",
    "        <td>Compute the square root of each element (equivalent to arr `**` 0.5)</td>\n",
    "    </tr>\n",
    "    <tr>\n",
    "        <td>square</td>\n",
    "        <td>Compute the square of each element (equivalent to arr ** 2)</td>\n",
    "    </tr>\n",
    "    <tr>\n",
    "        <td>exp</td>\n",
    "        <td>Compute the exponent ex of each element</td>\n",
    "    </tr>\n",
    "    <tr>\n",
    "        <td>log, log10, log2, log1p</td>\n",
    "        <td>Natural logarithm (base e), log base 10, log base 2, and log(1 + x), respectively</td>\n",
    "    </tr>\n",
    "    <tr>\n",
    "        <td>sign</td>\n",
    "        <td>Compute the sign of each element: 1 (positive), 0 (zero), or –1 (negative)</td>\n",
    "    </tr>\n",
    "    <tr>\n",
    "        <td>ceil</td>\n",
    "        <td>Compute the ceiling of each element (i.e., the smallest integer greater than or equal to that number)</td>\n",
    "    </tr>\n",
    "    <tr>\n",
    "        <td>floor</td>\n",
    "        <td>Compute the floor of each element (i.e., the largest integer less than or equal to each element)</td>\n",
    "    </tr>\n",
    "    <tr>\n",
    "        <td>rint</td>\n",
    "        <td>Round elements to the nearest integer, preserving the dtype</td>\n",
    "    </tr>\n",
    "    <tr>\n",
    "        <td>modf</td>\n",
    "        <td>Return fractional and integral parts of array as a separate array</td>\n",
    "    </tr>\n",
    "    <tr>\n",
    "        <td>isnan</td>\n",
    "        <td>Return boolean array indicating whether each value is NaN (Not a Number)</td>\n",
    "    </tr>\n",
    "    <tr>\n",
    "        <td>isfinite, isinf</td>\n",
    "        <td>Return boolean array indicating whether each element is fnite (non-inf, non-NaN) or infnite, respectively</td>\n",
    "    </tr>\n",
    "    <tr>\n",
    "        <td>cos, cosh, sin, sinh, tan, tanh</td>\n",
    "        <td>Regular and hyperbolic trigonometric functions</td>\n",
    "    </tr>\n",
    "    <tr>\n",
    "        <td>arccos, arccosh, arcsin, arcsinh, arctan, arctanh</td>\n",
    "        <td>Inverse trigonometric functions</td>\n",
    "    </tr>\n",
    "    <tr>\n",
    "        <td>logical_not</td>\n",
    "        <td>Compute truth value of not x element-wise (equivalent to ~arr)</td>\n",
    "    </tr>\n",
    "</table>"
   ]
  },
  {
   "cell_type": "markdown",
   "metadata": {},
   "source": [
    "**Table 4-4. Binary universal functions**\n",
    "<table>\n",
    "    <th>Function</th>\n",
    "    <th>Description</th>\n",
    "    <tr>\n",
    "        <td>add</td>\n",
    "        <td>Add corresponding elements in arrays</td>\n",
    "    </tr>\n",
    "    <tr>\n",
    "        <td>subtract</td>\n",
    "        <td>Subtract elements in second array from frst array</td>\n",
    "    </tr>\n",
    "    <tr>\n",
    "        <td>multiply</td>\n",
    "        <td>Multiply array elements</td>\n",
    "    </tr>\n",
    "    <tr>\n",
    "        <td>divide, floor_divide</td>\n",
    "        <td>Divide or floor divide (truncating the remainder)</td>\n",
    "    </tr>\n",
    "    <tr>\n",
    "        <td>power</td>\n",
    "        <td>Raise elements in frst array to powers indicated in second array</td>\n",
    "    </tr>\n",
    "    <tr>\n",
    "        <td>maximum, fmax</td>\n",
    "        <td>Element-wise maximum; fmax ignores NaN</td>\n",
    "    </tr>\n",
    "    <tr>\n",
    "        <td>minimum, fmin</td>\n",
    "        <td>Element-wise minimum; fmin ignores NaN</td>\n",
    "    </tr>\n",
    "    <tr>\n",
    "        <td>mod</td>\n",
    "        <td>Element-wise modulus (remainder of division)</td>\n",
    "    </tr>\n",
    "    <tr>\n",
    "        <td>copysign</td>\n",
    "        <td>Copy sign of values in second argument to values in frst argument</td>\n",
    "    </tr>\n",
    "    <tr>\n",
    "        <td>greater, greater_equal, less, less_equal, equal, not_equal</td>\n",
    "        <td>Perform element-wise comparison, yielding boolean array (equivalent to infx operators >, >=, <, <=, ==, !=)</td>\n",
    "    </tr>\n",
    "    <tr>\n",
    "        <td>logical_and, logical_or, logical_xor</td>\n",
    "        <td>Compute element-wise truth value of logical operation (equivalent to infx operators & |, ^)</td>\n",
    "    </tr>\n",
    "</table>"
   ]
  },
  {
   "cell_type": "markdown",
   "metadata": {},
   "source": [
    "## Array-Oriented Programming with Arrays"
   ]
  },
  {
   "cell_type": "code",
   "execution_count": 98,
   "metadata": {},
   "outputs": [
    {
     "data": {
      "text/plain": [
       "array([[-5.  , -5.  , -5.  , ..., -5.  , -5.  , -5.  ],\n",
       "       [-4.99, -4.99, -4.99, ..., -4.99, -4.99, -4.99],\n",
       "       [-4.98, -4.98, -4.98, ..., -4.98, -4.98, -4.98],\n",
       "       ...,\n",
       "       [ 4.97,  4.97,  4.97, ...,  4.97,  4.97,  4.97],\n",
       "       [ 4.98,  4.98,  4.98, ...,  4.98,  4.98,  4.98],\n",
       "       [ 4.99,  4.99,  4.99, ...,  4.99,  4.99,  4.99]])"
      ]
     },
     "execution_count": 98,
     "metadata": {},
     "output_type": "execute_result"
    }
   ],
   "source": [
    "points = np.arange(-5, 5, 0.01) # 1000 equally spaced points\n",
    "xs, ys = np.meshgrid(points, points)\n",
    "ys"
   ]
  },
  {
   "cell_type": "code",
   "execution_count": 99,
   "metadata": {},
   "outputs": [
    {
     "data": {
      "text/plain": [
       "(1000, 1000)"
      ]
     },
     "execution_count": 99,
     "metadata": {},
     "output_type": "execute_result"
    }
   ],
   "source": [
    "# shape of ys\n",
    "ys.shape"
   ]
  },
  {
   "cell_type": "code",
   "execution_count": 100,
   "metadata": {},
   "outputs": [
    {
     "data": {
      "text/plain": [
       "array([[7.07106781, 7.06400028, 7.05693985, ..., 7.04988652, 7.05693985,\n",
       "        7.06400028],\n",
       "       [7.06400028, 7.05692568, 7.04985815, ..., 7.04279774, 7.04985815,\n",
       "        7.05692568],\n",
       "       [7.05693985, 7.04985815, 7.04278354, ..., 7.03571603, 7.04278354,\n",
       "        7.04985815],\n",
       "       ...,\n",
       "       [7.04988652, 7.04279774, 7.03571603, ..., 7.0286414 , 7.03571603,\n",
       "        7.04279774],\n",
       "       [7.05693985, 7.04985815, 7.04278354, ..., 7.03571603, 7.04278354,\n",
       "        7.04985815],\n",
       "       [7.06400028, 7.05692568, 7.04985815, ..., 7.04279774, 7.04985815,\n",
       "        7.05692568]])"
      ]
     },
     "execution_count": 100,
     "metadata": {},
     "output_type": "execute_result"
    }
   ],
   "source": [
    "z = np.sqrt(xs ** 2 + ys ** 2)\n",
    "z"
   ]
  },
  {
   "cell_type": "code",
   "execution_count": 101,
   "metadata": {},
   "outputs": [],
   "source": [
    "import matplotlib.pyplot as plt\n",
    "plt.imshow(z, cmap=plt.cm.gray); plt.colorbar()\n",
    "plt.title(\"Image plot of $\\sqrt{x^2 + y^2}$ for a grid of values\")\n",
    "plt.draw()"
   ]
  },
  {
   "cell_type": "code",
   "execution_count": 102,
   "metadata": {},
   "outputs": [],
   "source": [
    "plt.close('all')"
   ]
  },
  {
   "cell_type": "markdown",
   "metadata": {},
   "source": [
    "### Expressing Conditional Logic as Array Operations"
   ]
  },
  {
   "cell_type": "code",
   "execution_count": 103,
   "metadata": {},
   "outputs": [],
   "source": [
    "xarr = np.array([1.1, 1.2, 1.3, 1.4, 1.5])\n",
    "yarr = np.array([2.1, 2.2, 2.3, 2.4, 2.5])\n",
    "cond = np.array([True, False, True, True, False])"
   ]
  },
  {
   "cell_type": "code",
   "execution_count": 104,
   "metadata": {},
   "outputs": [
    {
     "data": {
      "text/plain": [
       "[1.1, 2.2, 1.3, 1.4, 2.5]"
      ]
     },
     "execution_count": 104,
     "metadata": {},
     "output_type": "execute_result"
    }
   ],
   "source": [
    "result = [(x if c else y)\n",
    "          for x, y, c in zip(xarr, yarr, cond)]\n",
    "result"
   ]
  },
  {
   "cell_type": "code",
   "execution_count": 105,
   "metadata": {},
   "outputs": [
    {
     "data": {
      "text/plain": [
       "array([1.1, 2.2, 1.3, 1.4, 2.5])"
      ]
     },
     "execution_count": 105,
     "metadata": {},
     "output_type": "execute_result"
    }
   ],
   "source": [
    "result = np.where(cond, xarr, yarr)\n",
    "result"
   ]
  },
  {
   "cell_type": "code",
   "execution_count": 106,
   "metadata": {},
   "outputs": [
    {
     "data": {
      "text/plain": [
       "array([[ 1.60096183,  0.81878667,  0.21914982,  1.25509706],\n",
       "       [ 1.99160999, -0.82806567, -0.4833017 ,  0.2748382 ],\n",
       "       [ 1.2539251 , -0.48581075, -0.98176654, -0.09727631],\n",
       "       [ 0.46826629,  0.91795884, -0.70391743,  0.04080118]])"
      ]
     },
     "execution_count": 106,
     "metadata": {},
     "output_type": "execute_result"
    }
   ],
   "source": [
    "arr = np.random.randn(4, 4)\n",
    "arr"
   ]
  },
  {
   "cell_type": "code",
   "execution_count": 107,
   "metadata": {},
   "outputs": [
    {
     "data": {
      "text/plain": [
       "array([[ True,  True,  True,  True],\n",
       "       [ True, False, False,  True],\n",
       "       [ True, False, False, False],\n",
       "       [ True,  True, False,  True]])"
      ]
     },
     "execution_count": 107,
     "metadata": {},
     "output_type": "execute_result"
    }
   ],
   "source": [
    "arr > 0"
   ]
  },
  {
   "cell_type": "code",
   "execution_count": 108,
   "metadata": {},
   "outputs": [
    {
     "data": {
      "text/plain": [
       "array([[ 2,  2,  2,  2],\n",
       "       [ 2, -2, -2,  2],\n",
       "       [ 2, -2, -2, -2],\n",
       "       [ 2,  2, -2,  2]])"
      ]
     },
     "execution_count": 108,
     "metadata": {},
     "output_type": "execute_result"
    }
   ],
   "source": [
    "np.where(arr > 0, 2, -2)"
   ]
  },
  {
   "cell_type": "code",
   "execution_count": 109,
   "metadata": {},
   "outputs": [
    {
     "data": {
      "text/plain": [
       "array([[ 2.        ,  2.        ,  2.        ,  2.        ],\n",
       "       [ 2.        , -0.82806567, -0.4833017 ,  2.        ],\n",
       "       [ 2.        , -0.48581075, -0.98176654, -0.09727631],\n",
       "       [ 2.        ,  2.        , -0.70391743,  2.        ]])"
      ]
     },
     "execution_count": 109,
     "metadata": {},
     "output_type": "execute_result"
    }
   ],
   "source": [
    "np.where(arr > 0, 2, arr) # set only positive values to 2"
   ]
  },
  {
   "cell_type": "markdown",
   "metadata": {},
   "source": [
    "### Mathematical and Statistical Methods"
   ]
  },
  {
   "cell_type": "code",
   "execution_count": 110,
   "metadata": {},
   "outputs": [
    {
     "data": {
      "text/plain": [
       "array([[-1.68436138, -0.05982981,  0.55454912, -0.7045936 ],\n",
       "       [ 0.24997923, -0.07787135, -0.07405348,  0.81572161],\n",
       "       [ 0.84941717,  0.59170192, -1.4245207 , -1.89840661],\n",
       "       [ 2.41068506,  1.14273625,  0.37438286, -0.58479282],\n",
       "       [ 0.25436821, -0.05039642,  1.51121739, -0.65498692]])"
      ]
     },
     "execution_count": 110,
     "metadata": {},
     "output_type": "execute_result"
    }
   ],
   "source": [
    "arr = np.random.randn(5, 4)\n",
    "arr"
   ]
  },
  {
   "cell_type": "code",
   "execution_count": 111,
   "metadata": {},
   "outputs": [
    {
     "data": {
      "text/plain": [
       "0.07704728652736532"
      ]
     },
     "execution_count": 111,
     "metadata": {},
     "output_type": "execute_result"
    }
   ],
   "source": [
    "arr.mean()"
   ]
  },
  {
   "cell_type": "code",
   "execution_count": 112,
   "metadata": {},
   "outputs": [
    {
     "data": {
      "text/plain": [
       "0.07704728652736532"
      ]
     },
     "execution_count": 112,
     "metadata": {},
     "output_type": "execute_result"
    }
   ],
   "source": [
    "np.mean(arr)"
   ]
  },
  {
   "cell_type": "code",
   "execution_count": 113,
   "metadata": {},
   "outputs": [
    {
     "data": {
      "text/plain": [
       "1.5409457305473064"
      ]
     },
     "execution_count": 113,
     "metadata": {},
     "output_type": "execute_result"
    }
   ],
   "source": [
    "arr.sum()"
   ]
  },
  {
   "cell_type": "code",
   "execution_count": 114,
   "metadata": {},
   "outputs": [
    {
     "data": {
      "text/plain": [
       "array([-0.47355892,  0.228444  , -0.47045206,  0.83575284,  0.26505056])"
      ]
     },
     "execution_count": 114,
     "metadata": {},
     "output_type": "execute_result"
    }
   ],
   "source": [
    "arr.mean(axis=1)"
   ]
  },
  {
   "cell_type": "code",
   "execution_count": 115,
   "metadata": {},
   "outputs": [
    {
     "data": {
      "text/plain": [
       "array([ 2.08008829,  1.54634059,  0.94157519, -3.02705834])"
      ]
     },
     "execution_count": 115,
     "metadata": {},
     "output_type": "execute_result"
    }
   ],
   "source": [
    "arr.sum(axis=0)"
   ]
  },
  {
   "cell_type": "code",
   "execution_count": 116,
   "metadata": {},
   "outputs": [
    {
     "data": {
      "text/plain": [
       "array([ 0,  1,  3,  6, 10, 15, 21, 28], dtype=int32)"
      ]
     },
     "execution_count": 116,
     "metadata": {},
     "output_type": "execute_result"
    }
   ],
   "source": [
    "arr = np.array([0, 1, 2, 3, 4, 5, 6, 7])\n",
    "arr.cumsum()"
   ]
  },
  {
   "cell_type": "code",
   "execution_count": 117,
   "metadata": {},
   "outputs": [
    {
     "data": {
      "text/plain": [
       "array([[0, 1, 2],\n",
       "       [3, 4, 5],\n",
       "       [6, 7, 8]])"
      ]
     },
     "execution_count": 117,
     "metadata": {},
     "output_type": "execute_result"
    }
   ],
   "source": [
    "arr = np.array([[0, 1, 2], [3, 4, 5], [6, 7, 8]])\n",
    "arr"
   ]
  },
  {
   "cell_type": "code",
   "execution_count": 118,
   "metadata": {},
   "outputs": [
    {
     "data": {
      "text/plain": [
       "array([[ 0,  1,  2],\n",
       "       [ 3,  5,  7],\n",
       "       [ 9, 12, 15]], dtype=int32)"
      ]
     },
     "execution_count": 118,
     "metadata": {},
     "output_type": "execute_result"
    }
   ],
   "source": [
    "arr.cumsum(axis=0)"
   ]
  },
  {
   "cell_type": "code",
   "execution_count": 119,
   "metadata": {},
   "outputs": [
    {
     "data": {
      "text/plain": [
       "array([[  0,   0,   0],\n",
       "       [  3,  12,  60],\n",
       "       [  6,  42, 336]], dtype=int32)"
      ]
     },
     "execution_count": 119,
     "metadata": {},
     "output_type": "execute_result"
    }
   ],
   "source": [
    "arr.cumprod(axis=1)"
   ]
  },
  {
   "cell_type": "markdown",
   "metadata": {},
   "source": [
    "**Table 4-5. Basic array statistical methods**\n",
    "<table>\n",
    "    <th>Function</th>\n",
    "    <th>Description</th>\n",
    "    <tr>\n",
    "        <td>sum</td>\n",
    "        <td>Sum of all the elements in the array or along an axis; zero-length arrays have sum 0</td>\n",
    "    </tr>\n",
    "    <tr>\n",
    "        <td>mean</td>\n",
    "        <td>Arithmetic mean; zero-length arrays have NaN mean</td>\n",
    "    </tr>\n",
    "    <tr>\n",
    "        <td>std, var</td>\n",
    "        <td>Standard deviation and variance, respectively, with optional degrees of freedom adjustment (default denominator n)</td>\n",
    "    </tr>\n",
    "    <tr>\n",
    "        <td>min, max</td>\n",
    "        <td>Minimum and maximum</td>\n",
    "    </tr>\n",
    "    <tr>\n",
    "        <td>argmin, argmax</td>\n",
    "        <td>Indices of minimum and maximum elements, respectively</td>\n",
    "    </tr>\n",
    "    <tr>\n",
    "        <td>cumsum</td>\n",
    "        <td>Cumulative sum of elements starting from 0</td>\n",
    "    </tr>\n",
    "    <tr>\n",
    "        <td>cumprod</td>\n",
    "        <td>Cumulative product of elements starting from 1</td>\n",
    "    </tr>\n",
    "</table>"
   ]
  },
  {
   "cell_type": "markdown",
   "metadata": {},
   "source": [
    "### Methods for Boolean Arrays"
   ]
  },
  {
   "cell_type": "code",
   "execution_count": 120,
   "metadata": {},
   "outputs": [
    {
     "data": {
      "text/plain": [
       "array([ 0.58820596,  0.89477462,  0.47120018, -0.07106201, -0.37091203,\n",
       "       -0.73494535,  0.58800036, -0.82303885,  0.19815853,  0.17335649,\n",
       "       -1.18554454, -1.11091892, -0.44910898,  0.72709671, -0.78510568,\n",
       "       -0.01028389,  0.95927273,  0.90581626, -0.15122446,  1.04723628,\n",
       "       -0.24936404, -0.98357939, -1.1278408 , -0.07408485, -0.40527913,\n",
       "        0.04340373,  1.63419864, -0.67448461, -0.07501115,  1.64769918,\n",
       "       -0.55016309, -0.28737706, -2.03697241,  0.66277985, -0.20888287,\n",
       "        0.19958803,  0.57763312, -1.10415208,  0.90410947, -0.76349492,\n",
       "       -0.78441744,  0.57662608,  0.02100737, -1.66027144, -0.78142369,\n",
       "       -0.34455614, -1.49527805, -0.68493514, -0.67993469, -1.36341846,\n",
       "        0.53741242,  2.24174952,  0.40431115, -0.29100142,  0.91723052,\n",
       "        0.66795227, -1.09515148, -1.22934578, -0.33297465,  2.43576615,\n",
       "       -0.49997742,  1.49299627,  0.48768614,  0.11175494,  0.93032863,\n",
       "       -0.316854  , -0.36238627, -2.19318035,  0.35730656,  0.7347716 ,\n",
       "       -1.38049276,  0.46138235, -0.2964017 , -0.83314779, -0.26471615,\n",
       "       -0.21315095, -0.7414684 ,  0.27451912, -2.17757025, -0.46807359,\n",
       "        1.08817391,  1.08811178,  0.57664503, -0.38702785, -0.91390714,\n",
       "        1.01923767,  1.3899306 , -0.49334154, -0.61404558,  2.24941263,\n",
       "       -0.29668247,  1.26650742,  0.17457806,  0.93029472, -1.00394978,\n",
       "        0.75724872, -0.38934041, -1.12857667,  0.84359627, -1.34148868])"
      ]
     },
     "execution_count": 120,
     "metadata": {},
     "output_type": "execute_result"
    }
   ],
   "source": [
    "arr = np.random.randn(100)\n",
    "arr"
   ]
  },
  {
   "cell_type": "code",
   "execution_count": 121,
   "metadata": {},
   "outputs": [
    {
     "data": {
      "text/plain": [
       "44"
      ]
     },
     "execution_count": 121,
     "metadata": {},
     "output_type": "execute_result"
    }
   ],
   "source": [
    "(arr > 0).sum() # Number of positive values"
   ]
  },
  {
   "cell_type": "code",
   "execution_count": 122,
   "metadata": {},
   "outputs": [
    {
     "data": {
      "text/plain": [
       "array([False, False,  True, False])"
      ]
     },
     "execution_count": 122,
     "metadata": {},
     "output_type": "execute_result"
    }
   ],
   "source": [
    "bools = np.array([False, False, True, False])\n",
    "bools"
   ]
  },
  {
   "cell_type": "code",
   "execution_count": 123,
   "metadata": {},
   "outputs": [
    {
     "data": {
      "text/plain": [
       "True"
      ]
     },
     "execution_count": 123,
     "metadata": {},
     "output_type": "execute_result"
    }
   ],
   "source": [
    "bools.any()"
   ]
  },
  {
   "cell_type": "code",
   "execution_count": 124,
   "metadata": {},
   "outputs": [
    {
     "data": {
      "text/plain": [
       "False"
      ]
     },
     "execution_count": 124,
     "metadata": {},
     "output_type": "execute_result"
    }
   ],
   "source": [
    "bools.all()"
   ]
  },
  {
   "cell_type": "markdown",
   "metadata": {},
   "source": [
    "### Sorting"
   ]
  },
  {
   "cell_type": "code",
   "execution_count": 125,
   "metadata": {},
   "outputs": [
    {
     "data": {
      "text/plain": [
       "array([-0.58821457, -2.28771535, -0.74828034, -0.89042118,  0.11300692,\n",
       "       -0.6587427 ])"
      ]
     },
     "execution_count": 125,
     "metadata": {},
     "output_type": "execute_result"
    }
   ],
   "source": [
    "arr = np.random.randn(6)\n",
    "arr"
   ]
  },
  {
   "cell_type": "code",
   "execution_count": 126,
   "metadata": {},
   "outputs": [
    {
     "data": {
      "text/plain": [
       "array([-2.28771535, -0.89042118, -0.74828034, -0.6587427 , -0.58821457,\n",
       "        0.11300692])"
      ]
     },
     "execution_count": 126,
     "metadata": {},
     "output_type": "execute_result"
    }
   ],
   "source": [
    "arr.sort()\n",
    "arr"
   ]
  },
  {
   "cell_type": "code",
   "execution_count": 127,
   "metadata": {},
   "outputs": [
    {
     "data": {
      "text/plain": [
       "array([[-0.36410684,  0.7130101 , -0.21652497],\n",
       "       [-2.01467162, -1.96221822,  0.35806049],\n",
       "       [ 1.59242533, -0.30878709, -0.48556142],\n",
       "       [-0.75526819,  0.93222665,  0.2156568 ],\n",
       "       [-1.00445494,  0.05894127, -0.73025731]])"
      ]
     },
     "execution_count": 127,
     "metadata": {},
     "output_type": "execute_result"
    }
   ],
   "source": [
    "arr = np.random.randn(5, 3)\n",
    "arr"
   ]
  },
  {
   "cell_type": "code",
   "execution_count": 128,
   "metadata": {},
   "outputs": [
    {
     "data": {
      "text/plain": [
       "array([[-0.36410684, -0.21652497,  0.7130101 ],\n",
       "       [-2.01467162, -1.96221822,  0.35806049],\n",
       "       [-0.48556142, -0.30878709,  1.59242533],\n",
       "       [-0.75526819,  0.2156568 ,  0.93222665],\n",
       "       [-1.00445494, -0.73025731,  0.05894127]])"
      ]
     },
     "execution_count": 128,
     "metadata": {},
     "output_type": "execute_result"
    }
   ],
   "source": [
    "arr.sort(1)\n",
    "arr"
   ]
  },
  {
   "cell_type": "code",
   "execution_count": 129,
   "metadata": {},
   "outputs": [
    {
     "data": {
      "text/plain": [
       "array([-6.91317793e-01, -2.40696141e-01, -1.92145106e-01, -4.96650800e-01,\n",
       "       -6.33784759e-01,  6.42323717e-01, -1.58063867e-01, -9.49321387e-01,\n",
       "        3.69801007e-01, -7.69103614e-01,  1.27441928e-01, -3.48126722e-01,\n",
       "        9.15785259e-01,  7.57257640e-02,  1.66830516e+00, -9.23762929e-01,\n",
       "       -1.44693895e-01, -1.43907487e+00, -1.33079263e+00,  4.50039906e-01,\n",
       "       -6.11996808e-01,  1.57792225e+00,  1.39569295e+00,  1.23821337e+00,\n",
       "        1.13742406e+00, -2.20445646e-01, -7.24643521e-01,  8.05067527e-01,\n",
       "        8.09942579e-01,  1.87239543e+00, -6.17639056e-01,  5.13465452e-02,\n",
       "        9.47303049e-01,  5.87068213e-01, -1.29832916e+00, -1.61123878e-01,\n",
       "        6.36027652e-01,  8.96024736e-01, -1.30369270e+00, -4.71045968e-01,\n",
       "       -8.12101178e-01, -3.82537980e-01,  1.72692768e+00, -2.62079432e-01,\n",
       "       -1.55720842e+00,  2.44619441e-01, -1.07488111e+00, -6.04125909e-01,\n",
       "        2.23295709e-01, -3.04515936e-01, -1.59050726e-01,  3.32827642e-01,\n",
       "       -1.06542592e+00, -2.77647537e-01,  1.76936035e+00,  9.57279325e-02,\n",
       "       -5.61732309e-02,  2.79225245e-01, -1.55474460e+00,  9.87589674e-01,\n",
       "        9.39837040e-02, -1.70281515e-01,  8.14571822e-01, -2.01330392e+00,\n",
       "        1.65195784e+00,  1.59752361e+00, -7.23968983e-01, -8.70713483e-01,\n",
       "        7.82425329e-01, -1.46222829e+00, -1.74675059e+00, -6.77671283e-01,\n",
       "        2.96773412e-01,  2.88103035e-01, -2.46724866e-02,  1.34904298e+00,\n",
       "       -2.42878647e-01,  1.42202753e+00, -1.69455894e-01,  6.57611768e-02,\n",
       "        1.84151033e+00,  6.18687168e-01, -9.11093154e-01, -1.77236518e+00,\n",
       "       -6.28935334e-01, -1.24554731e+00, -2.81296275e-01,  9.23411650e-01,\n",
       "       -1.07186179e+00, -8.71718307e-01, -1.98920147e-01,  7.42490430e-01,\n",
       "        2.60270711e+00, -8.12636321e-01, -1.16521321e-01,  4.54099282e-02,\n",
       "        2.16087804e+00, -5.50610209e-01, -1.43327309e-01,  1.61256848e+00,\n",
       "        1.24279775e+00,  1.80671452e-01, -4.12106735e-01,  3.57614872e-01,\n",
       "        6.69584572e-01, -2.48354273e-02, -2.11925902e+00, -4.26080650e-02,\n",
       "       -4.98111769e-01,  3.42991327e-01,  5.42113971e-01,  7.49239004e-01,\n",
       "       -3.28215245e-01,  2.90774292e-01,  6.93897284e-02,  4.23424096e-01,\n",
       "        5.09007732e-01,  1.46142679e+00,  2.04749549e-02,  4.15868165e-01,\n",
       "        1.44618364e+00,  1.88176119e-01,  1.14322921e+00, -1.14783051e+00,\n",
       "        8.51462882e-01, -5.94450076e-01,  1.09416495e+00,  9.57447232e-01,\n",
       "        9.34513561e-01, -1.60223314e+00,  1.43406536e+00, -9.26063690e-01,\n",
       "       -7.47698647e-01,  8.80095411e-01,  8.31745290e-01, -2.43772748e+00,\n",
       "       -5.62703986e-01, -2.81034494e-01, -9.82007051e-01,  1.78291876e-01,\n",
       "        7.34212687e-01,  8.86326566e-01,  7.82020381e-01, -1.18249900e+00,\n",
       "       -9.47865354e-02, -8.14367932e-01,  5.46441410e-02, -7.44491889e-02,\n",
       "        6.19211976e-01,  1.39359866e+00,  7.76764147e-01, -1.37594323e-01,\n",
       "        1.66678566e+00,  1.48595773e+00, -1.02350605e+00, -1.67279725e+00,\n",
       "        1.57574684e-03, -4.75134889e-01, -1.79811984e+00,  9.81513770e-01,\n",
       "       -4.32523033e-01, -1.40920735e+00, -6.43198797e-01,  1.33790773e+00,\n",
       "       -8.36139202e-01, -1.09262029e+00,  6.01471445e-01,  2.17239977e+00,\n",
       "       -1.01737478e-01,  1.18274259e+00,  4.38042942e-01,  6.05621324e-01,\n",
       "        4.23585528e-01, -9.95323344e-01, -4.71095849e-01,  1.35123250e+00,\n",
       "        2.40374722e+00, -6.57289536e-01, -2.42249186e+00, -1.03123177e+00,\n",
       "        3.66029241e-01, -1.76162743e+00,  6.59038047e-01,  1.89593073e-01,\n",
       "       -2.65027744e-02, -7.73406193e-01, -2.14859519e-01, -4.70849537e-02,\n",
       "        7.27929823e-01,  9.46633204e-01,  2.25686680e-01,  1.13983137e+00,\n",
       "        5.15280091e-01,  1.23989215e-01, -3.59612503e-01,  6.50248476e-01,\n",
       "        7.17497396e-01,  4.18392316e-01, -6.40044979e-01, -6.65456272e-01,\n",
       "        2.24063451e-01, -1.06109143e+00,  1.61133119e+00,  1.04140122e-01,\n",
       "       -4.55618856e-01,  7.03623315e-01, -7.73477053e-02,  3.38850197e-01,\n",
       "        9.02257740e-01,  1.23891523e+00, -1.22585277e+00, -2.83110886e-01,\n",
       "        6.27036327e-01,  1.72732049e+00,  6.97897060e-01,  5.62675077e-01,\n",
       "       -9.09428169e-01,  2.34659731e-01,  2.15951747e-01, -1.42637491e-01,\n",
       "        6.43509638e-02, -1.28340262e+00, -6.95677118e-01, -6.06654670e-01,\n",
       "        1.34255099e+00,  7.82768261e-01,  8.83597782e-02, -3.83820781e-01,\n",
       "       -2.44284291e+00, -8.40428550e-01,  1.14531591e+00,  1.35360435e+00,\n",
       "        7.18892468e-01,  4.71160099e-01,  8.29775540e-01,  7.83835344e-01,\n",
       "       -7.76817548e-01, -3.60803373e-01,  1.93351221e+00,  5.86031134e-01,\n",
       "       -3.44272627e-01,  1.59210422e+00,  1.17036490e+00,  1.56603670e+00,\n",
       "       -5.85756248e-01, -1.84019038e+00,  5.53888504e-01,  5.14702178e-01,\n",
       "       -3.15025507e-01,  2.45584584e+00, -6.67006142e-01,  3.62178007e-01,\n",
       "        1.53480250e+00, -6.88837755e-01,  1.10867252e+00,  2.83919536e+00,\n",
       "        2.24748864e-01,  1.29861969e+00, -2.89227260e-01,  8.62060924e-03,\n",
       "        4.15455388e-02,  5.12553742e-01,  7.36195614e-01,  5.01601805e-01,\n",
       "       -1.12538450e-01,  1.23511307e+00, -2.13068785e+00,  2.47829548e-01,\n",
       "       -4.74731981e-01, -6.34765322e-01,  1.61047536e+00,  2.58452335e-01,\n",
       "       -1.86156095e+00,  6.62840006e-01, -4.23552542e-02,  3.42052499e-01,\n",
       "        1.92880705e-01,  1.73178991e-02,  5.16812019e-01, -4.87802015e-03,\n",
       "        1.44998549e+00,  7.45353573e-01, -1.47246491e-01, -1.07769645e+00,\n",
       "       -1.12544320e+00, -7.61585407e-01, -5.57489247e-01, -5.07036404e-01,\n",
       "        2.47855508e-01, -2.89020931e-01,  2.91089749e-01, -6.29407814e-01,\n",
       "        1.56282711e+00,  1.17101675e-01,  4.34481156e-01, -2.56535057e-01,\n",
       "       -7.37278726e-01,  5.90706423e-02, -2.42936440e-01,  2.67753434e+00,\n",
       "        1.89080410e+00,  2.22577314e+00,  9.01228133e-01,  8.88147236e-01,\n",
       "       -8.28969067e-01, -1.43695539e-01, -3.97577274e-01,  4.91637317e-02,\n",
       "       -1.92939074e+00,  2.23138969e-01, -1.91100915e-01,  2.83891324e-01,\n",
       "       -1.87561162e+00, -2.51947880e+00,  1.99624961e-01, -4.80576483e-01,\n",
       "        4.37851572e-02, -3.97249299e-01, -1.50022664e+00, -6.98894767e-02,\n",
       "       -4.36952144e-01,  8.05920990e-01,  9.33499074e-01, -8.23594825e-01,\n",
       "        1.70377666e+00, -4.02688576e-01,  1.33532682e+00,  4.68172493e-02,\n",
       "       -1.35669817e+00,  1.90557427e+00,  6.72601207e-01,  1.63073836e+00,\n",
       "       -3.91357682e-01,  4.97167464e-01, -4.19236594e-01, -1.99042331e-01,\n",
       "       -8.84478889e-01,  7.17190927e-01, -8.70248583e-01, -5.96970157e-01,\n",
       "       -2.85389197e+00, -1.03312277e+00,  5.58078697e-01, -2.79173980e-01,\n",
       "       -1.61922433e-01, -1.94880774e+00, -3.91844669e-01,  2.98290154e-01,\n",
       "        5.34747448e-01, -9.76511332e-01,  2.59007389e-01,  5.90728389e-02,\n",
       "        4.16321180e-01,  6.99563450e-01,  9.07769164e-01,  5.85224216e-01,\n",
       "        3.48528123e-01, -8.75301151e-01,  1.17612534e+00, -8.19129463e-02,\n",
       "       -4.35016299e-01,  1.64232360e-02, -5.61008142e-01, -2.35755470e-01,\n",
       "       -3.38474728e-01,  4.25189920e-01,  1.09871484e+00,  8.10430313e-01,\n",
       "        4.39440395e-02, -5.07435784e-01, -1.20262410e+00, -2.85657774e+00,\n",
       "       -1.72283586e-01, -6.29004182e-01, -1.37952516e+00,  9.49221357e-01,\n",
       "        9.19550230e-01,  6.30634176e-01, -4.85197809e-02, -8.00462941e-02,\n",
       "        3.75379617e-01,  1.47452802e-01, -5.30727601e-01, -1.68673773e-01,\n",
       "       -1.45123505e+00,  6.23544471e-02,  8.16271861e-01,  3.07914731e-01,\n",
       "        2.38334720e+00,  3.27000223e-01, -5.04991855e-01, -3.71402125e-01,\n",
       "        2.13670642e+00, -1.21299621e+00, -3.64141812e-01, -7.82100681e-01,\n",
       "        6.67325414e-01, -4.69795866e-01,  5.54066822e-01,  1.30044569e+00,\n",
       "       -3.01840330e-01,  2.43022335e-01,  1.72042983e+00,  1.69989982e+00,\n",
       "       -2.16922362e+00, -1.79586310e-01, -1.82580713e-01,  1.56200418e-01,\n",
       "        6.71787925e-01, -9.22396895e-02, -4.93054086e-01, -1.83989313e-01,\n",
       "       -4.65558543e-01,  1.30879356e+00, -3.90381356e-01,  6.46381953e-01,\n",
       "        7.42364976e-01, -9.34997051e-02, -7.45065773e-01,  8.79813578e-01,\n",
       "       -2.57658198e+00, -1.68223625e+00,  6.44202280e-01, -8.47835347e-01,\n",
       "       -4.02656103e-01,  1.19314673e+00, -2.21257578e+00,  2.69487862e+00,\n",
       "       -4.60463448e-01, -5.97150668e-01, -9.70507754e-01, -7.21033229e-02,\n",
       "       -1.69529101e+00, -1.13665206e+00, -5.21956115e-01,  9.62977693e-01,\n",
       "        1.21894060e+00,  6.59497387e-01, -8.06207264e-01, -4.28116527e-01,\n",
       "        1.15472236e+00,  2.54427618e-01,  5.24313013e-01,  1.90072930e-02,\n",
       "        6.43363311e-01, -1.75657348e+00,  1.60747725e+00, -2.91547012e-01,\n",
       "        1.60733081e+00, -6.04717402e-01,  1.97774070e+00,  3.06850272e-01,\n",
       "        6.19877126e-01,  9.30059701e-01,  1.85054486e+00,  6.19922809e-01,\n",
       "       -1.43536049e+00,  1.26966324e+00, -1.38246975e+00, -1.07900341e+00,\n",
       "        3.80082199e-01, -7.44115690e-01, -4.75336672e-01, -2.67259058e-01,\n",
       "       -8.23733811e-01, -1.29212513e-01,  1.36696729e+00, -7.76105680e-02,\n",
       "       -3.05536020e-01,  4.65268898e-01, -4.47804761e-01, -2.24117715e-01,\n",
       "        1.30886630e-01,  8.95951303e-01, -9.00538346e-01,  9.61962788e-01,\n",
       "        7.09646121e-01, -1.46253944e-01,  2.03879503e+00, -9.05453891e-01,\n",
       "        1.35222266e+00,  9.89963721e-01, -2.04400074e-01,  1.53023837e+00,\n",
       "       -1.71227918e+00, -8.67214986e-01, -1.79667040e+00, -8.31543617e-02,\n",
       "        1.09092222e+00,  7.10642827e-01, -5.33583351e-01, -1.42421615e+00,\n",
       "       -1.35520986e+00,  1.55987235e-01, -1.77336923e+00, -8.57804245e-01,\n",
       "        8.60081810e-01,  3.22865085e-01,  1.07492635e+00,  1.83632783e-01,\n",
       "        5.28439001e-01, -1.25742515e-01, -1.06119521e-01,  1.60466024e+00,\n",
       "       -2.98585242e-01,  1.79741160e+00, -8.95642509e-01, -2.16382213e-01,\n",
       "       -2.05414705e-01,  3.82791223e-01, -3.23490594e-01,  7.72531706e-01,\n",
       "       -2.28569656e+00,  9.38909577e-01,  1.76854762e-01,  1.96366987e-01,\n",
       "       -6.23518879e-01,  5.82103877e-01,  1.92344251e-02,  1.66179087e+00,\n",
       "       -3.66936349e-01,  1.16526540e+00, -5.09510279e-01, -6.43224794e-01,\n",
       "       -1.59989776e+00, -1.30138224e-01, -9.18623045e-01, -8.51092736e-01,\n",
       "       -3.67262110e-01, -6.96737972e-01, -7.69910805e-01,  2.24074508e+00,\n",
       "       -7.64666321e-02, -9.80465682e-02, -1.89331057e+00,  7.78314857e-02,\n",
       "        6.14392614e-01,  1.36995717e+00, -7.57835900e-01, -1.40928890e+00,\n",
       "        1.69057373e+00, -7.70944223e-01,  1.05025521e+00, -2.10087555e+00,\n",
       "       -4.45985048e-01, -8.42933923e-02,  3.98312337e-01,  8.64374214e-01,\n",
       "        5.88876069e-01,  5.81955052e-01,  1.27337584e+00, -5.40135096e-01,\n",
       "        1.26807200e-01,  4.77354310e-01, -2.42032961e+00, -1.07917820e+00,\n",
       "       -1.73785856e+00,  4.13433739e-01, -1.23715295e+00,  4.50873627e-01,\n",
       "        1.14999257e+00, -1.05487444e-01,  3.73250847e-01, -9.72454849e-01,\n",
       "        3.05293722e-01,  7.97371647e-01, -3.45265700e-01, -1.65229641e+00,\n",
       "       -3.62982496e-01, -4.19061779e-01,  9.43405610e-02, -1.79728174e+00,\n",
       "       -3.74399428e-01, -2.59843532e-01,  2.26840848e-01,  4.82117880e-01,\n",
       "        2.56408549e-01,  8.62958479e-01,  7.19083612e-01, -9.71957579e-01,\n",
       "       -5.94924431e-01,  1.64855103e+00,  3.31795012e-01,  7.40817716e-01,\n",
       "        1.95712183e+00, -8.11604302e-01, -5.02829924e-01, -9.21696604e-01,\n",
       "        1.65119366e-01,  8.45826409e-01, -2.15935510e+00,  1.09779704e+00,\n",
       "       -1.36967148e-01, -5.72265591e-01,  1.16791737e-01, -6.98682372e-01,\n",
       "       -7.08443287e-01,  2.54260360e-01,  6.51462330e-01, -4.92432279e-01,\n",
       "       -1.31652924e+00,  1.76242455e-01,  2.24666195e-01,  2.00643087e+00,\n",
       "        1.27104422e+00, -9.54130570e-01,  9.25364779e-01, -5.76763024e-01,\n",
       "       -3.10928991e-01,  1.10820241e+00,  6.63263593e-01,  1.00426146e+00,\n",
       "        1.60911209e+00,  1.65085296e+00,  1.85534930e+00, -9.40385890e-01,\n",
       "        9.11060224e-02, -1.68997853e-01,  8.21009240e-01, -7.38212882e-01,\n",
       "       -4.79876447e-01,  6.80717329e-01, -2.13048733e-01,  1.55483822e-01,\n",
       "       -2.42211930e-02,  4.61229923e-01,  2.97457487e-01, -2.30518345e-02,\n",
       "        2.30050685e+00, -5.15801165e-01, -1.27182414e+00,  5.38430362e-01,\n",
       "       -3.92208251e-01, -3.66509894e-01, -8.72472052e-01,  3.98359934e-01,\n",
       "       -8.35649792e-01,  2.22515770e-01,  1.05588438e+00, -5.07321997e-01,\n",
       "       -7.99578819e-01, -1.04298439e+00, -3.98134409e-01, -1.06695851e+00,\n",
       "       -1.86208658e-02,  5.36277897e-01,  3.11413719e-01,  9.58288394e-01,\n",
       "        1.62672481e-02,  9.43476807e-01,  2.83251339e-01,  5.03668546e-01,\n",
       "        1.18256866e+00, -1.76384503e-01, -2.46408281e-01, -6.94830547e-01,\n",
       "        1.00726590e+00, -7.64086811e-01, -1.74326591e+00,  2.38281691e-01,\n",
       "        6.97237306e-01, -2.67151617e+00, -1.01333260e-02,  5.41864816e-01,\n",
       "       -2.33175240e-01,  1.29950047e+00,  1.73468238e+00, -1.15070384e+00,\n",
       "       -7.28853517e-01,  2.44410481e-01,  3.63097476e-01, -2.29939888e+00,\n",
       "        1.01351567e+00, -3.51457608e-01,  1.79922255e+00,  5.91193518e-01,\n",
       "        1.33540022e+00,  1.00419254e+00,  8.13703833e-02,  1.24505917e-01,\n",
       "        2.36417158e+00,  2.33713188e-01, -6.26770751e-01,  9.24132904e-01,\n",
       "        1.26861739e+00,  1.40685898e+00, -4.52220847e-02, -1.72485778e+00,\n",
       "       -1.61558911e+00,  3.83301661e-01,  4.96192706e-01,  1.59385821e+00,\n",
       "        1.18615251e+00,  4.28546457e-01,  7.80029880e-01, -2.00468072e+00,\n",
       "        8.33108887e-01,  4.44688659e-01, -4.18462194e-01,  2.03585872e+00,\n",
       "        5.05429662e-02, -2.41810572e-01,  1.27672601e+00,  9.34304020e-01,\n",
       "        8.66755360e-01,  1.20095672e-01,  3.52855756e-01,  5.44896876e-01,\n",
       "        6.38664194e-01,  1.67578172e+00, -4.94378352e-01,  4.13417642e-02,\n",
       "        6.07022627e-02,  7.53697654e-02,  1.01720922e+00,  2.67444125e-01,\n",
       "        1.25183558e+00,  1.26010556e-02,  1.33122024e+00, -5.71875114e-01,\n",
       "       -1.15652038e+00, -2.09540101e-01, -4.76087822e-01,  1.63096900e+00,\n",
       "        8.63485932e-01,  1.03096945e-01,  5.95282399e-02,  3.57263252e-01,\n",
       "       -8.57367938e-01,  1.46509817e+00,  3.24751580e-01, -1.86943548e+00,\n",
       "        2.65732815e-01,  9.21728368e-01, -1.28084561e+00,  1.18202568e+00,\n",
       "       -1.36353207e-01, -1.18409956e+00, -1.90977954e+00, -2.35777404e-01,\n",
       "       -3.49707409e-01, -1.41217932e+00, -2.08492086e-01,  1.20957234e+00,\n",
       "        7.54929611e-02,  2.45610695e-01,  1.19353629e+00,  6.55322995e-01,\n",
       "        3.18072277e-01,  1.39550452e-01,  5.84981833e-01,  1.04207157e+00,\n",
       "       -1.16361853e+00,  2.85942206e+00,  1.58744663e+00,  2.91327661e-01,\n",
       "        4.11229145e-01, -3.51895394e-01,  1.56498093e+00, -1.00566938e+00,\n",
       "        3.77084381e-01,  1.46470725e+00, -4.55649953e-01, -8.99982368e-01,\n",
       "       -1.49703305e+00, -2.72122641e-01, -1.31524390e-01, -1.11048368e+00,\n",
       "       -1.08772779e+00, -1.16593230e+00,  3.23106611e-01,  5.29134127e-01,\n",
       "       -1.52960535e-01, -4.09684815e-02, -1.13229281e+00,  1.34745082e+00,\n",
       "        1.54325804e+00, -1.20542419e-01, -4.47145876e-01, -9.92881027e-01,\n",
       "       -2.57504562e-01, -8.41231382e-01,  1.54838262e+00,  1.93437603e+00,\n",
       "       -2.97786697e-01,  1.60260103e+00, -2.01449762e+00, -8.02694298e-01,\n",
       "        1.40859492e+00, -1.16131571e+00,  1.00779348e+00,  4.11679620e-01,\n",
       "        1.18861886e+00, -1.58967768e+00,  6.24496335e-01,  1.07315371e+00,\n",
       "        3.45354399e-02,  1.36545668e-01,  7.76837339e-02,  8.99709211e-01,\n",
       "        1.01512255e+00,  5.23992942e-01,  2.42787730e-01, -7.03142302e-01,\n",
       "       -3.70614612e-01,  2.35422750e-01, -2.33701619e-01,  3.52447924e-01,\n",
       "        1.00383125e+00,  8.49319826e-01,  3.69159820e-01, -6.36024451e-01,\n",
       "        1.50368142e+00, -1.15353287e+00,  2.87478917e-01,  1.15666443e-02,\n",
       "       -3.01733857e-01, -1.27656478e+00,  1.04109334e+00, -2.53444830e-02,\n",
       "       -5.54492116e-02,  1.40634919e+00, -2.21671949e+00, -8.30878570e-01,\n",
       "        2.42193353e-01, -5.51256905e-01, -3.50158897e-01, -5.78885336e-01,\n",
       "        1.25672006e+00, -1.32761412e+00,  2.12654671e-01,  1.20890861e+00,\n",
       "        1.96312903e-01, -6.60411924e-01, -3.82561917e-01,  1.95959570e+00,\n",
       "        1.34690683e+00, -8.29242541e-01, -1.20578422e-01,  7.55224095e-01,\n",
       "        7.82378679e-01, -7.48144624e-01, -1.50266183e+00, -1.74008107e+00,\n",
       "        3.12057050e-01,  1.77873932e-01,  8.68425559e-02, -1.00884491e+00,\n",
       "        9.99733653e-01,  5.04641928e-01,  1.66482766e+00, -4.42767230e-01,\n",
       "        7.73549935e-01, -1.45221816e-01, -1.44714722e+00, -1.31480581e+00,\n",
       "        1.69865185e+00, -1.54474935e+00, -1.29261791e+00,  4.25724514e-01,\n",
       "       -1.35102079e+00, -2.03154755e-01,  5.05271226e-01, -3.80979830e-01,\n",
       "        3.92376841e-02,  2.30371189e-01, -1.34982162e+00,  1.11620728e+00,\n",
       "       -1.01148260e-01, -4.92759220e-02, -1.07088277e+00, -1.34010659e-01,\n",
       "        3.03179100e-01, -1.24090845e+00,  2.35583945e+00,  6.89157158e-01,\n",
       "       -3.39914534e-01,  4.74496002e-01, -4.14917049e-01, -1.07901178e+00,\n",
       "       -4.17999387e-01,  5.89687055e-01,  7.70941491e-01, -6.42486631e-01,\n",
       "        1.58231464e+00,  1.46253988e-01, -2.35584899e-01,  5.44282319e-01,\n",
       "        1.14785895e-01,  1.18605204e+00,  6.13891664e-01, -5.03727721e-01,\n",
       "        1.43156224e-01, -7.93931161e-01, -1.49553573e-01, -5.68877458e-02,\n",
       "        2.93381689e-02,  6.62202332e-01, -1.10630509e+00, -2.95204908e-01,\n",
       "        7.99062703e-01, -1.81360937e-01,  2.21191083e-02, -3.45672839e-01,\n",
       "       -1.05117883e+00, -2.60622652e-01, -3.28577731e-01, -2.57877299e-01,\n",
       "        2.97191070e-01,  1.36157049e+00, -1.03332842e+00, -6.49605565e-01,\n",
       "        1.23846744e+00,  7.23389485e-01, -9.25725937e-01, -5.46912320e-01,\n",
       "       -1.55529307e-01,  1.00668327e-01, -1.46045681e+00, -4.00811036e-01,\n",
       "        1.08924225e-01, -9.49909535e-01,  2.07101920e+00,  1.83286777e-01,\n",
       "       -7.26540115e-01,  1.71543437e-01,  7.98347366e-01, -1.26057295e-01,\n",
       "        4.97136295e-01, -6.51775139e-01,  1.40559522e-01, -7.28383714e-01,\n",
       "       -9.38706336e-02,  1.74406546e-01,  4.09572690e-01,  5.69782921e-01,\n",
       "        8.40371668e-01, -1.12988164e+00,  1.21436807e-01, -1.35306247e+00,\n",
       "       -8.88195188e-02, -5.14507375e-01, -2.83609678e-01, -6.75921433e-03,\n",
       "        1.05169961e+00,  7.14998053e-01,  1.06981490e+00, -4.71140190e-01,\n",
       "       -5.46605627e-01,  4.69022648e-01,  1.86884855e+00,  2.40358989e+00,\n",
       "        2.40355733e-01, -8.89506293e-01, -9.38226299e-01, -5.19264523e-01,\n",
       "       -1.11635874e+00, -3.88870848e-01, -1.02936009e+00,  6.13042356e-02,\n",
       "       -6.48986651e-01, -9.54237524e-01, -9.81401161e-01,  1.64476138e-01,\n",
       "        4.76106313e-01,  3.55989706e-01, -8.16898454e-01,  8.23145468e-01,\n",
       "       -1.06392544e+00,  4.52097981e-01,  3.75027590e-01,  2.84290340e-01,\n",
       "        6.46777095e-01,  5.00942105e-01,  9.26139053e-02, -1.88720019e+00,\n",
       "        5.06003644e-01, -6.56898029e-01,  7.77829325e-02,  7.53394424e-01,\n",
       "       -3.90197348e-01, -1.00814558e+00,  1.87409524e+00, -1.29570553e+00,\n",
       "       -7.50688612e-01,  9.88265521e-01,  9.72292311e-02, -6.50730803e-01,\n",
       "        7.10761415e-01, -9.95687358e-01,  6.98752079e-01, -1.80182962e+00,\n",
       "        8.54311181e-01,  5.29839037e-01, -1.45031302e+00,  1.93542781e-01,\n",
       "       -1.30121871e+00, -1.32347290e+00, -5.31044704e-01, -8.53549867e-03])"
      ]
     },
     "execution_count": 129,
     "metadata": {},
     "output_type": "execute_result"
    }
   ],
   "source": [
    "large_arr = np.random.randn(1000)\n",
    "large_arr"
   ]
  },
  {
   "cell_type": "code",
   "execution_count": 130,
   "metadata": {},
   "outputs": [
    {
     "data": {
      "text/plain": [
       "-1.5998977557127783"
      ]
     },
     "execution_count": 130,
     "metadata": {},
     "output_type": "execute_result"
    }
   ],
   "source": [
    "large_arr.sort()\n",
    "large_arr[int(0.05 * len(large_arr))] # 5% quantile"
   ]
  },
  {
   "cell_type": "markdown",
   "metadata": {},
   "source": [
    "### Unique and Other Set Logic"
   ]
  },
  {
   "cell_type": "code",
   "execution_count": 131,
   "metadata": {},
   "outputs": [
    {
     "data": {
      "text/plain": [
       "array(['Bob', 'Joe', 'Will'], dtype='<U4')"
      ]
     },
     "execution_count": 131,
     "metadata": {},
     "output_type": "execute_result"
    }
   ],
   "source": [
    "names = np.array(['Bob', 'Joe', 'Will', 'Bob', 'Will', 'Joe', 'Joe'])\n",
    "np.unique(names)"
   ]
  },
  {
   "cell_type": "code",
   "execution_count": 132,
   "metadata": {},
   "outputs": [
    {
     "data": {
      "text/plain": [
       "array([1, 2, 3, 4])"
      ]
     },
     "execution_count": 132,
     "metadata": {},
     "output_type": "execute_result"
    }
   ],
   "source": [
    "ints = np.array([3, 3, 3, 2, 2, 1, 1, 4, 4])\n",
    "np.unique(ints)"
   ]
  },
  {
   "cell_type": "code",
   "execution_count": 133,
   "metadata": {},
   "outputs": [
    {
     "data": {
      "text/plain": [
       "['Bob', 'Joe', 'Will']"
      ]
     },
     "execution_count": 133,
     "metadata": {},
     "output_type": "execute_result"
    }
   ],
   "source": [
    "sorted(set(names))"
   ]
  },
  {
   "cell_type": "code",
   "execution_count": 134,
   "metadata": {},
   "outputs": [
    {
     "data": {
      "text/plain": [
       "array([ True, False, False,  True,  True, False,  True])"
      ]
     },
     "execution_count": 134,
     "metadata": {},
     "output_type": "execute_result"
    }
   ],
   "source": [
    "values = np.array([6, 0, 0, 3, 2, 5, 6])\n",
    "np.in1d(values, [2, 3, 6])"
   ]
  },
  {
   "cell_type": "markdown",
   "metadata": {},
   "source": [
    "**Table 4-6. Array set operations**\n",
    "<table>\n",
    "    <th>Function</th>\n",
    "    <th>Description</th>\n",
    "    <tr>\n",
    "        <td>unique(x)</td>\n",
    "        <td>Compute the sorted, unique elements in x</td>\n",
    "    </tr>\n",
    "    <tr>\n",
    "        <td>intersect1d(x, y)</td>\n",
    "        <td>Compute the sorted, common elements in x and y</td>\n",
    "    </tr>\n",
    "    <tr>\n",
    "        <td>union1d(x, y)</td>\n",
    "        <td>Compute the sorted union of elements</td>\n",
    "    </tr>\n",
    "    <tr>\n",
    "        <td>in1d(x, y)</td>\n",
    "        <td>Compute a boolean array indicating whether each element of x is contained in y</td>\n",
    "    </tr>\n",
    "    <tr>\n",
    "        <td>setdiff1d(x, y)</td>\n",
    "        <td>Set diﬀerence, elements in x that are not in y</td>\n",
    "    </tr>\n",
    "    <tr>\n",
    "        <td>setxor1d(x, y)</td>\n",
    "        <td>Set symmetric diﬀerences; elements that are in either of the arrays, but not both</td>\n",
    "    </tr>\n",
    "</table>"
   ]
  },
  {
   "cell_type": "markdown",
   "metadata": {},
   "source": [
    "## File Input and Output with Arrays"
   ]
  },
  {
   "cell_type": "code",
   "execution_count": 135,
   "metadata": {},
   "outputs": [],
   "source": [
    "arr = np.arange(10)\n",
    "np.save('some_array', arr)"
   ]
  },
  {
   "cell_type": "code",
   "execution_count": 136,
   "metadata": {},
   "outputs": [
    {
     "data": {
      "text/plain": [
       "array([0, 1, 2, 3, 4, 5, 6, 7, 8, 9])"
      ]
     },
     "execution_count": 136,
     "metadata": {},
     "output_type": "execute_result"
    }
   ],
   "source": [
    "np.load('some_array.npy')"
   ]
  },
  {
   "cell_type": "code",
   "execution_count": 137,
   "metadata": {},
   "outputs": [],
   "source": [
    "np.savez('array_archive.npz', a=arr, b=arr)"
   ]
  },
  {
   "cell_type": "code",
   "execution_count": 138,
   "metadata": {},
   "outputs": [
    {
     "data": {
      "text/plain": [
       "<numpy.lib.npyio.NpzFile at 0x246425becf8>"
      ]
     },
     "execution_count": 138,
     "metadata": {},
     "output_type": "execute_result"
    }
   ],
   "source": [
    "arch = np.load('array_archive.npz')\n",
    "arch"
   ]
  },
  {
   "cell_type": "code",
   "execution_count": 139,
   "metadata": {},
   "outputs": [
    {
     "data": {
      "text/plain": [
       "array([0, 1, 2, 3, 4, 5, 6, 7, 8, 9])"
      ]
     },
     "execution_count": 139,
     "metadata": {},
     "output_type": "execute_result"
    }
   ],
   "source": [
    "arch['b']"
   ]
  },
  {
   "cell_type": "code",
   "execution_count": 140,
   "metadata": {},
   "outputs": [],
   "source": [
    "np.savez_compressed('arrays_compressed.npz', a=arr, b=arr)"
   ]
  },
  {
   "cell_type": "code",
   "execution_count": null,
   "metadata": {},
   "outputs": [],
   "source": [
    "!rm some_array.npy\n",
    "!rm array_archive.npz\n",
    "!rm arrays_compressed.npz"
   ]
  },
  {
   "cell_type": "markdown",
   "metadata": {},
   "source": [
    "## Linear Algebra"
   ]
  },
  {
   "cell_type": "code",
   "execution_count": 141,
   "metadata": {},
   "outputs": [
    {
     "data": {
      "text/plain": [
       "array([[1., 2., 3.],\n",
       "       [4., 5., 6.]])"
      ]
     },
     "execution_count": 141,
     "metadata": {},
     "output_type": "execute_result"
    }
   ],
   "source": [
    "x = np.array([[1., 2., 3.], [4., 5., 6.]])\n",
    "y = np.array([[6., 23.], [-1, 7], [8, 9]])\n",
    "x"
   ]
  },
  {
   "cell_type": "code",
   "execution_count": 142,
   "metadata": {},
   "outputs": [
    {
     "data": {
      "text/plain": [
       "array([[ 6., 23.],\n",
       "       [-1.,  7.],\n",
       "       [ 8.,  9.]])"
      ]
     },
     "execution_count": 142,
     "metadata": {},
     "output_type": "execute_result"
    }
   ],
   "source": [
    "y"
   ]
  },
  {
   "cell_type": "code",
   "execution_count": 143,
   "metadata": {},
   "outputs": [
    {
     "data": {
      "text/plain": [
       "array([[ 28.,  64.],\n",
       "       [ 67., 181.]])"
      ]
     },
     "execution_count": 143,
     "metadata": {},
     "output_type": "execute_result"
    }
   ],
   "source": [
    "x.dot(y)"
   ]
  },
  {
   "cell_type": "code",
   "execution_count": 144,
   "metadata": {},
   "outputs": [
    {
     "data": {
      "text/plain": [
       "array([[ 28.,  64.],\n",
       "       [ 67., 181.]])"
      ]
     },
     "execution_count": 144,
     "metadata": {},
     "output_type": "execute_result"
    }
   ],
   "source": [
    "np.dot(x, y)"
   ]
  },
  {
   "cell_type": "code",
   "execution_count": 145,
   "metadata": {},
   "outputs": [
    {
     "data": {
      "text/plain": [
       "array([ 6., 15.])"
      ]
     },
     "execution_count": 145,
     "metadata": {},
     "output_type": "execute_result"
    }
   ],
   "source": [
    "np.dot(x, np.ones(3))"
   ]
  },
  {
   "cell_type": "code",
   "execution_count": 146,
   "metadata": {},
   "outputs": [
    {
     "data": {
      "text/plain": [
       "array([ 6., 15.])"
      ]
     },
     "execution_count": 146,
     "metadata": {},
     "output_type": "execute_result"
    }
   ],
   "source": [
    "x @ np.ones(3)"
   ]
  },
  {
   "cell_type": "code",
   "execution_count": 147,
   "metadata": {},
   "outputs": [
    {
     "data": {
      "text/plain": [
       "array([[ 0.27254782,  0.23536521, -1.65839642,  2.43336091, -0.87772932],\n",
       "       [-0.12987016,  0.23680694,  1.20240981,  1.72004897, -0.79730647],\n",
       "       [ 0.08156938,  1.03489517,  1.42063163,  0.09715243,  0.48197135],\n",
       "       [ 0.58449206,  0.49470212,  0.51759143, -1.18043827, -0.07851103],\n",
       "       [-0.01922724, -0.29437407, -1.630439  , -0.0195354 ,  0.4497521 ]])"
      ]
     },
     "execution_count": 147,
     "metadata": {},
     "output_type": "execute_result"
    }
   ],
   "source": [
    "from numpy.linalg import inv, qr\n",
    "X = np.random.randn(5, 5)\n",
    "X"
   ]
  },
  {
   "cell_type": "code",
   "execution_count": 148,
   "metadata": {},
   "outputs": [
    {
     "data": {
      "text/plain": [
       "array([[ 0.4398028 ,  0.41261934, -0.15839252, -0.24183233, -0.15089936],\n",
       "       [ 0.41261934,  1.5138686 ,  2.10062751,  0.50237602, -0.06783975],\n",
       "       [-0.15839252,  2.10062751,  9.14049447, -2.4083889 ,  0.40770779],\n",
       "       [-0.24183233,  0.50237602, -2.4083889 , 10.2830685 , -3.37652236],\n",
       "       [-0.15089936, -0.06783975,  0.40770779, -3.37652236,  1.84684368]])"
      ]
     },
     "execution_count": 148,
     "metadata": {},
     "output_type": "execute_result"
    }
   ],
   "source": [
    "mat = X.T.dot(X)\n",
    "mat"
   ]
  },
  {
   "cell_type": "code",
   "execution_count": 149,
   "metadata": {},
   "outputs": [
    {
     "data": {
      "text/plain": [
       "array([[ 252.45533557, -159.68207634,   53.3247063 ,   68.07828872,\n",
       "         127.4550327 ],\n",
       "       [-159.68207634,  102.16135243,  -34.04283408,  -43.29448443,\n",
       "         -80.93299381],\n",
       "       [  53.3247063 ,  -34.04283408,   11.46789973,   14.491422  ,\n",
       "          27.06902887],\n",
       "       [  68.07828872,  -43.29448443,   14.491422  ,   18.66832519,\n",
       "          34.90367674],\n",
       "       [ 127.4550327 ,  -80.93299381,   27.06902887,   34.90367674,\n",
       "          65.81997207]])"
      ]
     },
     "execution_count": 149,
     "metadata": {},
     "output_type": "execute_result"
    }
   ],
   "source": [
    "inv(mat)"
   ]
  },
  {
   "cell_type": "code",
   "execution_count": 150,
   "metadata": {},
   "outputs": [
    {
     "data": {
      "text/plain": [
       "array([[ 1.00000000e+00, -5.32907052e-15,  0.00000000e+00,\n",
       "         6.21724894e-15,  0.00000000e+00],\n",
       "       [ 4.44089210e-14,  1.00000000e+00,  5.10702591e-15,\n",
       "        -4.44089210e-16, -1.06581410e-14],\n",
       "       [ 0.00000000e+00,  7.10542736e-15,  1.00000000e+00,\n",
       "        -1.95399252e-14,  1.06581410e-14],\n",
       "       [ 5.68434189e-14,  0.00000000e+00, -1.42108547e-14,\n",
       "         1.00000000e+00,  5.68434189e-14],\n",
       "       [ 5.68434189e-14, -2.84217094e-14,  7.10542736e-15,\n",
       "         1.42108547e-14,  1.00000000e+00]])"
      ]
     },
     "execution_count": 150,
     "metadata": {},
     "output_type": "execute_result"
    }
   ],
   "source": [
    "mat.dot(inv(mat))"
   ]
  },
  {
   "cell_type": "code",
   "execution_count": 151,
   "metadata": {},
   "outputs": [
    {
     "data": {
      "text/plain": [
       "array([[-6.85582165e-01, -5.28230114e-01,  1.89305377e-01,\n",
       "         2.18042583e+00, -5.52711180e-01],\n",
       "       [ 0.00000000e+00, -2.61775584e+00, -8.09010268e+00,\n",
       "        -8.20708565e-01,  5.43234098e-01],\n",
       "       [ 0.00000000e+00,  0.00000000e+00, -5.33547825e+00,\n",
       "         1.01424650e+01, -3.18480324e+00],\n",
       "       [ 0.00000000e+00,  0.00000000e+00,  0.00000000e+00,\n",
       "        -3.86732297e+00,  2.06439684e+00],\n",
       "       [ 0.00000000e+00,  0.00000000e+00,  0.00000000e+00,\n",
       "         0.00000000e+00,  5.86430057e-03]])"
      ]
     },
     "execution_count": 151,
     "metadata": {},
     "output_type": "execute_result"
    }
   ],
   "source": [
    "q, r = qr(mat)\n",
    "r"
   ]
  },
  {
   "cell_type": "markdown",
   "metadata": {},
   "source": [
    "**Table 4-7. Commonly used numpy.linalg functions**\n",
    "<table>\n",
    "    <th>Function</th>\n",
    "    <th>Description</th>\n",
    "    <tr>\n",
    "        <td>diag</td>\n",
    "        <td>Return the diagonal (or oﬀ-diagonal) elements of a square matrix as a 1D array, or convert a 1D array into a square matrix with zeros on the oﬀ-diagonal</td>\n",
    "    </tr>\n",
    "    <tr>\n",
    "        <td>dot</td>\n",
    "        <td>Matrix multiplication</td>\n",
    "    </tr>\n",
    "    <tr>\n",
    "        <td>trace</td>\n",
    "        <td>Compute the sum of the diagonal elements</td>\n",
    "    </tr>\n",
    "    <tr>\n",
    "        <td>det</td>\n",
    "        <td>Compute the matrix determinant</td>\n",
    "    </tr>\n",
    "    <tr>\n",
    "        <td>eig</td>\n",
    "        <td>Compute the eigenvalues and eigenvectors of a square matrix</td>\n",
    "    </tr>\n",
    "    <tr>\n",
    "        <td>inv</td>\n",
    "        <td>Compute the inverse of a square matrix</td>\n",
    "    </tr>\n",
    "    <tr>\n",
    "        <td>pinv</td>\n",
    "        <td>Compute the Moore-Penrose pseudo-inverse of a matrix</td>\n",
    "    </tr>\n",
    "    <tr>\n",
    "        <td>qr</td>\n",
    "        <td>Compute the QR decomposition</td>\n",
    "    </tr>\n",
    "    <tr>\n",
    "        <td>svd</td>\n",
    "        <td>Compute the singular value decomposition (SVD)</td>\n",
    "    </tr>\n",
    "    <tr>\n",
    "        <td>solve</td>\n",
    "        <td>Solve the linear system Ax = b for x, where A is a square matrix</td>\n",
    "    </tr>\n",
    "    <tr>\n",
    "        <td>lstsq</td>\n",
    "        <td>Compute the least-squares solution to Ax = b</td>\n",
    "    </tr>\n",
    "</table>"
   ]
  },
  {
   "cell_type": "markdown",
   "metadata": {},
   "source": [
    "## Pseudorandom Number Generation"
   ]
  },
  {
   "cell_type": "code",
   "execution_count": 152,
   "metadata": {},
   "outputs": [
    {
     "data": {
      "text/plain": [
       "array([[-1.05447156,  0.46593904,  0.4886587 , -0.37466773],\n",
       "       [-0.39683771,  1.34070685, -0.57888442, -1.22455693],\n",
       "       [ 0.95008575, -1.19709475, -0.7091898 , -0.33624372],\n",
       "       [ 1.82028566,  0.14603355,  1.02879404,  2.1254514 ]])"
      ]
     },
     "execution_count": 152,
     "metadata": {},
     "output_type": "execute_result"
    }
   ],
   "source": [
    "samples = np.random.normal(size=(4, 4))\n",
    "samples"
   ]
  },
  {
   "cell_type": "code",
   "execution_count": 153,
   "metadata": {},
   "outputs": [
    {
     "name": "stdout",
     "output_type": "stream",
     "text": [
      "972 ms ± 6 ms per loop (mean ± std. dev. of 7 runs, 1 loop each)\n",
      "35.1 ms ± 103 µs per loop (mean ± std. dev. of 7 runs, 10 loops each)\n"
     ]
    }
   ],
   "source": [
    "from random import normalvariate\n",
    "N = 1000000\n",
    "%timeit samples = [normalvariate(0, 1) for _ in range(N)]\n",
    "%timeit np.random.normal(size=N)"
   ]
  },
  {
   "cell_type": "code",
   "execution_count": 154,
   "metadata": {},
   "outputs": [],
   "source": [
    "np.random.seed(1234)"
   ]
  },
  {
   "cell_type": "code",
   "execution_count": 155,
   "metadata": {},
   "outputs": [
    {
     "data": {
      "text/plain": [
       "array([ 0.47143516, -1.19097569,  1.43270697, -0.3126519 , -0.72058873,\n",
       "        0.88716294,  0.85958841, -0.6365235 ,  0.01569637, -2.24268495])"
      ]
     },
     "execution_count": 155,
     "metadata": {},
     "output_type": "execute_result"
    }
   ],
   "source": [
    "rng = np.random.RandomState(1234)\n",
    "rng.randn(10)"
   ]
  },
  {
   "cell_type": "markdown",
   "metadata": {},
   "source": [
    "**Table 4-8. Partial list of numpy.random functions**\n",
    "<table>\n",
    "    <th>Function</th>\n",
    "    <th>Description</th>\n",
    "    <tr>\n",
    "        <td>seed</td>\n",
    "        <td>Seed the random number generator</td>\n",
    "    </tr>\n",
    "    <tr>\n",
    "        <td>permutation</td>\n",
    "        <td>Return a random permutation of a sequence, or return a permuted range</td>\n",
    "    </tr>\n",
    "    <tr>\n",
    "        <td>shuffle</td>\n",
    "        <td>Randomly permute a sequence in-place</td>\n",
    "    </tr>\n",
    "    <tr>\n",
    "        <td>rand</td>\n",
    "        <td>Draw samples from a uniform distribution</td>\n",
    "    </tr>\n",
    "    <tr>\n",
    "        <td>randint</td>\n",
    "        <td>Draw random integers from a given low-to-high range</td>\n",
    "    </tr>\n",
    "    <tr>\n",
    "        <td>randn</td>\n",
    "        <td>Draw samples from a normal distribution with mean 0 and standard deviation 1 (MATLAB-like interface)</td>\n",
    "    </tr>\n",
    "    <tr>\n",
    "        <td>binomial</td>\n",
    "        <td>Draw samples from a binomial distribution</td>\n",
    "    </tr>\n",
    "    <tr>\n",
    "        <td>normal</td>\n",
    "        <td>Draw samples from a normal (Gaussian) distribution</td>\n",
    "    </tr>\n",
    "    <tr>\n",
    "        <td>beta</td>\n",
    "        <td>Draw samples from a beta distribution</td>\n",
    "    </tr>\n",
    "    <tr>\n",
    "        <td>chisquare</td>\n",
    "        <td>Draw samples from a chi-square distribution</td>\n",
    "    </tr>\n",
    "    <tr>\n",
    "        <td>gamma</td>\n",
    "        <td>Draw samples from a gamma distribution</td>\n",
    "    </tr>\n",
    "    <tr>\n",
    "        <td>uniform</td>\n",
    "        <td>Draw samples from a uniform [0, 1) distribution</td>\n",
    "    </tr>\n",
    "</table>"
   ]
  },
  {
   "cell_type": "markdown",
   "metadata": {},
   "source": [
    "## Example: Random Walks"
   ]
  },
  {
   "cell_type": "code",
   "execution_count": 156,
   "metadata": {},
   "outputs": [
    {
     "data": {
      "text/plain": [
       "[0,\n",
       " -1,\n",
       " 0,\n",
       " 1,\n",
       " 2,\n",
       " 3,\n",
       " 2,\n",
       " 1,\n",
       " 2,\n",
       " 3,\n",
       " 4,\n",
       " 5,\n",
       " 4,\n",
       " 5,\n",
       " 6,\n",
       " 7,\n",
       " 6,\n",
       " 5,\n",
       " 4,\n",
       " 5,\n",
       " 6,\n",
       " 5,\n",
       " 4,\n",
       " 3,\n",
       " 4,\n",
       " 3,\n",
       " 4,\n",
       " 5,\n",
       " 4,\n",
       " 5,\n",
       " 6,\n",
       " 7,\n",
       " 6,\n",
       " 7,\n",
       " 8,\n",
       " 7,\n",
       " 8,\n",
       " 7,\n",
       " 8,\n",
       " 7,\n",
       " 8,\n",
       " 7,\n",
       " 8,\n",
       " 7,\n",
       " 8,\n",
       " 7,\n",
       " 6,\n",
       " 7,\n",
       " 6,\n",
       " 7,\n",
       " 8,\n",
       " 9,\n",
       " 10,\n",
       " 9,\n",
       " 10,\n",
       " 11,\n",
       " 12,\n",
       " 11,\n",
       " 10,\n",
       " 9,\n",
       " 8,\n",
       " 9,\n",
       " 8,\n",
       " 9,\n",
       " 10,\n",
       " 9,\n",
       " 10,\n",
       " 9,\n",
       " 8,\n",
       " 9,\n",
       " 10,\n",
       " 11,\n",
       " 12,\n",
       " 13,\n",
       " 14,\n",
       " 15,\n",
       " 14,\n",
       " 15,\n",
       " 16,\n",
       " 15,\n",
       " 14,\n",
       " 15,\n",
       " 14,\n",
       " 15,\n",
       " 14,\n",
       " 15,\n",
       " 14,\n",
       " 13,\n",
       " 12,\n",
       " 13,\n",
       " 14,\n",
       " 15,\n",
       " 16,\n",
       " 17,\n",
       " 18,\n",
       " 19,\n",
       " 20,\n",
       " 21,\n",
       " 22,\n",
       " 23,\n",
       " 22,\n",
       " 23,\n",
       " 22,\n",
       " 21,\n",
       " 22,\n",
       " 23,\n",
       " 24,\n",
       " 25,\n",
       " 26,\n",
       " 25,\n",
       " 26,\n",
       " 27,\n",
       " 28,\n",
       " 27,\n",
       " 28,\n",
       " 27,\n",
       " 28,\n",
       " 29,\n",
       " 28,\n",
       " 27,\n",
       " 28,\n",
       " 27,\n",
       " 28,\n",
       " 27,\n",
       " 26,\n",
       " 27,\n",
       " 26,\n",
       " 27,\n",
       " 28,\n",
       " 27,\n",
       " 26,\n",
       " 25,\n",
       " 24,\n",
       " 23,\n",
       " 22,\n",
       " 21,\n",
       " 22,\n",
       " 23,\n",
       " 22,\n",
       " 23,\n",
       " 24,\n",
       " 25,\n",
       " 26,\n",
       " 27,\n",
       " 28,\n",
       " 29,\n",
       " 30,\n",
       " 31,\n",
       " 32,\n",
       " 33,\n",
       " 32,\n",
       " 33,\n",
       " 34,\n",
       " 33,\n",
       " 32,\n",
       " 31,\n",
       " 32,\n",
       " 31,\n",
       " 30,\n",
       " 31,\n",
       " 32,\n",
       " 33,\n",
       " 34,\n",
       " 35,\n",
       " 34,\n",
       " 33,\n",
       " 32,\n",
       " 33,\n",
       " 32,\n",
       " 31,\n",
       " 32,\n",
       " 31,\n",
       " 30,\n",
       " 29,\n",
       " 28,\n",
       " 27,\n",
       " 26,\n",
       " 27,\n",
       " 26,\n",
       " 27,\n",
       " 28,\n",
       " 27,\n",
       " 28,\n",
       " 27,\n",
       " 26,\n",
       " 25,\n",
       " 24,\n",
       " 23,\n",
       " 24,\n",
       " 23,\n",
       " 22,\n",
       " 21,\n",
       " 22,\n",
       " 21,\n",
       " 20,\n",
       " 19,\n",
       " 18,\n",
       " 17,\n",
       " 16,\n",
       " 15,\n",
       " 16,\n",
       " 17,\n",
       " 18,\n",
       " 19,\n",
       " 18,\n",
       " 17,\n",
       " 16,\n",
       " 17,\n",
       " 16,\n",
       " 15,\n",
       " 16,\n",
       " 17,\n",
       " 18,\n",
       " 19,\n",
       " 18,\n",
       " 17,\n",
       " 18,\n",
       " 17,\n",
       " 16,\n",
       " 15,\n",
       " 14,\n",
       " 15,\n",
       " 16,\n",
       " 17,\n",
       " 16,\n",
       " 17,\n",
       " 18,\n",
       " 17,\n",
       " 16,\n",
       " 17,\n",
       " 16,\n",
       " 17,\n",
       " 16,\n",
       " 15,\n",
       " 16,\n",
       " 15,\n",
       " 14,\n",
       " 13,\n",
       " 12,\n",
       " 13,\n",
       " 12,\n",
       " 13,\n",
       " 12,\n",
       " 13,\n",
       " 12,\n",
       " 13,\n",
       " 14,\n",
       " 13,\n",
       " 14,\n",
       " 15,\n",
       " 16,\n",
       " 17,\n",
       " 18,\n",
       " 19,\n",
       " 18,\n",
       " 17,\n",
       " 16,\n",
       " 15,\n",
       " 16,\n",
       " 17,\n",
       " 16,\n",
       " 17,\n",
       " 18,\n",
       " 19,\n",
       " 18,\n",
       " 17,\n",
       " 16,\n",
       " 15,\n",
       " 14,\n",
       " 13,\n",
       " 14,\n",
       " 15,\n",
       " 14,\n",
       " 15,\n",
       " 14,\n",
       " 15,\n",
       " 16,\n",
       " 17,\n",
       " 18,\n",
       " 17,\n",
       " 16,\n",
       " 15,\n",
       " 16,\n",
       " 15,\n",
       " 16,\n",
       " 15,\n",
       " 14,\n",
       " 15,\n",
       " 16,\n",
       " 15,\n",
       " 14,\n",
       " 15,\n",
       " 16,\n",
       " 15,\n",
       " 16,\n",
       " 17,\n",
       " 16,\n",
       " 15,\n",
       " 14,\n",
       " 13,\n",
       " 12,\n",
       " 11,\n",
       " 12,\n",
       " 11,\n",
       " 12,\n",
       " 11,\n",
       " 12,\n",
       " 13,\n",
       " 14,\n",
       " 15,\n",
       " 14,\n",
       " 13,\n",
       " 14,\n",
       " 13,\n",
       " 12,\n",
       " 13,\n",
       " 14,\n",
       " 15,\n",
       " 16,\n",
       " 15,\n",
       " 14,\n",
       " 13,\n",
       " 14,\n",
       " 13,\n",
       " 14,\n",
       " 13,\n",
       " 14,\n",
       " 15,\n",
       " 16,\n",
       " 15,\n",
       " 14,\n",
       " 15,\n",
       " 16,\n",
       " 15,\n",
       " 14,\n",
       " 13,\n",
       " 12,\n",
       " 11,\n",
       " 10,\n",
       " 9,\n",
       " 8,\n",
       " 9,\n",
       " 10,\n",
       " 9,\n",
       " 8,\n",
       " 7,\n",
       " 8,\n",
       " 9,\n",
       " 8,\n",
       " 7,\n",
       " 6,\n",
       " 7,\n",
       " 6,\n",
       " 7,\n",
       " 6,\n",
       " 7,\n",
       " 8,\n",
       " 7,\n",
       " 6,\n",
       " 7,\n",
       " 6,\n",
       " 5,\n",
       " 4,\n",
       " 5,\n",
       " 4,\n",
       " 3,\n",
       " 4,\n",
       " 5,\n",
       " 4,\n",
       " 3,\n",
       " 2,\n",
       " 1,\n",
       " 0,\n",
       " -1,\n",
       " -2,\n",
       " -1,\n",
       " 0,\n",
       " 1,\n",
       " 0,\n",
       " -1,\n",
       " -2,\n",
       " -3,\n",
       " -2,\n",
       " -1,\n",
       " 0,\n",
       " 1,\n",
       " 0,\n",
       " 1,\n",
       " 0,\n",
       " 1,\n",
       " 0,\n",
       " 1,\n",
       " 0,\n",
       " -1,\n",
       " -2,\n",
       " -1,\n",
       " 0,\n",
       " -1,\n",
       " -2,\n",
       " -3,\n",
       " -2,\n",
       " -1,\n",
       " -2,\n",
       " -3,\n",
       " -4,\n",
       " -3,\n",
       " -2,\n",
       " -3,\n",
       " -4,\n",
       " -5,\n",
       " -4,\n",
       " -5,\n",
       " -4,\n",
       " -3,\n",
       " -4,\n",
       " -5,\n",
       " -6,\n",
       " -7,\n",
       " -8,\n",
       " -7,\n",
       " -6,\n",
       " -5,\n",
       " -4,\n",
       " -3,\n",
       " -2,\n",
       " -3,\n",
       " -4,\n",
       " -3,\n",
       " -4,\n",
       " -3,\n",
       " -2,\n",
       " -3,\n",
       " -2,\n",
       " -3,\n",
       " -4,\n",
       " -5,\n",
       " -4,\n",
       " -5,\n",
       " -6,\n",
       " -5,\n",
       " -6,\n",
       " -7,\n",
       " -8,\n",
       " -9,\n",
       " -8,\n",
       " -9,\n",
       " -10,\n",
       " -11,\n",
       " -12,\n",
       " -11,\n",
       " -10,\n",
       " -9,\n",
       " -10,\n",
       " -9,\n",
       " -8,\n",
       " -7,\n",
       " -8,\n",
       " -7,\n",
       " -8,\n",
       " -9,\n",
       " -8,\n",
       " -7,\n",
       " -6,\n",
       " -5,\n",
       " -4,\n",
       " -5,\n",
       " -4,\n",
       " -5,\n",
       " -6,\n",
       " -5,\n",
       " -6,\n",
       " -5,\n",
       " -6,\n",
       " -5,\n",
       " -6,\n",
       " -7,\n",
       " -6,\n",
       " -5,\n",
       " -4,\n",
       " -5,\n",
       " -6,\n",
       " -5,\n",
       " -4,\n",
       " -3,\n",
       " -4,\n",
       " -3,\n",
       " -2,\n",
       " -1,\n",
       " 0,\n",
       " 1,\n",
       " 0,\n",
       " 1,\n",
       " 2,\n",
       " 3,\n",
       " 4,\n",
       " 3,\n",
       " 2,\n",
       " 3,\n",
       " 4,\n",
       " 5,\n",
       " 4,\n",
       " 5,\n",
       " 4,\n",
       " 3,\n",
       " 2,\n",
       " 3,\n",
       " 2,\n",
       " 1,\n",
       " 2,\n",
       " 1,\n",
       " 0,\n",
       " -1,\n",
       " -2,\n",
       " -1,\n",
       " -2,\n",
       " -1,\n",
       " 0,\n",
       " 1,\n",
       " 2,\n",
       " 3,\n",
       " 2,\n",
       " 1,\n",
       " 2,\n",
       " 1,\n",
       " 2,\n",
       " 3,\n",
       " 4,\n",
       " 5,\n",
       " 6,\n",
       " 5,\n",
       " 4,\n",
       " 5,\n",
       " 6,\n",
       " 7,\n",
       " 6,\n",
       " 7,\n",
       " 8,\n",
       " 9,\n",
       " 10,\n",
       " 11,\n",
       " 12,\n",
       " 11,\n",
       " 12,\n",
       " 13,\n",
       " 14,\n",
       " 13,\n",
       " 12,\n",
       " 11,\n",
       " 10,\n",
       " 11,\n",
       " 12,\n",
       " 13,\n",
       " 12,\n",
       " 13,\n",
       " 14,\n",
       " 13,\n",
       " 14,\n",
       " 15,\n",
       " 16,\n",
       " 15,\n",
       " 14,\n",
       " 13,\n",
       " 12,\n",
       " 13,\n",
       " 14,\n",
       " 13,\n",
       " 14,\n",
       " 13,\n",
       " 12,\n",
       " 13,\n",
       " 12,\n",
       " 13,\n",
       " 14,\n",
       " 13,\n",
       " 14,\n",
       " 15,\n",
       " 14,\n",
       " 13,\n",
       " 12,\n",
       " 13,\n",
       " 12,\n",
       " 11,\n",
       " 10,\n",
       " 11,\n",
       " 12,\n",
       " 11,\n",
       " 10,\n",
       " 11,\n",
       " 10,\n",
       " 9,\n",
       " 10,\n",
       " 9,\n",
       " 10,\n",
       " 11,\n",
       " 12,\n",
       " 13,\n",
       " 12,\n",
       " 13,\n",
       " 14,\n",
       " 13,\n",
       " 12,\n",
       " 13,\n",
       " 12,\n",
       " 11,\n",
       " 12,\n",
       " 13,\n",
       " 14,\n",
       " 13,\n",
       " 14,\n",
       " 15,\n",
       " 16,\n",
       " 15,\n",
       " 16,\n",
       " 15,\n",
       " 14,\n",
       " 13,\n",
       " 14,\n",
       " 15,\n",
       " 16,\n",
       " 15,\n",
       " 16,\n",
       " 17,\n",
       " 16,\n",
       " 15,\n",
       " 16,\n",
       " 17,\n",
       " 18,\n",
       " 19,\n",
       " 20,\n",
       " 21,\n",
       " 22,\n",
       " 23,\n",
       " 22,\n",
       " 21,\n",
       " 20,\n",
       " 19,\n",
       " 20,\n",
       " 21,\n",
       " 20,\n",
       " 21,\n",
       " 22,\n",
       " 21,\n",
       " 20,\n",
       " 21,\n",
       " 22,\n",
       " 21,\n",
       " 22,\n",
       " 21,\n",
       " 22,\n",
       " 21,\n",
       " 22,\n",
       " 23,\n",
       " 24,\n",
       " 23,\n",
       " 22,\n",
       " 21,\n",
       " 20,\n",
       " 19,\n",
       " 18,\n",
       " 17,\n",
       " 18,\n",
       " 17,\n",
       " 16,\n",
       " 17,\n",
       " 18,\n",
       " 17,\n",
       " 16,\n",
       " 15,\n",
       " 14,\n",
       " 15,\n",
       " 14,\n",
       " 15,\n",
       " 14,\n",
       " 15,\n",
       " 16,\n",
       " 17,\n",
       " 18,\n",
       " 17,\n",
       " 16,\n",
       " 17,\n",
       " 16,\n",
       " 15,\n",
       " 14,\n",
       " 15,\n",
       " 14,\n",
       " 13,\n",
       " 14,\n",
       " 13,\n",
       " 14,\n",
       " 15,\n",
       " 14,\n",
       " 13,\n",
       " 14,\n",
       " 13,\n",
       " 14,\n",
       " 13,\n",
       " 12,\n",
       " 13,\n",
       " 12,\n",
       " 11,\n",
       " 12,\n",
       " 11,\n",
       " 12,\n",
       " 13,\n",
       " 14,\n",
       " 13,\n",
       " 12,\n",
       " 13,\n",
       " 14,\n",
       " 15,\n",
       " 16,\n",
       " 15,\n",
       " 16,\n",
       " 17,\n",
       " 16,\n",
       " 17,\n",
       " 18,\n",
       " 17,\n",
       " 18,\n",
       " 19,\n",
       " 20,\n",
       " 21,\n",
       " 22,\n",
       " 23,\n",
       " 22,\n",
       " 21,\n",
       " 22,\n",
       " 21,\n",
       " 20,\n",
       " 19,\n",
       " 18,\n",
       " 17,\n",
       " 16,\n",
       " 17,\n",
       " 16,\n",
       " 17,\n",
       " 16,\n",
       " 15,\n",
       " 14,\n",
       " 13,\n",
       " 14,\n",
       " 15,\n",
       " 14,\n",
       " 13,\n",
       " 12,\n",
       " 11,\n",
       " 10,\n",
       " 11,\n",
       " 12,\n",
       " 13,\n",
       " 14,\n",
       " 13,\n",
       " 12,\n",
       " 13,\n",
       " 12,\n",
       " 11,\n",
       " 12,\n",
       " 13,\n",
       " 14,\n",
       " 15,\n",
       " 16,\n",
       " 15,\n",
       " 16,\n",
       " 17,\n",
       " 16,\n",
       " 15,\n",
       " 16,\n",
       " 15,\n",
       " 16,\n",
       " 17,\n",
       " 16,\n",
       " 17,\n",
       " 16,\n",
       " 17,\n",
       " 18,\n",
       " 19,\n",
       " 18,\n",
       " 17,\n",
       " 16,\n",
       " 17,\n",
       " 18,\n",
       " 17,\n",
       " 18,\n",
       " 19,\n",
       " 18,\n",
       " 19,\n",
       " 20,\n",
       " 19,\n",
       " 20,\n",
       " 19,\n",
       " 20,\n",
       " 19,\n",
       " 20,\n",
       " 21,\n",
       " 20,\n",
       " 19,\n",
       " 20,\n",
       " 21,\n",
       " 22,\n",
       " 23,\n",
       " 24,\n",
       " 23,\n",
       " 22,\n",
       " 21,\n",
       " 22,\n",
       " 23,\n",
       " 22,\n",
       " 21,\n",
       " 20,\n",
       " 21,\n",
       " 20,\n",
       " 19,\n",
       " 18,\n",
       " 17,\n",
       " 18,\n",
       " 19,\n",
       " 20,\n",
       " 19,\n",
       " 20,\n",
       " 21,\n",
       " 22,\n",
       " 21,\n",
       " 22,\n",
       " 21,\n",
       " 22,\n",
       " 21,\n",
       " 22,\n",
       " 23,\n",
       " 24,\n",
       " 23,\n",
       " 24,\n",
       " 23,\n",
       " 22,\n",
       " 21,\n",
       " 22,\n",
       " 23,\n",
       " 24,\n",
       " 23,\n",
       " 24,\n",
       " 25,\n",
       " 24,\n",
       " 25,\n",
       " 24,\n",
       " 23,\n",
       " 24,\n",
       " 23,\n",
       " 22,\n",
       " 23,\n",
       " 24,\n",
       " 23,\n",
       " 22,\n",
       " 21,\n",
       " 22,\n",
       " 21,\n",
       " 22,\n",
       " 23,\n",
       " 22,\n",
       " 21,\n",
       " 22,\n",
       " 23,\n",
       " 22,\n",
       " 23,\n",
       " 22,\n",
       " 23,\n",
       " 24,\n",
       " 25,\n",
       " 24,\n",
       " 25,\n",
       " 24,\n",
       " 25,\n",
       " 24,\n",
       " 25,\n",
       " 24,\n",
       " 25,\n",
       " 24,\n",
       " 23,\n",
       " 22,\n",
       " 23,\n",
       " 22,\n",
       " 21,\n",
       " 20,\n",
       " 19,\n",
       " 18,\n",
       " 17,\n",
       " 18,\n",
       " 19,\n",
       " 20,\n",
       " 19,\n",
       " 18,\n",
       " 17,\n",
       " 16,\n",
       " 17,\n",
       " 18,\n",
       " 17,\n",
       " 16,\n",
       " 15,\n",
       " 16,\n",
       " 15,\n",
       " 16,\n",
       " 15,\n",
       " 16,\n",
       " 17,\n",
       " 16,\n",
       " 17,\n",
       " 16,\n",
       " 17,\n",
       " 16,\n",
       " 15,\n",
       " 14,\n",
       " 13,\n",
       " 14,\n",
       " 13,\n",
       " 14,\n",
       " 15,\n",
       " 14,\n",
       " 13,\n",
       " 14,\n",
       " 13,\n",
       " 12,\n",
       " 13,\n",
       " 12,\n",
       " 11,\n",
       " 12,\n",
       " 13,\n",
       " 14,\n",
       " 15,\n",
       " 16,\n",
       " 15,\n",
       " 14,\n",
       " 13,\n",
       " 14,\n",
       " 13,\n",
       " 12,\n",
       " 11,\n",
       " 10,\n",
       " 11,\n",
       " 12,\n",
       " 13,\n",
       " 14,\n",
       " 15,\n",
       " 16,\n",
       " 15,\n",
       " 14,\n",
       " 15,\n",
       " 16,\n",
       " 17,\n",
       " 16,\n",
       " 15,\n",
       " 16,\n",
       " 15,\n",
       " 16,\n",
       " 15,\n",
       " 16,\n",
       " 15,\n",
       " 14,\n",
       " 13,\n",
       " 14,\n",
       " 13,\n",
       " 12,\n",
       " 11,\n",
       " 12,\n",
       " 13,\n",
       " 14,\n",
       " 13,\n",
       " 14,\n",
       " 13,\n",
       " 14,\n",
       " 15,\n",
       " 14,\n",
       " 15,\n",
       " 14,\n",
       " 13,\n",
       " 14,\n",
       " 13,\n",
       " 12,\n",
       " 11,\n",
       " 12,\n",
       " 13,\n",
       " 14,\n",
       " 13,\n",
       " 12,\n",
       " 11,\n",
       " 12,\n",
       " 11,\n",
       " 12,\n",
       " 11,\n",
       " 12,\n",
       " 13,\n",
       " 14,\n",
       " 15,\n",
       " 14,\n",
       " 15,\n",
       " 14,\n",
       " 13,\n",
       " 14,\n",
       " 15,\n",
       " 14,\n",
       " 15,\n",
       " 16,\n",
       " 17,\n",
       " ...]"
      ]
     },
     "execution_count": 156,
     "metadata": {},
     "output_type": "execute_result"
    }
   ],
   "source": [
    "import random\n",
    "position = 0\n",
    "walk = [position]\n",
    "steps = 1000\n",
    "for i in range(steps):\n",
    "    step = 1 if random.randint(0, 1) else -1\n",
    "    position += step\n",
    "    walk.append(position)\n",
    "walk"
   ]
  },
  {
   "cell_type": "code",
   "execution_count": 157,
   "metadata": {},
   "outputs": [
    {
     "data": {
      "image/png": "[encoded data removed]",
      "text/plain": [
       "<matplotlib.figure.Figure at 0x246426117b8>"
      ]
     },
     "metadata": {},
     "output_type": "display_data"
    }
   ],
   "source": [
    "plt.figure()\n",
    "plt.plot(walk[:100])\n",
    "plt.draw()"
   ]
  },
  {
   "cell_type": "code",
   "execution_count": 158,
   "metadata": {},
   "outputs": [],
   "source": [
    "np.random.seed(12345)"
   ]
  },
  {
   "cell_type": "code",
   "execution_count": 159,
   "metadata": {},
   "outputs": [
    {
     "data": {
      "text/plain": [
       "array([0, 1, 1, 1, 0, 1, 0, 0, 1, 0, 1, 1, 0, 1, 1, 0, 1, 1, 1, 0, 0, 0,\n",
       "       1, 1, 1, 0, 1, 0, 0, 1, 1, 1, 1, 1, 0, 1, 1, 1, 1, 1, 1, 0, 0, 1,\n",
       "       1, 0, 0, 1, 1, 1, 1, 0, 1, 1, 1, 1, 0, 1, 1, 0, 1, 0, 0, 1, 1, 1,\n",
       "       0, 0, 1, 0, 1, 0, 0, 0, 1, 1, 0, 0, 0, 0, 0, 0, 1, 0, 0, 0, 1, 0,\n",
       "       0, 1, 1, 1, 1, 1, 1, 0, 0, 0, 1, 0, 0, 1, 0, 1, 0, 1, 0, 0, 0, 1,\n",
       "       1, 0, 0, 1, 0, 1, 0, 0, 1, 1, 0, 1, 1, 0, 0, 1, 0, 0, 1, 1, 1, 1,\n",
       "       0, 0, 0, 1, 0, 1, 0, 0, 1, 1, 0, 1, 0, 1, 0, 1, 1, 1, 0, 1, 0, 0,\n",
       "       0, 1, 1, 0, 0, 0, 0, 0, 0, 1, 1, 1, 0, 0, 1, 0, 1, 0, 1, 0, 0, 1,\n",
       "       1, 0, 1, 1, 0, 1, 1, 0, 0, 1, 0, 0, 1, 1, 1, 1, 0, 1, 1, 0, 1, 1,\n",
       "       1, 0, 0, 0, 0, 0, 1, 1, 1, 0, 0, 1, 0, 1, 0, 1, 0, 0, 0, 0, 1, 0,\n",
       "       0, 1, 1, 1, 0, 0, 0, 1, 1, 0, 1, 1, 0, 1, 0, 0, 0, 0, 0, 1, 0, 0,\n",
       "       1, 1, 1, 1, 1, 0, 0, 0, 1, 0, 0, 0, 1, 1, 1, 1, 0, 1, 0, 1, 1, 0,\n",
       "       1, 1, 0, 0, 1, 0, 1, 1, 1, 0, 1, 0, 1, 0, 0, 0, 0, 0, 0, 0, 0, 0,\n",
       "       1, 0, 0, 0, 1, 0, 0, 1, 1, 1, 1, 1, 1, 1, 1, 1, 1, 0, 0, 1, 0, 0,\n",
       "       0, 0, 0, 1, 1, 1, 0, 1, 1, 0, 1, 0, 1, 0, 0, 0, 0, 1, 1, 1, 1, 1,\n",
       "       0, 0, 1, 1, 0, 1, 1, 0, 0, 1, 0, 0, 1, 0, 0, 1, 1, 1, 0, 0, 1, 1,\n",
       "       1, 0, 1, 1, 0, 0, 0, 0, 1, 1, 1, 0, 0, 1, 1, 0, 1, 1, 1, 1, 1, 0,\n",
       "       1, 0, 1, 0, 0, 1, 1, 1, 0, 0, 1, 0, 1, 0, 1, 1, 1, 1, 0, 0, 0, 1,\n",
       "       0, 0, 0, 0, 1, 0, 0, 1, 0, 0, 1, 1, 1, 0, 1, 0, 1, 1, 1, 1, 1, 1,\n",
       "       1, 0, 0, 0, 1, 1, 1, 0, 1, 1, 1, 0, 0, 1, 0, 1, 1, 1, 1, 0, 1, 0,\n",
       "       0, 0, 0, 0, 0, 0, 1, 0, 1, 1, 0, 1, 0, 1, 1, 0, 0, 0, 0, 0, 1, 0,\n",
       "       1, 1, 0, 1, 0, 0, 1, 1, 0, 1, 1, 0, 1, 1, 0, 1, 0, 1, 1, 0, 1, 0,\n",
       "       0, 0, 0, 0, 0, 0, 0, 1, 0, 0, 0, 0, 1, 0, 0, 1, 0, 0, 1, 1, 1, 1,\n",
       "       0, 0, 0, 0, 0, 1, 0, 1, 1, 1, 0, 1, 0, 1, 1, 0, 0, 1, 0, 1, 1, 0,\n",
       "       1, 0, 0, 0, 1, 0, 0, 1, 1, 0, 0, 1, 0, 1, 0, 0, 1, 1, 0, 1, 0, 1,\n",
       "       1, 0, 0, 1, 1, 1, 1, 0, 0, 0, 1, 0, 0, 1, 0, 1, 1, 0, 0, 1, 1, 1,\n",
       "       0, 0, 1, 1, 1, 1, 1, 0, 0, 0, 0, 0, 0, 1, 1, 0, 0, 1, 1, 1, 1, 1,\n",
       "       1, 0, 1, 1, 0, 1, 0, 1, 1, 0, 1, 0, 0, 0, 0, 1, 0, 0, 0, 1, 0, 1,\n",
       "       1, 1, 0, 1, 1, 1, 1, 0, 1, 0, 1, 1, 0, 1, 1, 1, 1, 1, 0, 0, 0, 1,\n",
       "       0, 1, 1, 0, 1, 1, 0, 1, 0, 0, 1, 0, 1, 1, 1, 0, 0, 0, 0, 0, 0, 1,\n",
       "       0, 0, 0, 0, 1, 1, 0, 1, 1, 0, 1, 1, 0, 1, 1, 0, 1, 0, 1, 0, 1, 0,\n",
       "       0, 1, 1, 1, 1, 0, 1, 0, 1, 1, 1, 0, 0, 0, 1, 0, 0, 0, 1, 0, 0, 0,\n",
       "       0, 0, 1, 0, 0, 0, 1, 0, 1, 1, 0, 0, 1, 0, 1, 0, 0, 1, 0, 1, 0, 1,\n",
       "       1, 1, 1, 1, 1, 0, 0, 1, 1, 1, 1, 0, 0, 0, 0, 0, 1, 1, 0, 1, 0, 1,\n",
       "       0, 0, 0, 1, 0, 1, 1, 1, 0, 1, 1, 1, 0, 0, 1, 0, 1, 1, 0, 1, 0, 0,\n",
       "       1, 0, 0, 1, 1, 0, 1, 0, 1, 0, 1, 0, 1, 1, 1, 0, 1, 1, 0, 1, 1, 1,\n",
       "       1, 0, 0, 1, 1, 1, 0, 0, 1, 1, 1, 0, 0, 0, 0, 1, 0, 1, 0, 1, 0, 1,\n",
       "       0, 1, 1, 1, 1, 0, 1, 1, 0, 0, 1, 1, 0, 1, 0, 1, 1, 1, 0, 0, 1, 1,\n",
       "       0, 0, 0, 1, 0, 1, 1, 1, 0, 0, 0, 0, 0, 1, 1, 1, 1, 1, 1, 1, 0, 0,\n",
       "       1, 1, 0, 1, 0, 1, 0, 0, 1, 1, 1, 0, 1, 0, 1, 0, 0, 1, 1, 1, 0, 1,\n",
       "       0, 1, 1, 0, 1, 1, 1, 1, 1, 0, 1, 0, 0, 0, 0, 1, 1, 0, 1, 1, 0, 0,\n",
       "       1, 0, 1, 1, 0, 1, 1, 1, 1, 0, 1, 0, 0, 1, 0, 0, 1, 0, 1, 1, 0, 0,\n",
       "       0, 0, 0, 0, 0, 0, 1, 0, 1, 0, 0, 0, 0, 0, 0, 1, 0, 1, 1, 0, 1, 0,\n",
       "       0, 0, 1, 0, 1, 1, 0, 1, 0, 0, 0, 0, 0, 1, 1, 1, 1, 0, 1, 1, 0, 0,\n",
       "       0, 0, 0, 1, 0, 1, 0, 1, 1, 0, 0, 1, 0, 1, 1, 1, 0, 1, 0, 1, 0, 0,\n",
       "       1, 0, 0, 1, 0, 0, 1, 0, 1, 1])"
      ]
     },
     "execution_count": 159,
     "metadata": {},
     "output_type": "execute_result"
    }
   ],
   "source": [
    "nsteps = 1000\n",
    "draws = np.random.randint(0, 2, size=nsteps)\n",
    "draws"
   ]
  },
  {
   "cell_type": "code",
   "execution_count": 160,
   "metadata": {},
   "outputs": [
    {
     "data": {
      "text/plain": [
       "array([-1,  1,  1,  1, -1,  1, -1, -1,  1, -1,  1,  1, -1,  1,  1, -1,  1,\n",
       "        1,  1, -1, -1, -1,  1,  1,  1, -1,  1, -1, -1,  1,  1,  1,  1,  1,\n",
       "       -1,  1,  1,  1,  1,  1,  1, -1, -1,  1,  1, -1, -1,  1,  1,  1,  1,\n",
       "       -1,  1,  1,  1,  1, -1,  1,  1, -1,  1, -1, -1,  1,  1,  1, -1, -1,\n",
       "        1, -1,  1, -1, -1, -1,  1,  1, -1, -1, -1, -1, -1, -1,  1, -1, -1,\n",
       "       -1,  1, -1, -1,  1,  1,  1,  1,  1,  1, -1, -1, -1,  1, -1, -1,  1,\n",
       "       -1,  1, -1,  1, -1, -1, -1,  1,  1, -1, -1,  1, -1,  1, -1, -1,  1,\n",
       "        1, -1,  1,  1, -1, -1,  1, -1, -1,  1,  1,  1,  1, -1, -1, -1,  1,\n",
       "       -1,  1, -1, -1,  1,  1, -1,  1, -1,  1, -1,  1,  1,  1, -1,  1, -1,\n",
       "       -1, -1,  1,  1, -1, -1, -1, -1, -1, -1,  1,  1,  1, -1, -1,  1, -1,\n",
       "        1, -1,  1, -1, -1,  1,  1, -1,  1,  1, -1,  1,  1, -1, -1,  1, -1,\n",
       "       -1,  1,  1,  1,  1, -1,  1,  1, -1,  1,  1,  1, -1, -1, -1, -1, -1,\n",
       "        1,  1,  1, -1, -1,  1, -1,  1, -1,  1, -1, -1, -1, -1,  1, -1, -1,\n",
       "        1,  1,  1, -1, -1, -1,  1,  1, -1,  1,  1, -1,  1, -1, -1, -1, -1,\n",
       "       -1,  1, -1, -1,  1,  1,  1,  1,  1, -1, -1, -1,  1, -1, -1, -1,  1,\n",
       "        1,  1,  1, -1,  1, -1,  1,  1, -1,  1,  1, -1, -1,  1, -1,  1,  1,\n",
       "        1, -1,  1, -1,  1, -1, -1, -1, -1, -1, -1, -1, -1, -1,  1, -1, -1,\n",
       "       -1,  1, -1, -1,  1,  1,  1,  1,  1,  1,  1,  1,  1,  1, -1, -1,  1,\n",
       "       -1, -1, -1, -1, -1,  1,  1,  1, -1,  1,  1, -1,  1, -1,  1, -1, -1,\n",
       "       -1, -1,  1,  1,  1,  1,  1, -1, -1,  1,  1, -1,  1,  1, -1, -1,  1,\n",
       "       -1, -1,  1, -1, -1,  1,  1,  1, -1, -1,  1,  1,  1, -1,  1,  1, -1,\n",
       "       -1, -1, -1,  1,  1,  1, -1, -1,  1,  1, -1,  1,  1,  1,  1,  1, -1,\n",
       "        1, -1,  1, -1, -1,  1,  1,  1, -1, -1,  1, -1,  1, -1,  1,  1,  1,\n",
       "        1, -1, -1, -1,  1, -1, -1, -1, -1,  1, -1, -1,  1, -1, -1,  1,  1,\n",
       "        1, -1,  1, -1,  1,  1,  1,  1,  1,  1,  1, -1, -1, -1,  1,  1,  1,\n",
       "       -1,  1,  1,  1, -1, -1,  1, -1,  1,  1,  1,  1, -1,  1, -1, -1, -1,\n",
       "       -1, -1, -1, -1,  1, -1,  1,  1, -1,  1, -1,  1,  1, -1, -1, -1, -1,\n",
       "       -1,  1, -1,  1,  1, -1,  1, -1, -1,  1,  1, -1,  1,  1, -1,  1,  1,\n",
       "       -1,  1, -1,  1,  1, -1,  1, -1, -1, -1, -1, -1, -1, -1, -1,  1, -1,\n",
       "       -1, -1, -1,  1, -1, -1,  1, -1, -1,  1,  1,  1,  1, -1, -1, -1, -1,\n",
       "       -1,  1, -1,  1,  1,  1, -1,  1, -1,  1,  1, -1, -1,  1, -1,  1,  1,\n",
       "       -1,  1, -1, -1, -1,  1, -1, -1,  1,  1, -1, -1,  1, -1,  1, -1, -1,\n",
       "        1,  1, -1,  1, -1,  1,  1, -1, -1,  1,  1,  1,  1, -1, -1, -1,  1,\n",
       "       -1, -1,  1, -1,  1,  1, -1, -1,  1,  1,  1, -1, -1,  1,  1,  1,  1,\n",
       "        1, -1, -1, -1, -1, -1, -1,  1,  1, -1, -1,  1,  1,  1,  1,  1,  1,\n",
       "       -1,  1,  1, -1,  1, -1,  1,  1, -1,  1, -1, -1, -1, -1,  1, -1, -1,\n",
       "       -1,  1, -1,  1,  1,  1, -1,  1,  1,  1,  1, -1,  1, -1,  1,  1, -1,\n",
       "        1,  1,  1,  1,  1, -1, -1, -1,  1, -1,  1,  1, -1,  1,  1, -1,  1,\n",
       "       -1, -1,  1, -1,  1,  1,  1, -1, -1, -1, -1, -1, -1,  1, -1, -1, -1,\n",
       "       -1,  1,  1, -1,  1,  1, -1,  1,  1, -1,  1,  1, -1,  1, -1,  1, -1,\n",
       "        1, -1, -1,  1,  1,  1,  1, -1,  1, -1,  1,  1,  1, -1, -1, -1,  1,\n",
       "       -1, -1, -1,  1, -1, -1, -1, -1, -1,  1, -1, -1, -1,  1, -1,  1,  1,\n",
       "       -1, -1,  1, -1,  1, -1, -1,  1, -1,  1, -1,  1,  1,  1,  1,  1,  1,\n",
       "       -1, -1,  1,  1,  1,  1, -1, -1, -1, -1, -1,  1,  1, -1,  1, -1,  1,\n",
       "       -1, -1, -1,  1, -1,  1,  1,  1, -1,  1,  1,  1, -1, -1,  1, -1,  1,\n",
       "        1, -1,  1, -1, -1,  1, -1, -1,  1,  1, -1,  1, -1,  1, -1,  1, -1,\n",
       "        1,  1,  1, -1,  1,  1, -1,  1,  1,  1,  1, -1, -1,  1,  1,  1, -1,\n",
       "       -1,  1,  1,  1, -1, -1, -1, -1,  1, -1,  1, -1,  1, -1,  1, -1,  1,\n",
       "        1,  1,  1, -1,  1,  1, -1, -1,  1,  1, -1,  1, -1,  1,  1,  1, -1,\n",
       "       -1,  1,  1, -1, -1, -1,  1, -1,  1,  1,  1, -1, -1, -1, -1, -1,  1,\n",
       "        1,  1,  1,  1,  1,  1, -1, -1,  1,  1, -1,  1, -1,  1, -1, -1,  1,\n",
       "        1,  1, -1,  1, -1,  1, -1, -1,  1,  1,  1, -1,  1, -1,  1,  1, -1,\n",
       "        1,  1,  1,  1,  1, -1,  1, -1, -1, -1, -1,  1,  1, -1,  1,  1, -1,\n",
       "       -1,  1, -1,  1,  1, -1,  1,  1,  1,  1, -1,  1, -1, -1,  1, -1, -1,\n",
       "        1, -1,  1,  1, -1, -1, -1, -1, -1, -1, -1, -1,  1, -1,  1, -1, -1,\n",
       "       -1, -1, -1, -1,  1, -1,  1,  1, -1,  1, -1, -1, -1,  1, -1,  1,  1,\n",
       "       -1,  1, -1, -1, -1, -1, -1,  1,  1,  1,  1, -1,  1,  1, -1, -1, -1,\n",
       "       -1, -1,  1, -1,  1, -1,  1,  1, -1, -1,  1, -1,  1,  1,  1, -1,  1,\n",
       "       -1,  1, -1, -1,  1, -1, -1,  1, -1, -1,  1, -1,  1,  1])"
      ]
     },
     "execution_count": 160,
     "metadata": {},
     "output_type": "execute_result"
    }
   ],
   "source": [
    "steps = np.where(draws > 0, 1, -1)\n",
    "steps"
   ]
  },
  {
   "cell_type": "code",
   "execution_count": 161,
   "metadata": {},
   "outputs": [
    {
     "data": {
      "text/plain": [
       "array([-1,  0,  1,  2,  1,  2,  1,  0,  1,  0,  1,  2,  1,  2,  3,  2,  3,\n",
       "        4,  5,  4,  3,  2,  3,  4,  5,  4,  5,  4,  3,  4,  5,  6,  7,  8,\n",
       "        7,  8,  9, 10, 11, 12, 13, 12, 11, 12, 13, 12, 11, 12, 13, 14, 15,\n",
       "       14, 15, 16, 17, 18, 17, 18, 19, 18, 19, 18, 17, 18, 19, 20, 19, 18,\n",
       "       19, 18, 19, 18, 17, 16, 17, 18, 17, 16, 15, 14, 13, 12, 13, 12, 11,\n",
       "       10, 11, 10,  9, 10, 11, 12, 13, 14, 15, 14, 13, 12, 13, 12, 11, 12,\n",
       "       11, 12, 11, 12, 11, 10,  9, 10, 11, 10,  9, 10,  9, 10,  9,  8,  9,\n",
       "       10,  9, 10, 11, 10,  9, 10,  9,  8,  9, 10, 11, 12, 11, 10,  9, 10,\n",
       "        9, 10,  9,  8,  9, 10,  9, 10,  9, 10,  9, 10, 11, 12, 11, 12, 11,\n",
       "       10,  9, 10, 11, 10,  9,  8,  7,  6,  5,  6,  7,  8,  7,  6,  7,  6,\n",
       "        7,  6,  7,  6,  5,  6,  7,  6,  7,  8,  7,  8,  9,  8,  7,  8,  7,\n",
       "        6,  7,  8,  9, 10,  9, 10, 11, 10, 11, 12, 13, 12, 11, 10,  9,  8,\n",
       "        9, 10, 11, 10,  9, 10,  9, 10,  9, 10,  9,  8,  7,  6,  7,  6,  5,\n",
       "        6,  7,  8,  7,  6,  5,  6,  7,  6,  7,  8,  7,  8,  7,  6,  5,  4,\n",
       "        3,  4,  3,  2,  3,  4,  5,  6,  7,  6,  5,  4,  5,  4,  3,  2,  3,\n",
       "        4,  5,  6,  5,  6,  5,  6,  7,  6,  7,  8,  7,  6,  7,  6,  7,  8,\n",
       "        9,  8,  9,  8,  9,  8,  7,  6,  5,  4,  3,  2,  1,  0,  1,  0, -1,\n",
       "       -2, -1, -2, -3, -2, -1,  0,  1,  2,  3,  4,  5,  6,  7,  6,  5,  6,\n",
       "        5,  4,  3,  2,  1,  2,  3,  4,  3,  4,  5,  4,  5,  4,  5,  4,  3,\n",
       "        2,  1,  2,  3,  4,  5,  6,  5,  4,  5,  6,  5,  6,  7,  6,  5,  6,\n",
       "        5,  4,  5,  4,  3,  4,  5,  6,  5,  4,  5,  6,  7,  6,  7,  8,  7,\n",
       "        6,  5,  4,  5,  6,  7,  6,  5,  6,  7,  6,  7,  8,  9, 10, 11, 10,\n",
       "       11, 10, 11, 10,  9, 10, 11, 12, 11, 10, 11, 10, 11, 10, 11, 12, 13,\n",
       "       14, 13, 12, 11, 12, 11, 10,  9,  8,  9,  8,  7,  8,  7,  6,  7,  8,\n",
       "        9,  8,  9,  8,  9, 10, 11, 12, 13, 14, 15, 14, 13, 12, 13, 14, 15,\n",
       "       14, 15, 16, 17, 16, 15, 16, 15, 16, 17, 18, 19, 18, 19, 18, 17, 16,\n",
       "       15, 14, 13, 12, 13, 12, 13, 14, 13, 14, 13, 14, 15, 14, 13, 12, 11,\n",
       "       10, 11, 10, 11, 12, 11, 12, 11, 10, 11, 12, 11, 12, 13, 12, 13, 14,\n",
       "       13, 14, 13, 14, 15, 14, 15, 14, 13, 12, 11, 10,  9,  8,  7,  8,  7,\n",
       "        6,  5,  4,  5,  4,  3,  4,  3,  2,  3,  4,  5,  6,  5,  4,  3,  2,\n",
       "        1,  2,  1,  2,  3,  4,  3,  4,  3,  4,  5,  4,  3,  4,  3,  4,  5,\n",
       "        4,  5,  4,  3,  2,  3,  2,  1,  2,  3,  2,  1,  2,  1,  2,  1,  0,\n",
       "        1,  2,  1,  2,  1,  2,  3,  2,  1,  2,  3,  4,  5,  4,  3,  2,  3,\n",
       "        2,  1,  2,  1,  2,  3,  2,  1,  2,  3,  4,  3,  2,  3,  4,  5,  6,\n",
       "        7,  6,  5,  4,  3,  2,  1,  2,  3,  2,  1,  2,  3,  4,  5,  6,  7,\n",
       "        6,  7,  8,  7,  8,  7,  8,  9,  8,  9,  8,  7,  6,  5,  6,  5,  4,\n",
       "        3,  4,  3,  4,  5,  6,  5,  6,  7,  8,  9,  8,  9,  8,  9, 10,  9,\n",
       "       10, 11, 12, 13, 14, 13, 12, 11, 12, 11, 12, 13, 12, 13, 14, 13, 14,\n",
       "       13, 12, 13, 12, 13, 14, 15, 14, 13, 12, 11, 10,  9, 10,  9,  8,  7,\n",
       "        6,  7,  8,  7,  8,  9,  8,  9, 10,  9, 10, 11, 10, 11, 10, 11, 10,\n",
       "       11, 10,  9, 10, 11, 12, 13, 12, 13, 12, 13, 14, 15, 14, 13, 12, 13,\n",
       "       12, 11, 10, 11, 10,  9,  8,  7,  6,  7,  6,  5,  4,  5,  4,  5,  6,\n",
       "        5,  4,  5,  4,  5,  4,  3,  4,  3,  4,  3,  4,  5,  6,  7,  8,  9,\n",
       "        8,  7,  8,  9, 10, 11, 10,  9,  8,  7,  6,  7,  8,  7,  8,  7,  8,\n",
       "        7,  6,  5,  6,  5,  6,  7,  8,  7,  8,  9, 10,  9,  8,  9,  8,  9,\n",
       "       10,  9, 10,  9,  8,  9,  8,  7,  8,  9,  8,  9,  8,  9,  8,  9,  8,\n",
       "        9, 10, 11, 10, 11, 12, 11, 12, 13, 14, 15, 14, 13, 14, 15, 16, 15,\n",
       "       14, 15, 16, 17, 16, 15, 14, 13, 14, 13, 14, 13, 14, 13, 14, 13, 14,\n",
       "       15, 16, 17, 16, 17, 18, 17, 16, 17, 18, 17, 18, 17, 18, 19, 20, 19,\n",
       "       18, 19, 20, 19, 18, 17, 18, 17, 18, 19, 20, 19, 18, 17, 16, 15, 16,\n",
       "       17, 18, 19, 20, 21, 22, 21, 20, 21, 22, 21, 22, 21, 22, 21, 20, 21,\n",
       "       22, 23, 22, 23, 22, 23, 22, 21, 22, 23, 24, 23, 24, 23, 24, 25, 24,\n",
       "       25, 26, 27, 28, 29, 28, 29, 28, 27, 26, 25, 26, 27, 26, 27, 28, 27,\n",
       "       26, 27, 26, 27, 28, 27, 28, 29, 30, 31, 30, 31, 30, 29, 30, 29, 28,\n",
       "       29, 28, 29, 30, 29, 28, 27, 26, 25, 24, 23, 22, 23, 22, 23, 22, 21,\n",
       "       20, 19, 18, 17, 18, 17, 18, 19, 18, 19, 18, 17, 16, 17, 16, 17, 18,\n",
       "       17, 18, 17, 16, 15, 14, 13, 14, 15, 16, 17, 16, 17, 18, 17, 16, 15,\n",
       "       14, 13, 14, 13, 14, 13, 14, 15, 14, 13, 14, 13, 14, 15, 16, 15, 16,\n",
       "       15, 16, 15, 14, 15, 14, 13, 14, 13, 12, 13, 12, 13, 14],\n",
       "      dtype=int32)"
      ]
     },
     "execution_count": 161,
     "metadata": {},
     "output_type": "execute_result"
    }
   ],
   "source": [
    "walk = steps.cumsum()\n",
    "walk"
   ]
  },
  {
   "cell_type": "code",
   "execution_count": 162,
   "metadata": {},
   "outputs": [
    {
     "data": {
      "text/plain": [
       "-3"
      ]
     },
     "execution_count": 162,
     "metadata": {},
     "output_type": "execute_result"
    }
   ],
   "source": [
    "walk.min()"
   ]
  },
  {
   "cell_type": "code",
   "execution_count": 163,
   "metadata": {},
   "outputs": [
    {
     "data": {
      "text/plain": [
       "31"
      ]
     },
     "execution_count": 163,
     "metadata": {},
     "output_type": "execute_result"
    }
   ],
   "source": [
    "walk.max()"
   ]
  },
  {
   "cell_type": "code",
   "execution_count": 164,
   "metadata": {},
   "outputs": [
    {
     "data": {
      "text/plain": [
       "37"
      ]
     },
     "execution_count": 164,
     "metadata": {},
     "output_type": "execute_result"
    }
   ],
   "source": [
    "(np.abs(walk) >= 10).argmax()"
   ]
  },
  {
   "cell_type": "markdown",
   "metadata": {},
   "source": [
    "### Simulating Many Random Walks at Once"
   ]
  },
  {
   "cell_type": "code",
   "execution_count": 165,
   "metadata": {},
   "outputs": [
    {
     "data": {
      "text/plain": [
       "array([[1, 0, 1, ..., 1, 0, 1],\n",
       "       [1, 0, 0, ..., 0, 0, 0],\n",
       "       [1, 0, 0, ..., 1, 1, 0],\n",
       "       ...,\n",
       "       [1, 1, 0, ..., 0, 1, 1],\n",
       "       [1, 1, 1, ..., 0, 0, 1],\n",
       "       [0, 0, 0, ..., 0, 1, 1]])"
      ]
     },
     "execution_count": 165,
     "metadata": {},
     "output_type": "execute_result"
    }
   ],
   "source": [
    "nwalks = 5000\n",
    "nsteps = 1000\n",
    "draws = np.random.randint(0, 2, size=(nwalks, nsteps)) # 0 or 1\n",
    "draws"
   ]
  },
  {
   "cell_type": "code",
   "execution_count": 166,
   "metadata": {},
   "outputs": [
    {
     "data": {
      "text/plain": [
       "array([[ 1, -1,  1, ...,  1, -1,  1],\n",
       "       [ 1, -1, -1, ..., -1, -1, -1],\n",
       "       [ 1, -1, -1, ...,  1,  1, -1],\n",
       "       ...,\n",
       "       [ 1,  1, -1, ..., -1,  1,  1],\n",
       "       [ 1,  1,  1, ..., -1, -1,  1],\n",
       "       [-1, -1, -1, ..., -1,  1,  1]])"
      ]
     },
     "execution_count": 166,
     "metadata": {},
     "output_type": "execute_result"
    }
   ],
   "source": [
    "steps = np.where(draws > 0, 1, -1)\n",
    "steps"
   ]
  },
  {
   "cell_type": "code",
   "execution_count": 167,
   "metadata": {},
   "outputs": [
    {
     "data": {
      "text/plain": [
       "array([[  1,   0,   1, ...,   8,   7,   8],\n",
       "       [  1,   0,  -1, ...,  34,  33,  32],\n",
       "       [  1,   0,  -1, ...,   4,   5,   4],\n",
       "       ...,\n",
       "       [  1,   2,   1, ...,  24,  25,  26],\n",
       "       [  1,   2,   3, ...,  14,  13,  14],\n",
       "       [ -1,  -2,  -3, ..., -24, -23, -22]], dtype=int32)"
      ]
     },
     "execution_count": 167,
     "metadata": {},
     "output_type": "execute_result"
    }
   ],
   "source": [
    "walks = steps.cumsum(1)\n",
    "walks"
   ]
  },
  {
   "cell_type": "code",
   "execution_count": 168,
   "metadata": {},
   "outputs": [
    {
     "data": {
      "text/plain": [
       "138"
      ]
     },
     "execution_count": 168,
     "metadata": {},
     "output_type": "execute_result"
    }
   ],
   "source": [
    "walks.max()"
   ]
  },
  {
   "cell_type": "code",
   "execution_count": 169,
   "metadata": {},
   "outputs": [
    {
     "data": {
      "text/plain": [
       "-133"
      ]
     },
     "execution_count": 169,
     "metadata": {},
     "output_type": "execute_result"
    }
   ],
   "source": [
    "walks.min()"
   ]
  },
  {
   "cell_type": "code",
   "execution_count": 170,
   "metadata": {},
   "outputs": [
    {
     "data": {
      "text/plain": [
       "array([False,  True, False, ..., False,  True, False])"
      ]
     },
     "execution_count": 170,
     "metadata": {},
     "output_type": "execute_result"
    }
   ],
   "source": [
    "hits30 = (np.abs(walks) >= 30).any(1)\n",
    "hits30"
   ]
  },
  {
   "cell_type": "code",
   "execution_count": 171,
   "metadata": {},
   "outputs": [
    {
     "data": {
      "text/plain": [
       "3410"
      ]
     },
     "execution_count": 171,
     "metadata": {},
     "output_type": "execute_result"
    }
   ],
   "source": [
    "hits30.sum() # Number that hit 30 or -30"
   ]
  },
  {
   "cell_type": "code",
   "execution_count": 172,
   "metadata": {},
   "outputs": [
    {
     "data": {
      "text/plain": [
       "array([735, 409, 253, ..., 327, 453, 447], dtype=int64)"
      ]
     },
     "execution_count": 172,
     "metadata": {},
     "output_type": "execute_result"
    }
   ],
   "source": [
    "crossing_times = (np.abs(walks[hits30]) >= 30).argmax(1)\n",
    "crossing_times"
   ]
  },
  {
   "cell_type": "code",
   "execution_count": 173,
   "metadata": {},
   "outputs": [
    {
     "data": {
      "text/plain": [
       "498.8897360703812"
      ]
     },
     "execution_count": 173,
     "metadata": {},
     "output_type": "execute_result"
    }
   ],
   "source": [
    "crossing_times.mean()"
   ]
  },
  {
   "cell_type": "code",
   "execution_count": 174,
   "metadata": {},
   "outputs": [
    {
     "data": {
      "text/plain": [
       "array([[-0.02565707,  0.36310961,  0.41720151, ...,  0.15726638,\n",
       "        -0.16256773,  0.05423703],\n",
       "       [-0.10456259,  0.07877516,  0.19110411, ...,  0.07678875,\n",
       "        -0.18545695,  0.0333151 ],\n",
       "       [-0.16728617,  0.12034941, -0.30427248, ..., -0.30982359,\n",
       "        -0.17291787,  0.02772071],\n",
       "       ...,\n",
       "       [ 0.27987403,  0.05477886, -0.02167382, ...,  0.02795479,\n",
       "         0.25268149,  0.06510672],\n",
       "       [ 0.31853634, -0.15109745, -0.1121375 , ...,  0.14705719,\n",
       "         0.18206871, -0.02473096],\n",
       "       [-0.13101904, -0.24008233, -0.03925202, ..., -0.18320903,\n",
       "        -0.20967376,  0.20705573]])"
      ]
     },
     "execution_count": 174,
     "metadata": {},
     "output_type": "execute_result"
    }
   ],
   "source": [
    "steps = np.random.normal(loc=0, scale=0.25,\n",
    "                         size=(nwalks, nsteps))\n",
    "steps"
   ]
  },
  {
   "cell_type": "markdown",
   "metadata": {},
   "source": [
    "## Conclusion"
   ]
  }
 ],
 "metadata": {
  "kernelspec": {
   "display_name": "Python 3",
   "language": "python",
   "name": "python3"
  },
  "language_info": {
   "codemirror_mode": {
    "name": "ipython",
    "version": 3
   },
   "file_extension": ".py",
   "mimetype": "text/x-python",
   "name": "python",
   "nbconvert_exporter": "python",
   "pygments_lexer": "ipython3",
   "version": "3.6.4"
  }
 },
 "nbformat": 4,
 "nbformat_minor": 1
}
