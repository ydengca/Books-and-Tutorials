{
 "cells": [
  {
   "cell_type": "code",
   "execution_count": 1,
   "metadata": {
    "collapsed": false
   },
   "outputs": [
    {
     "name": "stdout",
     "output_type": "stream",
     "text": [
      "0.12.1\n"
     ]
    }
   ],
   "source": [
    "import bokeh\n",
    "print(bokeh.__version__)"
   ]
  },
  {
   "cell_type": "code",
   "execution_count": 2,
   "metadata": {
    "collapsed": false
   },
   "outputs": [],
   "source": [
    "import numpy as np\n",
    "from bokeh.plotting import figure, output_file, show\n",
    "\n",
    "x = np.linspace(0, 5, 50)\n",
    "y_cos = np.cos(x)\n",
    "\n",
    "output_file(\"cosine.html\")\n",
    "p = figure()\n",
    "p.line(x, y_cos, line_width=2)\n",
    "show(p)"
   ]
  },
  {
   "cell_type": "code",
   "execution_count": 3,
   "metadata": {
    "collapsed": false
   },
   "outputs": [
    {
     "data": {
      "text/html": [
       "\n",
       "    <div class=\"bk-root\">\n",
       "        <a href=\"http://bokeh.pydata.org\" target=\"_blank\" class=\"bk-logo bk-logo-small bk-logo-notebook\"></a>\n",
       "        <span id=\"1716e4dd-4a53-4ca2-8b92-15c4c91a611a\">Loading BokehJS ...</span>\n",
       "    </div>"
      ]
     },
     "metadata": {},
     "output_type": "display_data"
    },
    {
     "data": {
      "application/javascript": [
       "\n",
       "(function(global) {\n",
       "  function now() {\n",
       "    return new Date();\n",
       "  }\n",
       "\n",
       "  var force = \"1\";\n",
       "\n",
       "  if (typeof (window._bokeh_onload_callbacks) === \"undefined\" || force !== \"\") {\n",
       "    window._bokeh_onload_callbacks = [];\n",
       "    window._bokeh_is_loading = undefined;\n",
       "  }\n",
       "\n",
       "  function run_callbacks() {\n",
       "    window._bokeh_onload_callbacks.forEach(function(callback) { callback() });\n",
       "    delete window._bokeh_onload_callbacks\n",
       "    console.info(\"Bokeh: all callbacks have finished\");\n",
       "  }\n",
       "\n",
       "  function load_libs(js_urls, callback) {\n",
       "    window._bokeh_onload_callbacks.push(callback);\n",
       "    if (window._bokeh_is_loading > 0) {\n",
       "      console.log(\"Bokeh: BokehJS is being loaded, scheduling callback at\", now());\n",
       "      return null;\n",
       "    }\n",
       "    if (js_urls == null || js_urls.length === 0) {\n",
       "      run_callbacks();\n",
       "      return null;\n",
       "    }\n",
       "    console.log(\"Bokeh: BokehJS not loaded, scheduling load and callback at\", now());\n",
       "    window._bokeh_is_loading = js_urls.length;\n",
       "    for (var i = 0; i < js_urls.length; i++) {\n",
       "      var url = js_urls[i];\n",
       "      var s = document.createElement('script');\n",
       "      s.src = url;\n",
       "      s.async = false;\n",
       "      s.onreadystatechange = s.onload = function() {\n",
       "        window._bokeh_is_loading--;\n",
       "        if (window._bokeh_is_loading === 0) {\n",
       "          console.log(\"Bokeh: all BokehJS libraries loaded\");\n",
       "          run_callbacks()\n",
       "        }\n",
       "      };\n",
       "      s.onerror = function() {\n",
       "        console.warn(\"failed to load library \" + url);\n",
       "      };\n",
       "      console.log(\"Bokeh: injecting script tag for BokehJS library: \", url);\n",
       "      document.getElementsByTagName(\"head\")[0].appendChild(s);\n",
       "    }\n",
       "  };\n",
       "\n",
       "  var js_urls = ['https://cdn.pydata.org/bokeh/release/bokeh-0.12.1.min.js', 'https://cdn.pydata.org/bokeh/release/bokeh-widgets-0.12.1.min.js', 'https://cdn.pydata.org/bokeh/release/bokeh-compiler-0.12.1.min.js'];\n",
       "\n",
       "  var inline_js = [\n",
       "    function(Bokeh) {\n",
       "      Bokeh.set_log_level(\"info\");\n",
       "    },\n",
       "    \n",
       "    function(Bokeh) {\n",
       "      \n",
       "      Bokeh.$(\"#1716e4dd-4a53-4ca2-8b92-15c4c91a611a\").text(\"BokehJS successfully loaded\");\n",
       "      var kernel = Jupyter.notebook.kernel\n",
       "      if (kernel.execute !== undefined) {\n",
       "          kernel.execute(\"import bokeh.io; bokeh.io._nb_loaded = True\");\n",
       "      }\n",
       "    },\n",
       "    function(Bokeh) {\n",
       "      console.log(\"Bokeh: injecting CSS: https://cdn.pydata.org/bokeh/release/bokeh-0.12.1.min.css\");\n",
       "      Bokeh.embed.inject_css(\"https://cdn.pydata.org/bokeh/release/bokeh-0.12.1.min.css\");\n",
       "      console.log(\"Bokeh: injecting CSS: https://cdn.pydata.org/bokeh/release/bokeh-widgets-0.12.1.min.css\");\n",
       "      Bokeh.embed.inject_css(\"https://cdn.pydata.org/bokeh/release/bokeh-widgets-0.12.1.min.css\");\n",
       "    }\n",
       "  ];\n",
       "\n",
       "  function run_inline_js() {\n",
       "    for (var i = 0; i < inline_js.length; i++) {\n",
       "      inline_js[i](window.Bokeh);\n",
       "    }\n",
       "  }\n",
       "\n",
       "  if (window._bokeh_is_loading === 0) {\n",
       "    console.log(\"Bokeh: BokehJS loaded, going straight to plotting\");\n",
       "    run_inline_js();\n",
       "  } else {\n",
       "    load_libs(js_urls, function() {\n",
       "      console.log(\"Bokeh: BokehJS plotting callback run at\", now());\n",
       "      run_inline_js();\n",
       "    });\n",
       "  }\n",
       "}(this));"
      ]
     },
     "metadata": {},
     "output_type": "display_data"
    }
   ],
   "source": [
    "from bokeh.io import output_notebook, reset_output\n",
    "reset_output()\n",
    "output_notebook()"
   ]
  },
  {
   "cell_type": "code",
   "execution_count": 4,
   "metadata": {
    "collapsed": false
   },
   "outputs": [
    {
     "data": {
      "text/html": [
       "\n",
       "\n",
       "    <div class=\"bk-root\">\n",
       "        <div class=\"plotdiv\" id=\"b19da459-db89-412d-ba6c-be1777ef8f06\"></div>\n",
       "    </div>\n",
       "<script type=\"text/javascript\">\n",
       "  \n",
       "  (function(global) {\n",
       "    function now() {\n",
       "      return new Date();\n",
       "    }\n",
       "  \n",
       "    var force = \"\";\n",
       "  \n",
       "    if (typeof (window._bokeh_onload_callbacks) === \"undefined\" || force !== \"\") {\n",
       "      window._bokeh_onload_callbacks = [];\n",
       "      window._bokeh_is_loading = undefined;\n",
       "    }\n",
       "  \n",
       "    function run_callbacks() {\n",
       "      window._bokeh_onload_callbacks.forEach(function(callback) { callback() });\n",
       "      delete window._bokeh_onload_callbacks\n",
       "      console.info(\"Bokeh: all callbacks have finished\");\n",
       "    }\n",
       "  \n",
       "    function load_libs(js_urls, callback) {\n",
       "      window._bokeh_onload_callbacks.push(callback);\n",
       "      if (window._bokeh_is_loading > 0) {\n",
       "        console.log(\"Bokeh: BokehJS is being loaded, scheduling callback at\", now());\n",
       "        return null;\n",
       "      }\n",
       "      if (js_urls == null || js_urls.length === 0) {\n",
       "        run_callbacks();\n",
       "        return null;\n",
       "      }\n",
       "      console.log(\"Bokeh: BokehJS not loaded, scheduling load and callback at\", now());\n",
       "      window._bokeh_is_loading = js_urls.length;\n",
       "      for (var i = 0; i < js_urls.length; i++) {\n",
       "        var url = js_urls[i];\n",
       "        var s = document.createElement('script');\n",
       "        s.src = url;\n",
       "        s.async = false;\n",
       "        s.onreadystatechange = s.onload = function() {\n",
       "          window._bokeh_is_loading--;\n",
       "          if (window._bokeh_is_loading === 0) {\n",
       "            console.log(\"Bokeh: all BokehJS libraries loaded\");\n",
       "            run_callbacks()\n",
       "          }\n",
       "        };\n",
       "        s.onerror = function() {\n",
       "          console.warn(\"failed to load library \" + url);\n",
       "        };\n",
       "        console.log(\"Bokeh: injecting script tag for BokehJS library: \", url);\n",
       "        document.getElementsByTagName(\"head\")[0].appendChild(s);\n",
       "      }\n",
       "    };var element = document.getElementById(\"b19da459-db89-412d-ba6c-be1777ef8f06\");\n",
       "    if (element == null) {\n",
       "      console.log(\"Bokeh: ERROR: autoload.js configured with elementid 'b19da459-db89-412d-ba6c-be1777ef8f06' but no matching script tag was found. \")\n",
       "      return false;\n",
       "    }\n",
       "  \n",
       "    var js_urls = [];\n",
       "  \n",
       "    var inline_js = [\n",
       "      function(Bokeh) {\n",
       "        Bokeh.$(function() {\n",
       "            var docs_json = {\"94b536f3-0ff6-4f7a-8160-55ecb4ac1f8f\":{\"roots\":{\"references\":[{\"attributes\":{\"plot\":{\"id\":\"62112039-2f2a-4995-9ff1-265bde01aa7b\",\"subtype\":\"Figure\",\"type\":\"Plot\"}},\"id\":\"80628bdf-53a0-42d4-b0aa-60829a4cd4d5\",\"type\":\"WheelZoomTool\"},{\"attributes\":{\"overlay\":{\"id\":\"9e79f465-c486-49ee-8bf2-94f54d93ded0\",\"type\":\"BoxAnnotation\"},\"plot\":{\"id\":\"62112039-2f2a-4995-9ff1-265bde01aa7b\",\"subtype\":\"Figure\",\"type\":\"Plot\"}},\"id\":\"7b86b4ab-8ac8-4e42-a278-40bcb1b8fb22\",\"type\":\"BoxZoomTool\"},{\"attributes\":{},\"id\":\"1240e867-0220-451a-bf23-e011a07ead9a\",\"type\":\"BasicTicker\"},{\"attributes\":{\"formatter\":{\"id\":\"befc47ed-ccea-4107-b1a1-b03e1c12b193\",\"type\":\"BasicTickFormatter\"},\"plot\":{\"id\":\"62112039-2f2a-4995-9ff1-265bde01aa7b\",\"subtype\":\"Figure\",\"type\":\"Plot\"},\"ticker\":{\"id\":\"1240e867-0220-451a-bf23-e011a07ead9a\",\"type\":\"BasicTicker\"}},\"id\":\"c5e48c2e-ed56-4d3d-86ad-c3fb1e34ac20\",\"type\":\"LinearAxis\"},{\"attributes\":{},\"id\":\"07f21c11-323e-4920-bccc-00feabfe2c5c\",\"type\":\"ToolEvents\"},{\"attributes\":{\"plot\":{\"id\":\"62112039-2f2a-4995-9ff1-265bde01aa7b\",\"subtype\":\"Figure\",\"type\":\"Plot\"},\"ticker\":{\"id\":\"1240e867-0220-451a-bf23-e011a07ead9a\",\"type\":\"BasicTicker\"}},\"id\":\"ae7c5f31-80fe-46c5-9152-4c739c5b4898\",\"type\":\"Grid\"},{\"attributes\":{\"bottom_units\":\"screen\",\"fill_alpha\":{\"value\":0.5},\"fill_color\":{\"value\":\"lightgrey\"},\"left_units\":\"screen\",\"level\":\"overlay\",\"line_alpha\":{\"value\":1.0},\"line_color\":{\"value\":\"black\"},\"line_dash\":[4,4],\"line_width\":{\"value\":2},\"plot\":null,\"render_mode\":\"css\",\"right_units\":\"screen\",\"top_units\":\"screen\"},\"id\":\"9e79f465-c486-49ee-8bf2-94f54d93ded0\",\"type\":\"BoxAnnotation\"},{\"attributes\":{\"data_source\":{\"id\":\"a4c84716-8259-4560-b00b-017c3e0f9325\",\"type\":\"ColumnDataSource\"},\"glyph\":{\"id\":\"db6f4c90-bf85-4813-a3f2-ed7846eb6918\",\"type\":\"Line\"},\"hover_glyph\":null,\"nonselection_glyph\":{\"id\":\"84ee0686-8262-4165-8c85-6f7c89c4600a\",\"type\":\"Line\"},\"selection_glyph\":null},\"id\":\"3ad23af8-ac65-491a-b001-1f38bd1a7ca1\",\"type\":\"GlyphRenderer\"},{\"attributes\":{\"callback\":null,\"column_names\":[\"y\",\"x\"],\"data\":{\"x\":[0.0,0.10204081632653061,0.20408163265306123,0.30612244897959184,0.40816326530612246,0.5102040816326531,0.6122448979591837,0.7142857142857143,0.8163265306122449,0.9183673469387755,1.0204081632653061,1.1224489795918369,1.2244897959183674,1.3265306122448979,1.4285714285714286,1.5306122448979593,1.6326530612244898,1.7346938775510203,1.836734693877551,1.9387755102040818,2.0408163265306123,2.142857142857143,2.2448979591836737,2.3469387755102042,2.4489795918367347,2.5510204081632653,2.6530612244897958,2.7551020408163267,2.857142857142857,2.9591836734693877,3.0612244897959187,3.163265306122449,3.2653061224489797,3.36734693877551,3.4693877551020407,3.5714285714285716,3.673469387755102,3.7755102040816326,3.8775510204081636,3.979591836734694,4.081632653061225,4.183673469387755,4.285714285714286,4.387755102040816,4.4897959183673475,4.591836734693878,4.6938775510204085,4.795918367346939,4.8979591836734695,5.0],\"y\":[1.0,0.9947983516915619,0.9792475210564969,0.9535092879985405,0.9178514149905888,0.8726448614622705,0.8183599245989673,0.7555613467006966,0.6849024400004521,0.6071182900632607,0.5230181084730104,0.43347681436431784,0.33942593237925484,0.2418439017401907,0.14174589725634046,0.04017326815910727,-0.061817295362854206,-0.16316475522510288,-0.262814763741325,-0.35973063231505187,-0.4529041164186286,-0.5413659046600982,-0.6241957028171256,-0.7005318079307664,-0.7695800728569471,-0.8306221680147597,-0.883023054382162,-0.9262375899952868,-0.95981620122199,-0.9834095598096974,-0.996772217050833,-0.9997651572585272,-0.9923572439880433,-0.9746255439584459,-0.9467545253046645,-0.9090341385007688,-0.8618567999191831,-0.8057133094067664,-0.7411877443484259,-0.6689513833368357,-0.5897557226621226,-0.5044246582730553,-0.41384591454310704,-0.31896180901048443,-0.22075944916926946,-0.12026046329736924,-0.018510372154503518,0.08343228788037427,0.18450697707700792,0.28366218546322625]}},\"id\":\"a4c84716-8259-4560-b00b-017c3e0f9325\",\"type\":\"ColumnDataSource\"},{\"attributes\":{},\"id\":\"6768ed7c-8527-45d8-a66f-41c92bb4c0a5\",\"type\":\"BasicTicker\"},{\"attributes\":{\"plot\":null,\"text\":null},\"id\":\"d79adbe9-42d0-4178-a000-54beb5bdffc6\",\"type\":\"Title\"},{\"attributes\":{\"plot\":{\"id\":\"62112039-2f2a-4995-9ff1-265bde01aa7b\",\"subtype\":\"Figure\",\"type\":\"Plot\"}},\"id\":\"e9adb105-c70d-47b1-91cc-de8a92694575\",\"type\":\"HelpTool\"},{\"attributes\":{\"callback\":null},\"id\":\"7743c28e-2c27-4f27-bb4e-07d66fa0f4da\",\"type\":\"DataRange1d\"},{\"attributes\":{\"dimension\":1,\"plot\":{\"id\":\"62112039-2f2a-4995-9ff1-265bde01aa7b\",\"subtype\":\"Figure\",\"type\":\"Plot\"},\"ticker\":{\"id\":\"6768ed7c-8527-45d8-a66f-41c92bb4c0a5\",\"type\":\"BasicTicker\"}},\"id\":\"85b0b9ac-cc71-4766-8459-9b7a2121061f\",\"type\":\"Grid\"},{\"attributes\":{},\"id\":\"befc47ed-ccea-4107-b1a1-b03e1c12b193\",\"type\":\"BasicTickFormatter\"},{\"attributes\":{\"active_drag\":\"auto\",\"active_scroll\":\"auto\",\"active_tap\":\"auto\",\"tools\":[{\"id\":\"a8213754-38d2-425b-a813-769fef6ec866\",\"type\":\"PanTool\"},{\"id\":\"80628bdf-53a0-42d4-b0aa-60829a4cd4d5\",\"type\":\"WheelZoomTool\"},{\"id\":\"7b86b4ab-8ac8-4e42-a278-40bcb1b8fb22\",\"type\":\"BoxZoomTool\"},{\"id\":\"270de8ce-8a37-4836-8bab-c21264639b5b\",\"type\":\"SaveTool\"},{\"id\":\"bd6fe0f2-c744-445b-b37d-cdc7351ade41\",\"type\":\"ResetTool\"},{\"id\":\"e9adb105-c70d-47b1-91cc-de8a92694575\",\"type\":\"HelpTool\"}]},\"id\":\"394aa671-15cf-4ba6-ba30-746f200b3c82\",\"type\":\"Toolbar\"},{\"attributes\":{\"formatter\":{\"id\":\"97fc2aa7-a0f0-410b-9fec-cf62ff740ae7\",\"type\":\"BasicTickFormatter\"},\"plot\":{\"id\":\"62112039-2f2a-4995-9ff1-265bde01aa7b\",\"subtype\":\"Figure\",\"type\":\"Plot\"},\"ticker\":{\"id\":\"6768ed7c-8527-45d8-a66f-41c92bb4c0a5\",\"type\":\"BasicTicker\"}},\"id\":\"1f26e635-7c09-4989-a3ff-68cbbc630260\",\"type\":\"LinearAxis\"},{\"attributes\":{\"callback\":null},\"id\":\"20a47689-91bc-4061-8374-bcc268648a4f\",\"type\":\"DataRange1d\"},{\"attributes\":{\"plot\":{\"id\":\"62112039-2f2a-4995-9ff1-265bde01aa7b\",\"subtype\":\"Figure\",\"type\":\"Plot\"}},\"id\":\"bd6fe0f2-c744-445b-b37d-cdc7351ade41\",\"type\":\"ResetTool\"},{\"attributes\":{\"plot\":{\"id\":\"62112039-2f2a-4995-9ff1-265bde01aa7b\",\"subtype\":\"Figure\",\"type\":\"Plot\"}},\"id\":\"a8213754-38d2-425b-a813-769fef6ec866\",\"type\":\"PanTool\"},{\"attributes\":{\"line_color\":{\"value\":\"#1f77b4\"},\"line_width\":{\"value\":2},\"x\":{\"field\":\"x\"},\"y\":{\"field\":\"y\"}},\"id\":\"db6f4c90-bf85-4813-a3f2-ed7846eb6918\",\"type\":\"Line\"},{\"attributes\":{\"below\":[{\"id\":\"c5e48c2e-ed56-4d3d-86ad-c3fb1e34ac20\",\"type\":\"LinearAxis\"}],\"left\":[{\"id\":\"1f26e635-7c09-4989-a3ff-68cbbc630260\",\"type\":\"LinearAxis\"}],\"renderers\":[{\"id\":\"c5e48c2e-ed56-4d3d-86ad-c3fb1e34ac20\",\"type\":\"LinearAxis\"},{\"id\":\"ae7c5f31-80fe-46c5-9152-4c739c5b4898\",\"type\":\"Grid\"},{\"id\":\"1f26e635-7c09-4989-a3ff-68cbbc630260\",\"type\":\"LinearAxis\"},{\"id\":\"85b0b9ac-cc71-4766-8459-9b7a2121061f\",\"type\":\"Grid\"},{\"id\":\"9e79f465-c486-49ee-8bf2-94f54d93ded0\",\"type\":\"BoxAnnotation\"},{\"id\":\"3ad23af8-ac65-491a-b001-1f38bd1a7ca1\",\"type\":\"GlyphRenderer\"}],\"title\":{\"id\":\"d79adbe9-42d0-4178-a000-54beb5bdffc6\",\"type\":\"Title\"},\"tool_events\":{\"id\":\"07f21c11-323e-4920-bccc-00feabfe2c5c\",\"type\":\"ToolEvents\"},\"toolbar\":{\"id\":\"394aa671-15cf-4ba6-ba30-746f200b3c82\",\"type\":\"Toolbar\"},\"x_range\":{\"id\":\"20a47689-91bc-4061-8374-bcc268648a4f\",\"type\":\"DataRange1d\"},\"y_range\":{\"id\":\"7743c28e-2c27-4f27-bb4e-07d66fa0f4da\",\"type\":\"DataRange1d\"}},\"id\":\"62112039-2f2a-4995-9ff1-265bde01aa7b\",\"subtype\":\"Figure\",\"type\":\"Plot\"},{\"attributes\":{},\"id\":\"97fc2aa7-a0f0-410b-9fec-cf62ff740ae7\",\"type\":\"BasicTickFormatter\"},{\"attributes\":{\"plot\":{\"id\":\"62112039-2f2a-4995-9ff1-265bde01aa7b\",\"subtype\":\"Figure\",\"type\":\"Plot\"}},\"id\":\"270de8ce-8a37-4836-8bab-c21264639b5b\",\"type\":\"SaveTool\"},{\"attributes\":{\"line_alpha\":{\"value\":0.1},\"line_color\":{\"value\":\"#1f77b4\"},\"line_width\":{\"value\":2},\"x\":{\"field\":\"x\"},\"y\":{\"field\":\"y\"}},\"id\":\"84ee0686-8262-4165-8c85-6f7c89c4600a\",\"type\":\"Line\"}],\"root_ids\":[\"62112039-2f2a-4995-9ff1-265bde01aa7b\"]},\"title\":\"Bokeh Application\",\"version\":\"0.12.1\"}};\n",
       "            var render_items = [{\"docid\":\"94b536f3-0ff6-4f7a-8160-55ecb4ac1f8f\",\"elementid\":\"b19da459-db89-412d-ba6c-be1777ef8f06\",\"modelid\":\"62112039-2f2a-4995-9ff1-265bde01aa7b\",\"notebook_comms_target\":\"12cbd4f6-0ea3-48b2-9b4f-d9b426fb6d0d\"}];\n",
       "            \n",
       "            Bokeh.embed.embed_items(docs_json, render_items);\n",
       "        });\n",
       "      },\n",
       "      function(Bokeh) {\n",
       "      }\n",
       "    ];\n",
       "  \n",
       "    function run_inline_js() {\n",
       "      for (var i = 0; i < inline_js.length; i++) {\n",
       "        inline_js[i](window.Bokeh);\n",
       "      }\n",
       "    }\n",
       "  \n",
       "    if (window._bokeh_is_loading === 0) {\n",
       "      console.log(\"Bokeh: BokehJS loaded, going straight to plotting\");\n",
       "      run_inline_js();\n",
       "    } else {\n",
       "      load_libs(js_urls, function() {\n",
       "        console.log(\"Bokeh: BokehJS plotting callback run at\", now());\n",
       "        run_inline_js();\n",
       "      });\n",
       "    }\n",
       "  }(this));\n",
       "</script>"
      ]
     },
     "metadata": {},
     "output_type": "display_data"
    },
    {
     "data": {
      "text/html": [
       "<p><code>&lt;Bokeh Notebook handle for <strong>In[4]</strong>&gt;</code></p>"
      ],
      "text/plain": [
       "<bokeh.io._CommsHandle at 0x8d62be0>"
      ]
     },
     "execution_count": 4,
     "metadata": {},
     "output_type": "execute_result"
    }
   ],
   "source": [
    "p = figure()\n",
    "p.line(x, y_cos, line_width=2)\n",
    "show(p)"
   ]
  },
  {
   "cell_type": "code",
   "execution_count": 5,
   "metadata": {
    "collapsed": false
   },
   "outputs": [
    {
     "data": {
      "text/html": [
       "\n",
       "\n",
       "    <div class=\"bk-root\">\n",
       "        <div class=\"plotdiv\" id=\"2dcd2651-2789-4f9d-aca4-d57afaae0189\"></div>\n",
       "    </div>\n",
       "<script type=\"text/javascript\">\n",
       "  \n",
       "  (function(global) {\n",
       "    function now() {\n",
       "      return new Date();\n",
       "    }\n",
       "  \n",
       "    var force = \"\";\n",
       "  \n",
       "    if (typeof (window._bokeh_onload_callbacks) === \"undefined\" || force !== \"\") {\n",
       "      window._bokeh_onload_callbacks = [];\n",
       "      window._bokeh_is_loading = undefined;\n",
       "    }\n",
       "  \n",
       "    function run_callbacks() {\n",
       "      window._bokeh_onload_callbacks.forEach(function(callback) { callback() });\n",
       "      delete window._bokeh_onload_callbacks\n",
       "      console.info(\"Bokeh: all callbacks have finished\");\n",
       "    }\n",
       "  \n",
       "    function load_libs(js_urls, callback) {\n",
       "      window._bokeh_onload_callbacks.push(callback);\n",
       "      if (window._bokeh_is_loading > 0) {\n",
       "        console.log(\"Bokeh: BokehJS is being loaded, scheduling callback at\", now());\n",
       "        return null;\n",
       "      }\n",
       "      if (js_urls == null || js_urls.length === 0) {\n",
       "        run_callbacks();\n",
       "        return null;\n",
       "      }\n",
       "      console.log(\"Bokeh: BokehJS not loaded, scheduling load and callback at\", now());\n",
       "      window._bokeh_is_loading = js_urls.length;\n",
       "      for (var i = 0; i < js_urls.length; i++) {\n",
       "        var url = js_urls[i];\n",
       "        var s = document.createElement('script');\n",
       "        s.src = url;\n",
       "        s.async = false;\n",
       "        s.onreadystatechange = s.onload = function() {\n",
       "          window._bokeh_is_loading--;\n",
       "          if (window._bokeh_is_loading === 0) {\n",
       "            console.log(\"Bokeh: all BokehJS libraries loaded\");\n",
       "            run_callbacks()\n",
       "          }\n",
       "        };\n",
       "        s.onerror = function() {\n",
       "          console.warn(\"failed to load library \" + url);\n",
       "        };\n",
       "        console.log(\"Bokeh: injecting script tag for BokehJS library: \", url);\n",
       "        document.getElementsByTagName(\"head\")[0].appendChild(s);\n",
       "      }\n",
       "    };var element = document.getElementById(\"2dcd2651-2789-4f9d-aca4-d57afaae0189\");\n",
       "    if (element == null) {\n",
       "      console.log(\"Bokeh: ERROR: autoload.js configured with elementid '2dcd2651-2789-4f9d-aca4-d57afaae0189' but no matching script tag was found. \")\n",
       "      return false;\n",
       "    }\n",
       "  \n",
       "    var js_urls = [];\n",
       "  \n",
       "    var inline_js = [\n",
       "      function(Bokeh) {\n",
       "        Bokeh.$(function() {\n",
       "            var docs_json = {\"ac1cde7c-8def-4e51-bd04-a31b1420f5a8\":{\"roots\":{\"references\":[{\"attributes\":{\"text\":{\"value\":\"Stars\"},\"text_color\":{\"value\":\"#000000\"},\"text_font_size\":{\"value\":\"12px\"},\"x\":{\"value\":0},\"y\":{\"value\":6}},\"id\":\"4a8f60c9-d94d-44c4-abdb-996f20e24091\",\"type\":\"Text\"},{\"attributes\":{\"plot\":{\"id\":\"c5e2056a-48f3-48f1-b266-8e64a899992e\",\"type\":\"Plot\"}},\"id\":\"257723cb-f5fc-4d6e-8c10-5f5c95d61900\",\"type\":\"SaveTool\"},{\"attributes\":{\"callback\":null},\"id\":\"66710195-cc86-4f75-b959-80cb8240abd8\",\"type\":\"ColumnDataSource\"},{\"attributes\":{\"axis_label_text_font\":\"sans-serif\",\"axis_label_text_font_size\":{\"value\":\"12.000000pt\"},\"axis_label_text_font_style\":\"normal\",\"formatter\":{\"id\":\"ed578906-3f12-4459-94d6-6e437de33486\",\"type\":\"BasicTickFormatter\"},\"major_label_text_font\":\"sans-serif\",\"major_label_text_font_size\":{\"value\":\"12.000000pt\"},\"plot\":{\"id\":\"c5e2056a-48f3-48f1-b266-8e64a899992e\",\"type\":\"Plot\"},\"ticker\":{\"id\":\"629fa5f6-0fa7-48fc-b8b2-ec483598cbdc\",\"type\":\"BasicTicker\"}},\"id\":\"5ead3bb2-3b02-4cc5-b078-7e29cca32ece\",\"type\":\"LinearAxis\"},{\"attributes\":{},\"id\":\"3ee930ac-64e0-41b3-93f0-7e702d3c06c0\",\"type\":\"BasicTickFormatter\"},{\"attributes\":{\"callback\":null},\"id\":\"fb289941-39c5-479f-9263-d1021466cad9\",\"type\":\"ColumnDataSource\"},{\"attributes\":{},\"id\":\"629fa5f6-0fa7-48fc-b8b2-ec483598cbdc\",\"type\":\"BasicTicker\"},{\"attributes\":{\"data_source\":{\"id\":\"68ba5521-f817-419b-a274-105ca5583637\",\"type\":\"ColumnDataSource\"},\"glyph\":{\"id\":\"b4a88ba3-954b-4c83-bfc1-65344a646f47\",\"type\":\"Text\"},\"hover_glyph\":null,\"nonselection_glyph\":null,\"selection_glyph\":null},\"id\":\"311b4cd1-556c-44c6-a5ca-acd3edad62c8\",\"type\":\"GlyphRenderer\"},{\"attributes\":{\"data_source\":{\"id\":\"32627c18-d81f-4b8f-bba1-eb78c0db4c2d\",\"type\":\"ColumnDataSource\"},\"glyph\":{\"id\":\"fe394c4e-56a1-4308-aead-d85541f13691\",\"type\":\"Asterisk\"},\"hover_glyph\":null,\"nonselection_glyph\":null,\"selection_glyph\":null},\"id\":\"4c8bb31d-841d-40d5-a45c-0020f9f40842\",\"type\":\"GlyphRenderer\"},{\"attributes\":{\"callback\":null,\"column_names\":[\"Series 0\",\"Series 1\"],\"data\":{\"Series 0\":[-1.9054605585582034,-1.2440575577885726,-0.6830702514038001,-2.309800265432835,0.19490578546670623,-0.5771096674790195,-0.7431899552894441,0.27150314923478125,-0.175867072017591,-1.5197992377029108,-2.4653393149096923,-1.5739323946089927,-1.3076292374880474,-1.7527877064864414,0.29776426221102614,-1.143660446583734,-0.26761488679072043,-2.0963053627678754,-0.840269677679549,0.48591467847810565,-1.2095706326415692,-0.816312756884119,-1.622201852543693,-1.8487373202726023,-1.1231669996873994,-1.8799206640744897,-0.7454801739404273,1.0281316154441318,-1.4246708315319099,-0.5947025383696892,-1.427842683490095,-0.8998411556936314,-1.531526608509957],\"Series 1\":[4.41343610656875,4.393640095131758,5.14593254617471,2.636877589890248,4.626147540323007,5.363655861439357,4.8314935575699165,4.256570589601263,5.035186045246229,4.769111908888724,4.65220425823359,3.9973769044853027,5.2506053676693165,4.6790256135954245,5.138721750028485,3.1327830066631295,4.752939980453614,4.8436739063564,3.0261818996178858,4.011176763732815,4.040234963062832,3.545758899905606,3.6233809194910163,4.1070213281991,5.907543077352581,6.216880795967469,3.899831286100327,5.33834288587265,2.6912907036603153,4.599926533881077,3.878533737755687,5.204330140996184,5.766188749345497]}},\"id\":\"32627c18-d81f-4b8f-bba1-eb78c0db4c2d\",\"type\":\"ColumnDataSource\"},{\"attributes\":{\"dimension\":1,\"grid_line_color\":{\"value\":\"black\"},\"grid_line_width\":{\"value\":0.5},\"plot\":{\"id\":\"c5e2056a-48f3-48f1-b266-8e64a899992e\",\"type\":\"Plot\"},\"ticker\":{\"id\":\"e8fdfe60-a289-4bf7-af52-c662c3966038\",\"type\":\"BasicTicker\"}},\"id\":\"e70b50f5-7fef-4e10-b178-f2487a1988c0\",\"type\":\"Grid\"},{\"attributes\":{\"plot\":{\"id\":\"c5e2056a-48f3-48f1-b266-8e64a899992e\",\"type\":\"Plot\"}},\"id\":\"5862a4e9-d7a1-46cb-b77f-3c2fab5406bf\",\"type\":\"WheelZoomTool\"},{\"attributes\":{\"text\":{\"value\":\"Squares\"},\"text_color\":{\"value\":\"#000000\"},\"text_font_size\":{\"value\":\"12px\"},\"x\":{\"value\":-12.0},\"y\":{\"value\":2.5}},\"id\":\"d875e630-622c-4807-8642-0a902d0cb31b\",\"type\":\"Text\"},{\"attributes\":{\"callback\":null},\"id\":\"68ba5521-f817-419b-a274-105ca5583637\",\"type\":\"ColumnDataSource\"},{\"attributes\":{\"data_source\":{\"id\":\"d2e91835-598d-4261-8553-25e981ff28ed\",\"type\":\"ColumnDataSource\"},\"glyph\":{\"id\":\"78c3ec72-efc4-48af-ab5a-d5680adcbdc7\",\"type\":\"Diamond\"},\"hover_glyph\":null,\"nonselection_glyph\":null,\"selection_glyph\":null},\"id\":\"16116d4a-3c99-45db-aba0-46244c9c290b\",\"type\":\"GlyphRenderer\"},{\"attributes\":{\"axis_label_text_font\":\"sans-serif\",\"axis_label_text_font_size\":{\"value\":\"12.000000pt\"},\"axis_label_text_font_style\":\"normal\",\"formatter\":{\"id\":\"3ee930ac-64e0-41b3-93f0-7e702d3c06c0\",\"type\":\"BasicTickFormatter\"},\"major_label_text_font\":\"sans-serif\",\"major_label_text_font_size\":{\"value\":\"12.000000pt\"},\"plot\":{\"id\":\"c5e2056a-48f3-48f1-b266-8e64a899992e\",\"type\":\"Plot\"},\"ticker\":{\"id\":\"e8fdfe60-a289-4bf7-af52-c662c3966038\",\"type\":\"BasicTicker\"}},\"id\":\"8c37c2e5-15dd-4569-afe1-c53fa4e0dd9a\",\"type\":\"LinearAxis\"},{\"attributes\":{\"active_drag\":\"auto\",\"active_scroll\":\"auto\",\"active_tap\":\"auto\",\"tools\":[{\"id\":\"3f8843a9-0990-40ee-bae6-75cac6253f5c\",\"type\":\"PanTool\"},{\"id\":\"5862a4e9-d7a1-46cb-b77f-3c2fab5406bf\",\"type\":\"WheelZoomTool\"},{\"id\":\"b0f3e70f-9a19-4f4e-a1bc-5f1fa45f66f8\",\"type\":\"BoxZoomTool\"},{\"id\":\"257723cb-f5fc-4d6e-8c10-5f5c95d61900\",\"type\":\"SaveTool\"},{\"id\":\"1f0e639a-c7df-4e6f-8737-7fa1e1085560\",\"type\":\"ResetTool\"},{\"id\":\"c156776f-f907-4f40-bdd0-cb7ceb3dcaa8\",\"type\":\"HelpTool\"}]},\"id\":\"ec9e2d45-c66a-49f3-8db6-fd7623a50eb7\",\"type\":\"Toolbar\"},{\"attributes\":{\"callback\":null},\"id\":\"d3874bb4-706f-42d5-9a3b-41a34bd7277f\",\"type\":\"DataRange1d\"},{\"attributes\":{\"fill_color\":{\"value\":\"#FF0000\"},\"line_color\":{\"value\":\"#000000\"},\"line_width\":{\"value\":0.5},\"size\":{\"units\":\"screen\",\"value\":6.0},\"x\":{\"field\":\"Series 0\"},\"y\":{\"field\":\"Series 1\"}},\"id\":\"78c3ec72-efc4-48af-ab5a-d5680adcbdc7\",\"type\":\"Diamond\"},{\"attributes\":{\"text\":{\"value\":\"Diamonds\"},\"text_color\":{\"value\":\"#000000\"},\"text_font_size\":{\"value\":\"12px\"},\"x\":{\"value\":10},\"y\":{\"value\":3}},\"id\":\"b4a88ba3-954b-4c83-bfc1-65344a646f47\",\"type\":\"Text\"},{\"attributes\":{\"background_fill_color\":{\"value\":\"white\"},\"below\":[{\"id\":\"5ead3bb2-3b02-4cc5-b078-7e29cca32ece\",\"type\":\"LinearAxis\"}],\"left\":[{\"id\":\"8c37c2e5-15dd-4569-afe1-c53fa4e0dd9a\",\"type\":\"LinearAxis\"}],\"plot_height\":480,\"plot_width\":640,\"renderers\":[{\"id\":\"5ead3bb2-3b02-4cc5-b078-7e29cca32ece\",\"type\":\"LinearAxis\"},{\"id\":\"acac9d4a-9126-42a4-a8c2-1907cc16aee3\",\"type\":\"Grid\"},{\"id\":\"8c37c2e5-15dd-4569-afe1-c53fa4e0dd9a\",\"type\":\"LinearAxis\"},{\"id\":\"e70b50f5-7fef-4e10-b178-f2487a1988c0\",\"type\":\"Grid\"},{\"id\":\"3ad9f562-f141-49a6-a97a-a2b3d2dee2d3\",\"type\":\"BoxAnnotation\"},{\"id\":\"db9eb91f-f21c-47e6-b163-7f6145fd4615\",\"type\":\"GlyphRenderer\"},{\"id\":\"4c8bb31d-841d-40d5-a45c-0020f9f40842\",\"type\":\"GlyphRenderer\"},{\"id\":\"16116d4a-3c99-45db-aba0-46244c9c290b\",\"type\":\"GlyphRenderer\"},{\"id\":\"1b069f14-06cf-4d80-8201-016b1868256f\",\"type\":\"GlyphRenderer\"},{\"id\":\"7e211e9f-ec6b-4d4a-917b-385bd0a01016\",\"type\":\"GlyphRenderer\"},{\"id\":\"311b4cd1-556c-44c6-a5ca-acd3edad62c8\",\"type\":\"GlyphRenderer\"}],\"title\":{\"id\":\"d3373200-ea86-49dd-bdc0-a6206ac83648\",\"type\":\"Title\"},\"tool_events\":{\"id\":\"0da461c5-bc6e-4218-b01a-65976bf6f4eb\",\"type\":\"ToolEvents\"},\"toolbar\":{\"id\":\"ec9e2d45-c66a-49f3-8db6-fd7623a50eb7\",\"type\":\"Toolbar\"},\"x_range\":{\"id\":\"d3874bb4-706f-42d5-9a3b-41a34bd7277f\",\"type\":\"DataRange1d\"},\"y_range\":{\"id\":\"fe7c0681-f2e3-40a7-8e87-f5343e0654a0\",\"type\":\"DataRange1d\"}},\"id\":\"c5e2056a-48f3-48f1-b266-8e64a899992e\",\"type\":\"Plot\"},{\"attributes\":{\"plot\":{\"id\":\"c5e2056a-48f3-48f1-b266-8e64a899992e\",\"type\":\"Plot\"}},\"id\":\"c156776f-f907-4f40-bdd0-cb7ceb3dcaa8\",\"type\":\"HelpTool\"},{\"attributes\":{},\"id\":\"0da461c5-bc6e-4218-b01a-65976bf6f4eb\",\"type\":\"ToolEvents\"},{\"attributes\":{},\"id\":\"e8fdfe60-a289-4bf7-af52-c662c3966038\",\"type\":\"BasicTicker\"},{\"attributes\":{\"callback\":null,\"column_names\":[\"Series 0\",\"Series 1\"],\"data\":{\"Series 0\":[-8.774027949321018,-9.216387737725423,-8.474724598378787,-8.56860966296075,-7.6331009703773205,-8.606211410087703,-8.716583291193404,-6.976195096923273,-9.678054058120589,-7.919253900628968,-6.823134521334381,-8.860974155807245,-8.37240022730924,-8.090712360763344,-8.842652680968703,-8.519220242381502,-6.707673334591522,-10.538249015642032,-8.857257335452369,-8.204422582012969,-9.667426134779038,-8.57344484441572,-10.182173415687911,-6.561815350188915,-9.262757241146595,-7.4561762068573625,-8.199374288760893,-7.968534838324104,-9.908797678556411,-8.879062067948542,-7.905772325192874,-10.124909801926695,-9.099263186487615,-7.424437663177601],\"Series 1\":[4.418393751344087,6.670845976377788,3.8436515384568724,6.791461767146304,5.418389443549943,5.288899504213412,4.145134432311503,5.315740608726912,7.060351472015817,5.722256750089331,5.752711380258651,7.627448065563405,5.8509535803576105,7.845970897609993,3.6920059662718248,4.147697145655718,5.268962092889228,4.9362165051354845,4.708518983781543,5.07377122540144,4.5483590337269195,7.297913141548974,3.7952771863225516,5.835677691439487,5.600441417708241,6.198874360721843,4.071851312932453,5.3370194296106455,6.099999967983334,3.3100607428305704,4.8455386483808285,6.133805201128384,5.426827583606571,5.1819015262822745]}},\"id\":\"3606b9c4-0a87-4a7b-b18b-1684c4f8001a\",\"type\":\"ColumnDataSource\"},{\"attributes\":{\"callback\":null},\"id\":\"fe7c0681-f2e3-40a7-8e87-f5343e0654a0\",\"type\":\"DataRange1d\"},{\"attributes\":{\"plot\":{\"id\":\"c5e2056a-48f3-48f1-b266-8e64a899992e\",\"type\":\"Plot\"}},\"id\":\"3f8843a9-0990-40ee-bae6-75cac6253f5c\",\"type\":\"PanTool\"},{\"attributes\":{\"plot\":null,\"text\":\"\"},\"id\":\"d3373200-ea86-49dd-bdc0-a6206ac83648\",\"type\":\"Title\"},{\"attributes\":{\"data_source\":{\"id\":\"3606b9c4-0a87-4a7b-b18b-1684c4f8001a\",\"type\":\"ColumnDataSource\"},\"glyph\":{\"id\":\"98db3383-2454-4733-a3e1-49023e329858\",\"type\":\"Square\"},\"hover_glyph\":null,\"nonselection_glyph\":null,\"selection_glyph\":null},\"id\":\"db9eb91f-f21c-47e6-b163-7f6145fd4615\",\"type\":\"GlyphRenderer\"},{\"attributes\":{\"overlay\":{\"id\":\"3ad9f562-f141-49a6-a97a-a2b3d2dee2d3\",\"type\":\"BoxAnnotation\"},\"plot\":{\"id\":\"c5e2056a-48f3-48f1-b266-8e64a899992e\",\"type\":\"Plot\"}},\"id\":\"b0f3e70f-9a19-4f4e-a1bc-5f1fa45f66f8\",\"type\":\"BoxZoomTool\"},{\"attributes\":{\"plot\":{\"id\":\"c5e2056a-48f3-48f1-b266-8e64a899992e\",\"type\":\"Plot\"}},\"id\":\"1f0e639a-c7df-4e6f-8737-7fa1e1085560\",\"type\":\"ResetTool\"},{\"attributes\":{\"data_source\":{\"id\":\"fb289941-39c5-479f-9263-d1021466cad9\",\"type\":\"ColumnDataSource\"},\"glyph\":{\"id\":\"4a8f60c9-d94d-44c4-abdb-996f20e24091\",\"type\":\"Text\"},\"hover_glyph\":null,\"nonselection_glyph\":null,\"selection_glyph\":null},\"id\":\"7e211e9f-ec6b-4d4a-917b-385bd0a01016\",\"type\":\"GlyphRenderer\"},{\"attributes\":{\"bottom_units\":\"screen\",\"fill_alpha\":{\"value\":0.5},\"fill_color\":{\"value\":\"lightgrey\"},\"left_units\":\"screen\",\"level\":\"overlay\",\"line_alpha\":{\"value\":1.0},\"line_color\":{\"value\":\"black\"},\"line_dash\":[4,4],\"line_width\":{\"value\":2},\"plot\":null,\"render_mode\":\"css\",\"right_units\":\"screen\",\"top_units\":\"screen\"},\"id\":\"3ad9f562-f141-49a6-a97a-a2b3d2dee2d3\",\"type\":\"BoxAnnotation\"},{\"attributes\":{\"fill_color\":{\"value\":\"#BFBF00\"},\"line_color\":{\"value\":\"#000000\"},\"line_width\":{\"value\":0.5},\"size\":{\"units\":\"screen\",\"value\":6.0},\"x\":{\"field\":\"Series 0\"},\"y\":{\"field\":\"Series 1\"}},\"id\":\"98db3383-2454-4733-a3e1-49023e329858\",\"type\":\"Square\"},{\"attributes\":{},\"id\":\"ed578906-3f12-4459-94d6-6e437de33486\",\"type\":\"BasicTickFormatter\"},{\"attributes\":{\"callback\":null,\"column_names\":[\"Series 0\",\"Series 1\"],\"data\":{\"Series 0\":[8.61951112569311,8.189930520952858,8.235148904350822,8.630466424825814,7.507154731656708,8.003502593083361,9.86047065495496,10.036127940189305,8.316272726076036,8.118246523293587,7.649041362309857,10.642196999655267,8.488897731937183,9.676350179667422,9.468808973899284,9.365933922977822,9.278682327118634,10.651729042176875,8.742709993103205,8.86319922427345,9.286407433686273,7.607812141386927,8.848737043808512,10.7660724340479,7.876393396293964,9.301473906694442,9.081372360127487,9.833229057863077,11.419845912159198,9.028936488007414,10.52086670354556,10.498642008890725,9.57427918490833],\"Series 1\":[0.6386417581161749,1.5010717936360642,1.435121093166385,1.1817142393246525,2.8337129592715216,1.528642608763159,1.9892362921773024,1.8822078938677558,0.25499018550496255,-0.573711156681793,1.4063302671879927,-0.03748027332048709,-0.042291173223065415,-1.0838884632990327,1.7240326159307382,1.4672115179882494,-0.7661848880038011,2.484297655077765,0.9622251070275926,1.352887711494629,-0.053542675807520035,1.1432481920253617,1.2660428304477493,1.7504743930466398,1.7849323436695637,1.9078964683027366,1.1553039461033228,0.020851672263147436,-0.7273562341479216,-0.3520449799969063,1.330694580443619,0.9169832713102656,-1.0237313335917053]}},\"id\":\"d2e91835-598d-4261-8553-25e981ff28ed\",\"type\":\"ColumnDataSource\"},{\"attributes\":{\"fill_color\":{\"value\":\"#BF00BF\"},\"line_color\":{\"value\":\"#000000\"},\"line_width\":{\"value\":0.5},\"size\":{\"units\":\"screen\",\"value\":6.0},\"x\":{\"field\":\"Series 0\"},\"y\":{\"field\":\"Series 1\"}},\"id\":\"fe394c4e-56a1-4308-aead-d85541f13691\",\"type\":\"Asterisk\"},{\"attributes\":{\"data_source\":{\"id\":\"66710195-cc86-4f75-b959-80cb8240abd8\",\"type\":\"ColumnDataSource\"},\"glyph\":{\"id\":\"d875e630-622c-4807-8642-0a902d0cb31b\",\"type\":\"Text\"},\"hover_glyph\":null,\"nonselection_glyph\":null,\"selection_glyph\":null},\"id\":\"1b069f14-06cf-4d80-8201-016b1868256f\",\"type\":\"GlyphRenderer\"},{\"attributes\":{\"grid_line_color\":{\"value\":\"black\"},\"grid_line_width\":{\"value\":0.5},\"plot\":{\"id\":\"c5e2056a-48f3-48f1-b266-8e64a899992e\",\"type\":\"Plot\"},\"ticker\":{\"id\":\"629fa5f6-0fa7-48fc-b8b2-ec483598cbdc\",\"type\":\"BasicTicker\"}},\"id\":\"acac9d4a-9126-42a4-a8c2-1907cc16aee3\",\"type\":\"Grid\"}],\"root_ids\":[\"c5e2056a-48f3-48f1-b266-8e64a899992e\"]},\"title\":\"Bokeh Application\",\"version\":\"0.12.1\"}};\n",
       "            var render_items = [{\"docid\":\"ac1cde7c-8def-4e51-bd04-a31b1420f5a8\",\"elementid\":\"2dcd2651-2789-4f9d-aca4-d57afaae0189\",\"modelid\":\"c5e2056a-48f3-48f1-b266-8e64a899992e\",\"notebook_comms_target\":\"6b2d74ca-09c9-4643-b51d-6ec670a44640\"}];\n",
       "            \n",
       "            Bokeh.embed.embed_items(docs_json, render_items);\n",
       "        });\n",
       "      },\n",
       "      function(Bokeh) {\n",
       "      }\n",
       "    ];\n",
       "  \n",
       "    function run_inline_js() {\n",
       "      for (var i = 0; i < inline_js.length; i++) {\n",
       "        inline_js[i](window.Bokeh);\n",
       "      }\n",
       "    }\n",
       "  \n",
       "    if (window._bokeh_is_loading === 0) {\n",
       "      console.log(\"Bokeh: BokehJS loaded, going straight to plotting\");\n",
       "      run_inline_js();\n",
       "    } else {\n",
       "      load_libs(js_urls, function() {\n",
       "        console.log(\"Bokeh: BokehJS plotting callback run at\", now());\n",
       "        run_inline_js();\n",
       "      });\n",
       "    }\n",
       "  }(this));\n",
       "</script>"
      ]
     },
     "metadata": {},
     "output_type": "display_data"
    },
    {
     "data": {
      "text/html": [
       "<p><code>&lt;Bokeh Notebook handle for <strong>In[5]</strong>&gt;</code></p>"
      ],
      "text/plain": [
       "<bokeh.io._CommsHandle at 0xb980ac8>"
      ]
     },
     "execution_count": 5,
     "metadata": {},
     "output_type": "execute_result"
    }
   ],
   "source": [
    "# Scatterplot from matplotlib to bokeh\n",
    "from sklearn.datasets import make_blobs\n",
    "import matplotlib.pyplot as plt\n",
    "from bokeh import mpl\n",
    "from bokeh.plotting import show\n",
    "\n",
    "D = make_blobs(n_samples=100, n_features=2, centers=3, random_state=7)\n",
    "coord, groups = D[0], D[1]\n",
    "\n",
    "plt.plot(coord[groups==0,0], coord[groups==0,1], 'ys') \n",
    "plt.plot(coord[groups==1,0], coord[groups==1,1], 'm*')\n",
    "plt.plot(coord[groups==2,0], coord[groups==2,1], 'rD')\n",
    "plt.grid()\n",
    "plt.annotate('Squares', (-12,2.5))\n",
    "plt.annotate('Stars', (0,6))\n",
    "plt.annotate('Diamonds', (10,3))\n",
    "\n",
    "show(mpl.to_bokeh())"
   ]
  }
 ],
 "metadata": {
  "kernelspec": {
   "display_name": "Python 3",
   "language": "python",
   "name": "python3"
  },
  "language_info": {
   "codemirror_mode": {
    "name": "ipython",
    "version": 3
   },
   "file_extension": ".py",
   "mimetype": "text/x-python",
   "name": "python",
   "nbconvert_exporter": "python",
   "pygments_lexer": "ipython3",
   "version": "3.4.4"
  }
 },
 "nbformat": 4,
 "nbformat_minor": 0
}
