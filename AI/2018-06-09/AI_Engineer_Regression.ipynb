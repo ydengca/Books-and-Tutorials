{
 "cells": [
  {
   "cell_type": "markdown",
   "metadata": {},
   "source": [
    "## Boston House Price Dataset\n",
    "http://lib.stat.cmu.edu/datasets/boston The dataset was built in 1978 with 500 samples and 13 features."
   ]
  },
  {
   "cell_type": "code",
   "execution_count": 1,
   "metadata": {},
   "outputs": [
    {
     "name": "stderr",
     "output_type": "stream",
     "text": [
      "Using TensorFlow backend.\n",
      "/Users/alvinjin/anaconda3/lib/python3.6/importlib/_bootstrap.py:219: RuntimeWarning: compiletime version 3.5 of module 'tensorflow.python.framework.fast_tensor_util' does not match runtime version 3.6\n",
      "  return f(*args, **kwds)\n"
     ]
    }
   ],
   "source": [
    "from keras.datasets import boston_housing\n",
    "\n",
    "(x_train, y_train), (x_test, y_test) = boston_housing.load_data()"
   ]
  },
  {
   "cell_type": "code",
   "execution_count": 2,
   "metadata": {},
   "outputs": [
    {
     "data": {
      "text/plain": [
       "array([   1.23247,    0.     ,    8.14   ,    0.     ,    0.538  ,\n",
       "          6.142  ,   91.7    ,    3.9769 ,    4.     ,  307.     ,\n",
       "         21.     ,  396.9    ,   18.72   ])"
      ]
     },
     "execution_count": 2,
     "metadata": {},
     "output_type": "execute_result"
    }
   ],
   "source": [
    "x_train[0]"
   ]
  },
  {
   "cell_type": "code",
   "execution_count": 3,
   "metadata": {},
   "outputs": [
    {
     "data": {
      "image/png": "[encoded data removed]",
      "text/plain": [
       "<matplotlib.figure.Figure at 0x11fa9df60>"
      ]
     },
     "metadata": {},
     "output_type": "display_data"
    }
   ],
   "source": [
    "import matplotlib.pyplot as plt\n",
    "\n",
    "plt.hist(y_train)\n",
    "plt.show()"
   ]
  },
  {
   "cell_type": "markdown",
   "metadata": {},
   "source": [
    "## Feature Normalization"
   ]
  },
  {
   "cell_type": "code",
   "execution_count": 4,
   "metadata": {
    "collapsed": true
   },
   "outputs": [],
   "source": [
    "mean = x_train.mean(axis=0)\n",
    "x_train -= mean\n",
    "std = x_train.std(axis=0)\n",
    "x_train /= std\n",
    "\n",
    "x_test -= mean\n",
    "x_test /= std"
   ]
  },
  {
   "cell_type": "markdown",
   "metadata": {},
   "source": [
    "## Build the neural network"
   ]
  },
  {
   "cell_type": "code",
   "execution_count": 5,
   "metadata": {
    "collapsed": true
   },
   "outputs": [],
   "source": [
    "from keras.models import Sequential\n",
    "from keras.layers import Flatten, Dense, Embedding, Dropout"
   ]
  },
  {
   "cell_type": "code",
   "execution_count": 6,
   "metadata": {
    "collapsed": true
   },
   "outputs": [],
   "source": [
    "model = Sequential()\n",
    "model.add(Dense(64, activation='relu',input_shape=(x_train.shape[1],)))\n",
    "model.add(Dense(64, activation='relu'))\n",
    "model.add(Dense(1))"
   ]
  },
  {
   "cell_type": "code",
   "execution_count": 10,
   "metadata": {
    "collapsed": true
   },
   "outputs": [],
   "source": [
    "from keras import optimizers\n",
    "model.compile(optimizer=optimizers.Adam(lr=0.001), \n",
    "              loss='mse', \n",
    "              metrics=['mae'])"
   ]
  },
  {
   "cell_type": "code",
   "execution_count": 11,
   "metadata": {},
   "outputs": [
    {
     "name": "stdout",
     "output_type": "stream",
     "text": [
      "Train on 404 samples, validate on 102 samples\n",
      "Epoch 1/100\n",
      "404/404 [==============================] - 1s 1ms/step - loss: 16.3944 - mean_absolute_error: 3.0792 - val_loss: 16.6324 - val_mean_absolute_error: 3.0903\n",
      "Epoch 2/100\n",
      "404/404 [==============================] - 0s 737us/step - loss: 12.8743 - mean_absolute_error: 2.6131 - val_loss: 16.6813 - val_mean_absolute_error: 2.8544\n",
      "Epoch 3/100\n",
      "404/404 [==============================] - 0s 945us/step - loss: 11.7572 - mean_absolute_error: 2.5458 - val_loss: 30.3639 - val_mean_absolute_error: 3.8862\n",
      "Epoch 4/100\n",
      "404/404 [==============================] - 0s 742us/step - loss: 10.3006 - mean_absolute_error: 2.3971 - val_loss: 18.2516 - val_mean_absolute_error: 2.9259\n",
      "Epoch 5/100\n",
      "404/404 [==============================] - 0s 1ms/step - loss: 9.8727 - mean_absolute_error: 2.3559 - val_loss: 23.1597 - val_mean_absolute_error: 3.6478\n",
      "Epoch 6/100\n",
      "404/404 [==============================] - 0s 825us/step - loss: 13.6015 - mean_absolute_error: 2.8027 - val_loss: 16.4496 - val_mean_absolute_error: 3.0582\n",
      "Epoch 7/100\n",
      "404/404 [==============================] - 0s 709us/step - loss: 11.6323 - mean_absolute_error: 2.6124 - val_loss: 16.4497 - val_mean_absolute_error: 3.0547\n",
      "Epoch 8/100\n",
      "404/404 [==============================] - 0s 756us/step - loss: 8.4036 - mean_absolute_error: 2.1563 - val_loss: 26.7575 - val_mean_absolute_error: 3.7633\n",
      "Epoch 9/100\n",
      "404/404 [==============================] - 0s 811us/step - loss: 14.1483 - mean_absolute_error: 2.8960 - val_loss: 19.6255 - val_mean_absolute_error: 2.8902\n",
      "Epoch 10/100\n",
      "404/404 [==============================] - 0s 963us/step - loss: 9.2970 - mean_absolute_error: 2.2350 - val_loss: 18.4144 - val_mean_absolute_error: 3.1378\n",
      "Epoch 11/100\n",
      "404/404 [==============================] - 0s 1ms/step - loss: 9.9128 - mean_absolute_error: 2.4193 - val_loss: 13.4514 - val_mean_absolute_error: 2.7067\n",
      "Epoch 12/100\n",
      "404/404 [==============================] - 1s 1ms/step - loss: 7.4014 - mean_absolute_error: 1.9727 - val_loss: 14.3647 - val_mean_absolute_error: 2.8959\n",
      "Epoch 13/100\n",
      "404/404 [==============================] - 0s 1ms/step - loss: 7.8217 - mean_absolute_error: 2.1049 - val_loss: 17.9079 - val_mean_absolute_error: 2.9251\n",
      "Epoch 14/100\n",
      "404/404 [==============================] - 0s 971us/step - loss: 9.0906 - mean_absolute_error: 2.2846 - val_loss: 15.9599 - val_mean_absolute_error: 2.7288\n",
      "Epoch 15/100\n",
      "404/404 [==============================] - 0s 929us/step - loss: 6.6520 - mean_absolute_error: 1.9558 - val_loss: 18.7999 - val_mean_absolute_error: 3.1190\n",
      "Epoch 16/100\n",
      "404/404 [==============================] - 0s 938us/step - loss: 7.0400 - mean_absolute_error: 2.0136 - val_loss: 12.3447 - val_mean_absolute_error: 2.5337\n",
      "Epoch 17/100\n",
      "404/404 [==============================] - 0s 808us/step - loss: 6.6890 - mean_absolute_error: 1.9514 - val_loss: 13.5199 - val_mean_absolute_error: 2.5261\n",
      "Epoch 18/100\n",
      "404/404 [==============================] - 0s 798us/step - loss: 8.6773 - mean_absolute_error: 2.2122 - val_loss: 19.1639 - val_mean_absolute_error: 3.0913\n",
      "Epoch 19/100\n",
      "404/404 [==============================] - 0s 910us/step - loss: 6.7483 - mean_absolute_error: 1.9220 - val_loss: 13.8436 - val_mean_absolute_error: 2.6431\n",
      "Epoch 20/100\n",
      "404/404 [==============================] - 0s 1ms/step - loss: 8.3916 - mean_absolute_error: 2.0589 - val_loss: 14.4625 - val_mean_absolute_error: 2.7046\n",
      "Epoch 21/100\n",
      "404/404 [==============================] - 0s 984us/step - loss: 7.8970 - mean_absolute_error: 2.1333 - val_loss: 12.9877 - val_mean_absolute_error: 2.6306\n",
      "Epoch 22/100\n",
      "404/404 [==============================] - 1s 1ms/step - loss: 6.6423 - mean_absolute_error: 1.9212 - val_loss: 26.8097 - val_mean_absolute_error: 3.4856\n",
      "Epoch 23/100\n",
      "404/404 [==============================] - 1s 2ms/step - loss: 7.0549 - mean_absolute_error: 2.0102 - val_loss: 21.8186 - val_mean_absolute_error: 3.3752\n",
      "Epoch 24/100\n",
      "404/404 [==============================] - 0s 1ms/step - loss: 7.7320 - mean_absolute_error: 2.1244 - val_loss: 13.6565 - val_mean_absolute_error: 2.5439\n",
      "Epoch 25/100\n",
      "404/404 [==============================] - 1s 1ms/step - loss: 6.5332 - mean_absolute_error: 1.9097 - val_loss: 12.3850 - val_mean_absolute_error: 2.4169\n",
      "Epoch 26/100\n",
      "404/404 [==============================] - 1s 1ms/step - loss: 6.0590 - mean_absolute_error: 1.7919 - val_loss: 23.5526 - val_mean_absolute_error: 3.6436\n",
      "Epoch 27/100\n",
      "404/404 [==============================] - 1s 1ms/step - loss: 7.6127 - mean_absolute_error: 2.0634 - val_loss: 30.1825 - val_mean_absolute_error: 3.4466\n",
      "Epoch 28/100\n",
      "404/404 [==============================] - 1s 2ms/step - loss: 11.5018 - mean_absolute_error: 2.5952 - val_loss: 17.4210 - val_mean_absolute_error: 2.8490\n",
      "Epoch 29/100\n",
      "404/404 [==============================] - 1s 2ms/step - loss: 6.9449 - mean_absolute_error: 1.9722 - val_loss: 12.7840 - val_mean_absolute_error: 2.5415\n",
      "Epoch 30/100\n",
      "404/404 [==============================] - 1s 2ms/step - loss: 7.1073 - mean_absolute_error: 2.0616 - val_loss: 16.3564 - val_mean_absolute_error: 2.8603\n",
      "Epoch 31/100\n",
      "404/404 [==============================] - 1s 2ms/step - loss: 7.0558 - mean_absolute_error: 1.9609 - val_loss: 21.5500 - val_mean_absolute_error: 3.0381\n",
      "Epoch 32/100\n",
      "404/404 [==============================] - 1s 2ms/step - loss: 6.5749 - mean_absolute_error: 1.8992 - val_loss: 14.5040 - val_mean_absolute_error: 2.5446\n",
      "Epoch 33/100\n",
      "404/404 [==============================] - 1s 2ms/step - loss: 5.2338 - mean_absolute_error: 1.7429 - val_loss: 15.9327 - val_mean_absolute_error: 2.8701\n",
      "Epoch 34/100\n",
      "404/404 [==============================] - 1s 3ms/step - loss: 5.9542 - mean_absolute_error: 1.8296 - val_loss: 14.5073 - val_mean_absolute_error: 2.5546\n",
      "Epoch 35/100\n",
      "404/404 [==============================] - 1s 2ms/step - loss: 6.3704 - mean_absolute_error: 1.8713 - val_loss: 18.9616 - val_mean_absolute_error: 3.0245\n",
      "Epoch 36/100\n",
      "404/404 [==============================] - 1s 2ms/step - loss: 5.8045 - mean_absolute_error: 1.7474 - val_loss: 16.5852 - val_mean_absolute_error: 2.9635\n",
      "Epoch 37/100\n",
      "404/404 [==============================] - 1s 2ms/step - loss: 5.8944 - mean_absolute_error: 1.8286 - val_loss: 13.6570 - val_mean_absolute_error: 2.5325\n",
      "Epoch 38/100\n",
      "404/404 [==============================] - 1s 2ms/step - loss: 8.5934 - mean_absolute_error: 2.1510 - val_loss: 14.1429 - val_mean_absolute_error: 2.5683\n",
      "Epoch 39/100\n",
      "404/404 [==============================] - 1s 2ms/step - loss: 7.6654 - mean_absolute_error: 2.0756 - val_loss: 12.4650 - val_mean_absolute_error: 2.4409\n",
      "Epoch 40/100\n",
      "404/404 [==============================] - 1s 2ms/step - loss: 4.8271 - mean_absolute_error: 1.6040 - val_loss: 17.8903 - val_mean_absolute_error: 3.0522\n",
      "Epoch 41/100\n",
      "404/404 [==============================] - 1s 2ms/step - loss: 7.3716 - mean_absolute_error: 2.0030 - val_loss: 15.1571 - val_mean_absolute_error: 2.7635\n",
      "Epoch 42/100\n",
      "404/404 [==============================] - 1s 2ms/step - loss: 7.0917 - mean_absolute_error: 2.0132 - val_loss: 16.9960 - val_mean_absolute_error: 2.8251\n",
      "Epoch 43/100\n",
      "404/404 [==============================] - 1s 2ms/step - loss: 4.9146 - mean_absolute_error: 1.6332 - val_loss: 14.9833 - val_mean_absolute_error: 2.6547\n",
      "Epoch 44/100\n",
      "404/404 [==============================] - 1s 2ms/step - loss: 4.8549 - mean_absolute_error: 1.6070 - val_loss: 12.7319 - val_mean_absolute_error: 2.4613\n",
      "Epoch 45/100\n",
      "404/404 [==============================] - 1s 2ms/step - loss: 5.4551 - mean_absolute_error: 1.7775 - val_loss: 10.6677 - val_mean_absolute_error: 2.3335\n",
      "Epoch 46/100\n",
      "404/404 [==============================] - 1s 2ms/step - loss: 4.0075 - mean_absolute_error: 1.5139 - val_loss: 12.6114 - val_mean_absolute_error: 2.5223\n",
      "Epoch 47/100\n",
      "404/404 [==============================] - 1s 2ms/step - loss: 5.0018 - mean_absolute_error: 1.7043 - val_loss: 15.8053 - val_mean_absolute_error: 2.7295\n",
      "Epoch 48/100\n",
      "404/404 [==============================] - 1s 2ms/step - loss: 5.0777 - mean_absolute_error: 1.7638 - val_loss: 16.6837 - val_mean_absolute_error: 3.0484\n",
      "Epoch 49/100\n"
     ]
    },
    {
     "name": "stdout",
     "output_type": "stream",
     "text": [
      "404/404 [==============================] - 0s 1ms/step - loss: 5.7521 - mean_absolute_error: 1.8350 - val_loss: 13.9472 - val_mean_absolute_error: 2.5453\n",
      "Epoch 50/100\n",
      "404/404 [==============================] - 0s 946us/step - loss: 4.3088 - mean_absolute_error: 1.5578 - val_loss: 15.6533 - val_mean_absolute_error: 2.7620\n",
      "Epoch 51/100\n",
      "404/404 [==============================] - 0s 960us/step - loss: 5.6699 - mean_absolute_error: 1.7399 - val_loss: 13.2990 - val_mean_absolute_error: 2.7521\n",
      "Epoch 52/100\n",
      "404/404 [==============================] - 0s 1ms/step - loss: 4.6872 - mean_absolute_error: 1.6375 - val_loss: 15.8773 - val_mean_absolute_error: 2.8332\n",
      "Epoch 53/100\n",
      "404/404 [==============================] - 0s 1ms/step - loss: 6.8353 - mean_absolute_error: 2.0316 - val_loss: 13.5144 - val_mean_absolute_error: 2.4431\n",
      "Epoch 54/100\n",
      "404/404 [==============================] - 0s 960us/step - loss: 4.9202 - mean_absolute_error: 1.6608 - val_loss: 14.2058 - val_mean_absolute_error: 2.7496\n",
      "Epoch 55/100\n",
      "404/404 [==============================] - 0s 1ms/step - loss: 5.1238 - mean_absolute_error: 1.6687 - val_loss: 12.0294 - val_mean_absolute_error: 2.4464\n",
      "Epoch 56/100\n",
      "404/404 [==============================] - 0s 1ms/step - loss: 4.7512 - mean_absolute_error: 1.5818 - val_loss: 14.2193 - val_mean_absolute_error: 2.6950\n",
      "Epoch 57/100\n",
      "404/404 [==============================] - 0s 1ms/step - loss: 5.8811 - mean_absolute_error: 1.7961 - val_loss: 11.7183 - val_mean_absolute_error: 2.6126\n",
      "Epoch 58/100\n",
      "404/404 [==============================] - 0s 913us/step - loss: 5.4036 - mean_absolute_error: 1.7317 - val_loss: 13.3384 - val_mean_absolute_error: 2.7425\n",
      "Epoch 59/100\n",
      "404/404 [==============================] - 0s 1ms/step - loss: 5.9825 - mean_absolute_error: 1.8408 - val_loss: 11.9657 - val_mean_absolute_error: 2.5683\n",
      "Epoch 60/100\n",
      "404/404 [==============================] - 0s 1ms/step - loss: 4.5456 - mean_absolute_error: 1.6530 - val_loss: 16.7852 - val_mean_absolute_error: 2.9027\n",
      "Epoch 61/100\n",
      "404/404 [==============================] - 0s 987us/step - loss: 4.4244 - mean_absolute_error: 1.5653 - val_loss: 12.7362 - val_mean_absolute_error: 2.5795\n",
      "Epoch 62/100\n",
      "404/404 [==============================] - 0s 621us/step - loss: 5.2836 - mean_absolute_error: 1.6876 - val_loss: 12.5245 - val_mean_absolute_error: 2.5236\n",
      "Epoch 63/100\n",
      "404/404 [==============================] - 0s 637us/step - loss: 5.0532 - mean_absolute_error: 1.6319 - val_loss: 12.7567 - val_mean_absolute_error: 2.4409\n",
      "Epoch 64/100\n",
      "404/404 [==============================] - 0s 632us/step - loss: 4.9681 - mean_absolute_error: 1.7065 - val_loss: 13.6181 - val_mean_absolute_error: 2.6944\n",
      "Epoch 65/100\n",
      "404/404 [==============================] - 0s 642us/step - loss: 3.9640 - mean_absolute_error: 1.5821 - val_loss: 12.3770 - val_mean_absolute_error: 2.5592\n",
      "Epoch 66/100\n",
      "404/404 [==============================] - 0s 548us/step - loss: 4.4763 - mean_absolute_error: 1.5921 - val_loss: 12.4763 - val_mean_absolute_error: 2.5056\n",
      "Epoch 67/100\n",
      "404/404 [==============================] - 0s 548us/step - loss: 7.2458 - mean_absolute_error: 2.0486 - val_loss: 16.3860 - val_mean_absolute_error: 3.1508\n",
      "Epoch 68/100\n",
      "404/404 [==============================] - 0s 544us/step - loss: 6.3653 - mean_absolute_error: 1.8465 - val_loss: 11.2965 - val_mean_absolute_error: 2.4680\n",
      "Epoch 69/100\n",
      "404/404 [==============================] - 0s 677us/step - loss: 3.8885 - mean_absolute_error: 1.4657 - val_loss: 15.7905 - val_mean_absolute_error: 2.5290\n",
      "Epoch 70/100\n",
      "404/404 [==============================] - 0s 633us/step - loss: 3.8877 - mean_absolute_error: 1.4553 - val_loss: 21.8511 - val_mean_absolute_error: 2.7513\n",
      "Epoch 71/100\n",
      "404/404 [==============================] - 0s 623us/step - loss: 4.6167 - mean_absolute_error: 1.5839 - val_loss: 17.5486 - val_mean_absolute_error: 2.5750\n",
      "Epoch 72/100\n",
      "404/404 [==============================] - 1s 1ms/step - loss: 5.1100 - mean_absolute_error: 1.7084 - val_loss: 20.7979 - val_mean_absolute_error: 2.8038\n",
      "Epoch 73/100\n",
      "404/404 [==============================] - 0s 1ms/step - loss: 3.9606 - mean_absolute_error: 1.5363 - val_loss: 16.8195 - val_mean_absolute_error: 2.7725\n",
      "Epoch 74/100\n",
      "404/404 [==============================] - 0s 1ms/step - loss: 3.5365 - mean_absolute_error: 1.4140 - val_loss: 17.4782 - val_mean_absolute_error: 2.6757\n",
      "Epoch 75/100\n",
      "404/404 [==============================] - 1s 1ms/step - loss: 4.1127 - mean_absolute_error: 1.5172 - val_loss: 16.4606 - val_mean_absolute_error: 3.0850\n",
      "Epoch 76/100\n",
      "404/404 [==============================] - 0s 1ms/step - loss: 5.5238 - mean_absolute_error: 1.7352 - val_loss: 14.2244 - val_mean_absolute_error: 2.5884\n",
      "Epoch 77/100\n",
      "404/404 [==============================] - 0s 1ms/step - loss: 5.9698 - mean_absolute_error: 1.8539 - val_loss: 12.6432 - val_mean_absolute_error: 2.5629\n",
      "Epoch 78/100\n",
      "404/404 [==============================] - 0s 1ms/step - loss: 4.0794 - mean_absolute_error: 1.5153 - val_loss: 14.2363 - val_mean_absolute_error: 2.6853\n",
      "Epoch 79/100\n",
      "404/404 [==============================] - 0s 1ms/step - loss: 3.1978 - mean_absolute_error: 1.3376 - val_loss: 18.5110 - val_mean_absolute_error: 2.9300\n",
      "Epoch 80/100\n",
      "404/404 [==============================] - 0s 982us/step - loss: 4.1279 - mean_absolute_error: 1.5136 - val_loss: 15.6916 - val_mean_absolute_error: 2.7136\n",
      "Epoch 81/100\n",
      "404/404 [==============================] - 0s 1ms/step - loss: 3.5238 - mean_absolute_error: 1.4185 - val_loss: 16.1359 - val_mean_absolute_error: 2.5503\n",
      "Epoch 82/100\n",
      "404/404 [==============================] - 0s 1ms/step - loss: 3.9988 - mean_absolute_error: 1.4916 - val_loss: 15.5674 - val_mean_absolute_error: 2.7312\n",
      "Epoch 83/100\n",
      "404/404 [==============================] - 0s 1ms/step - loss: 4.2707 - mean_absolute_error: 1.5931 - val_loss: 13.6701 - val_mean_absolute_error: 2.4840\n",
      "Epoch 84/100\n",
      "404/404 [==============================] - 0s 1ms/step - loss: 3.2956 - mean_absolute_error: 1.3887 - val_loss: 13.9429 - val_mean_absolute_error: 2.4419\n",
      "Epoch 85/100\n",
      "404/404 [==============================] - 0s 1ms/step - loss: 3.0980 - mean_absolute_error: 1.3031 - val_loss: 13.8484 - val_mean_absolute_error: 2.3864\n",
      "Epoch 86/100\n",
      "404/404 [==============================] - 0s 965us/step - loss: 3.4994 - mean_absolute_error: 1.4536 - val_loss: 12.2780 - val_mean_absolute_error: 2.3576\n",
      "Epoch 87/100\n",
      "404/404 [==============================] - 0s 1ms/step - loss: 2.7284 - mean_absolute_error: 1.2627 - val_loss: 12.3011 - val_mean_absolute_error: 2.4571\n",
      "Epoch 88/100\n",
      "404/404 [==============================] - 0s 1ms/step - loss: 3.3678 - mean_absolute_error: 1.3545 - val_loss: 19.3791 - val_mean_absolute_error: 2.7451\n",
      "Epoch 89/100\n",
      "404/404 [==============================] - 1s 1ms/step - loss: 3.9326 - mean_absolute_error: 1.4174 - val_loss: 14.4142 - val_mean_absolute_error: 2.5125\n",
      "Epoch 90/100\n",
      "404/404 [==============================] - 1s 1ms/step - loss: 3.2834 - mean_absolute_error: 1.3355 - val_loss: 10.3322 - val_mean_absolute_error: 2.3302\n",
      "Epoch 91/100\n",
      "404/404 [==============================] - 0s 955us/step - loss: 2.8216 - mean_absolute_error: 1.2756 - val_loss: 11.2945 - val_mean_absolute_error: 2.3144\n",
      "Epoch 92/100\n",
      "404/404 [==============================] - 0s 1ms/step - loss: 3.4117 - mean_absolute_error: 1.3694 - val_loss: 14.8509 - val_mean_absolute_error: 2.6640\n",
      "Epoch 93/100\n",
      "404/404 [==============================] - 0s 1ms/step - loss: 2.9284 - mean_absolute_error: 1.2958 - val_loss: 14.8189 - val_mean_absolute_error: 2.6508\n",
      "Epoch 94/100\n",
      "404/404 [==============================] - 0s 1ms/step - loss: 3.8370 - mean_absolute_error: 1.4167 - val_loss: 20.0552 - val_mean_absolute_error: 2.9248\n",
      "Epoch 95/100\n",
      "404/404 [==============================] - 0s 1ms/step - loss: 4.2599 - mean_absolute_error: 1.5821 - val_loss: 18.2301 - val_mean_absolute_error: 2.7769\n",
      "Epoch 96/100\n",
      "404/404 [==============================] - 0s 930us/step - loss: 3.9632 - mean_absolute_error: 1.5083 - val_loss: 12.3808 - val_mean_absolute_error: 2.3008\n",
      "Epoch 97/100\n",
      "404/404 [==============================] - 0s 894us/step - loss: 4.3806 - mean_absolute_error: 1.5845 - val_loss: 13.8191 - val_mean_absolute_error: 2.3877\n"
     ]
    },
    {
     "name": "stdout",
     "output_type": "stream",
     "text": [
      "Epoch 98/100\n",
      "404/404 [==============================] - 0s 617us/step - loss: 3.7194 - mean_absolute_error: 1.4736 - val_loss: 18.2242 - val_mean_absolute_error: 2.9489\n",
      "Epoch 99/100\n",
      "404/404 [==============================] - 0s 498us/step - loss: 4.0086 - mean_absolute_error: 1.5338 - val_loss: 16.6449 - val_mean_absolute_error: 3.0362\n",
      "Epoch 100/100\n",
      "404/404 [==============================] - 0s 552us/step - loss: 3.6062 - mean_absolute_error: 1.3915 - val_loss: 12.7411 - val_mean_absolute_error: 2.3560\n"
     ]
    }
   ],
   "source": [
    "history = model.fit(x_train, y_train,\n",
    "                    epochs=100,\n",
    "                    batch_size=4,\n",
    "                    validation_data=(x_test, y_test)\n",
    "                   )"
   ]
  },
  {
   "cell_type": "code",
   "execution_count": null,
   "metadata": {
    "collapsed": true
   },
   "outputs": [],
   "source": []
  }
 ],
 "metadata": {
  "kernelspec": {
   "display_name": "Python 3",
   "language": "python",
   "name": "python3"
  },
  "language_info": {
   "codemirror_mode": {
    "name": "ipython",
    "version": 3
   },
   "file_extension": ".py",
   "mimetype": "text/x-python",
   "name": "python",
   "nbconvert_exporter": "python",
   "pygments_lexer": "ipython3",
   "version": "3.6.3"
  }
 },
 "nbformat": 4,
 "nbformat_minor": 2
}
