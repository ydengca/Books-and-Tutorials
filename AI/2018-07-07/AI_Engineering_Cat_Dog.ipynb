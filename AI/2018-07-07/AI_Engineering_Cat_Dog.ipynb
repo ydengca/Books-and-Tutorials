{
 "cells": [
  {
   "cell_type": "markdown",
   "metadata": {},
   "source": [
    "## Dataset can be download\n",
    "https://drive.google.com/file/d/1Pat34QLGrvJlne6L6LF8l5YRUqN6lw8F/view?usp=sharing"
   ]
  },
  {
   "cell_type": "code",
   "execution_count": 1,
   "metadata": {},
   "outputs": [],
   "source": [
    "import os\n",
    "\n",
    "base_dir = './data/cats_and_dogs_small'\n",
    "train_dir = os.path.join(base_dir, 'train')\n",
    "validation_dir = os.path.join(base_dir, 'validation')\n",
    "test_dir = os.path.join(base_dir, 'test')"
   ]
  },
  {
   "cell_type": "code",
   "execution_count": 2,
   "metadata": {},
   "outputs": [
    {
     "name": "stderr",
     "output_type": "stream",
     "text": [
      "/home/ubuntu/anaconda/envs/py36-venv/lib/python3.6/site-packages/h5py/__init__.py:36: FutureWarning: Conversion of the second argument of issubdtype from `float` to `np.floating` is deprecated. In future, it will be treated as `np.float64 == np.dtype(float).type`.\n",
      "  from ._conv import register_converters as _register_converters\n",
      "Using TensorFlow backend.\n"
     ]
    }
   ],
   "source": [
    "from keras.preprocessing.image import ImageDataGenerator\n",
    "\n",
    "train_datagen = ImageDataGenerator(rescale=1./255)\n",
    "val_datagen = ImageDataGenerator(rescale=1./255)"
   ]
  },
  {
   "cell_type": "code",
   "execution_count": 3,
   "metadata": {},
   "outputs": [
    {
     "name": "stdout",
     "output_type": "stream",
     "text": [
      "Found 2000 images belonging to 2 classes.\n",
      "Found 1000 images belonging to 2 classes.\n"
     ]
    }
   ],
   "source": [
    "train_generator = train_datagen.flow_from_directory(\n",
    "        # This is the target directory\n",
    "        train_dir,\n",
    "        # All images will be resized to 150x150\n",
    "        target_size=(150, 150),\n",
    "        batch_size=20,\n",
    "        # Since we use binary_crossentropy loss, we need binary labels\n",
    "        class_mode='binary')\n",
    "\n",
    "validation_generator = val_datagen.flow_from_directory(\n",
    "        validation_dir,\n",
    "        target_size=(150, 150),\n",
    "        batch_size=20,\n",
    "        class_mode='binary')"
   ]
  },
  {
   "cell_type": "code",
   "execution_count": 4,
   "metadata": {},
   "outputs": [],
   "source": [
    "from keras import layers\n",
    "from keras import models\n",
    "\n",
    "model = models.Sequential()\n",
    "\n",
    "model.add(layers.Conv2D(32, (3, 3), activation='relu',\n",
    "                        input_shape=(150, 150, 3)))\n",
    "model.add(layers.MaxPooling2D((2, 2)))\n",
    "\n",
    "model.add(layers.Conv2D(64, (3, 3), activation='relu'))\n",
    "model.add(layers.MaxPooling2D((2, 2)))\n",
    "\n",
    "model.add(layers.Conv2D(128, (3, 3), activation='relu'))\n",
    "model.add(layers.MaxPooling2D((2, 2)))\n",
    "\n",
    "model.add(layers.Conv2D(128, (3, 3), activation='relu'))\n",
    "model.add(layers.MaxPooling2D((2, 2)))\n",
    "\n",
    "model.add(layers.Flatten())\n",
    "model.add(layers.Dense(512, activation='relu'))\n",
    "model.add(layers.Dense(1, activation='sigmoid'))"
   ]
  },
  {
   "cell_type": "code",
   "execution_count": 5,
   "metadata": {},
   "outputs": [
    {
     "name": "stdout",
     "output_type": "stream",
     "text": [
      "_________________________________________________________________\n",
      "Layer (type)                 Output Shape              Param #   \n",
      "=================================================================\n",
      "conv2d_1 (Conv2D)            (None, 148, 148, 32)      896       \n",
      "_________________________________________________________________\n",
      "max_pooling2d_1 (MaxPooling2 (None, 74, 74, 32)        0         \n",
      "_________________________________________________________________\n",
      "conv2d_2 (Conv2D)            (None, 72, 72, 64)        18496     \n",
      "_________________________________________________________________\n",
      "max_pooling2d_2 (MaxPooling2 (None, 36, 36, 64)        0         \n",
      "_________________________________________________________________\n",
      "conv2d_3 (Conv2D)            (None, 34, 34, 128)       73856     \n",
      "_________________________________________________________________\n",
      "max_pooling2d_3 (MaxPooling2 (None, 17, 17, 128)       0         \n",
      "_________________________________________________________________\n",
      "conv2d_4 (Conv2D)            (None, 15, 15, 128)       147584    \n",
      "_________________________________________________________________\n",
      "max_pooling2d_4 (MaxPooling2 (None, 7, 7, 128)         0         \n",
      "_________________________________________________________________\n",
      "flatten_1 (Flatten)          (None, 6272)              0         \n",
      "_________________________________________________________________\n",
      "dense_1 (Dense)              (None, 512)               3211776   \n",
      "_________________________________________________________________\n",
      "dense_2 (Dense)              (None, 1)                 513       \n",
      "=================================================================\n",
      "Total params: 3,453,121\n",
      "Trainable params: 3,453,121\n",
      "Non-trainable params: 0\n",
      "_________________________________________________________________\n"
     ]
    }
   ],
   "source": [
    "model.summary()"
   ]
  },
  {
   "cell_type": "code",
   "execution_count": 17,
   "metadata": {},
   "outputs": [],
   "source": [
    "from keras.utils import plot_model\n",
    "\n",
    "plot_model(model, to_file=\"lenet.png\", show_shapes=True)"
   ]
  },
  {
   "cell_type": "code",
   "execution_count": 7,
   "metadata": {},
   "outputs": [],
   "source": [
    "from keras import  optimizers\n",
    "model.compile(loss='binary_crossentropy',\n",
    "              optimizer=optimizers.Adam(lr=1e-4),\n",
    "              metrics=['acc'])"
   ]
  },
  {
   "cell_type": "code",
   "execution_count": 8,
   "metadata": {},
   "outputs": [
    {
     "name": "stdout",
     "output_type": "stream",
     "text": [
      "Epoch 1/25\n",
      "100/100 [==============================] - 12s 123ms/step - loss: 0.6834 - acc: 0.5555 - val_loss: 0.6571 - val_acc: 0.6020\n",
      "Epoch 2/25\n",
      "100/100 [==============================] - 8s 81ms/step - loss: 0.6461 - acc: 0.6205 - val_loss: 0.6285 - val_acc: 0.6570\n",
      "Epoch 3/25\n",
      "100/100 [==============================] - 8s 80ms/step - loss: 0.5803 - acc: 0.7050 - val_loss: 0.6055 - val_acc: 0.6710\n",
      "Epoch 4/25\n",
      "100/100 [==============================] - 8s 80ms/step - loss: 0.5451 - acc: 0.7180 - val_loss: 0.5960 - val_acc: 0.6680\n",
      "Epoch 5/25\n",
      "100/100 [==============================] - 8s 80ms/step - loss: 0.5097 - acc: 0.7465 - val_loss: 0.5890 - val_acc: 0.6960\n",
      "Epoch 6/25\n",
      "100/100 [==============================] - 8s 80ms/step - loss: 0.4721 - acc: 0.7710 - val_loss: 0.5599 - val_acc: 0.7070\n",
      "Epoch 7/25\n",
      "100/100 [==============================] - 8s 83ms/step - loss: 0.4432 - acc: 0.7945 - val_loss: 0.5784 - val_acc: 0.6950\n",
      "Epoch 8/25\n",
      "100/100 [==============================] - 8s 80ms/step - loss: 0.3928 - acc: 0.8300 - val_loss: 0.5662 - val_acc: 0.7160\n",
      "Epoch 9/25\n",
      "100/100 [==============================] - 8s 81ms/step - loss: 0.3639 - acc: 0.8340 - val_loss: 0.5619 - val_acc: 0.7210\n",
      "Epoch 10/25\n",
      "100/100 [==============================] - 8s 80ms/step - loss: 0.3413 - acc: 0.8525 - val_loss: 0.6029 - val_acc: 0.6990\n",
      "Epoch 11/25\n",
      "100/100 [==============================] - 8s 80ms/step - loss: 0.3036 - acc: 0.8735 - val_loss: 0.6017 - val_acc: 0.7220\n",
      "Epoch 12/25\n",
      "100/100 [==============================] - 8s 84ms/step - loss: 0.2778 - acc: 0.8815 - val_loss: 0.6061 - val_acc: 0.7240\n",
      "Epoch 13/25\n",
      "100/100 [==============================] - 8s 80ms/step - loss: 0.2398 - acc: 0.9105 - val_loss: 0.6784 - val_acc: 0.7190\n",
      "Epoch 14/25\n",
      "100/100 [==============================] - 8s 80ms/step - loss: 0.2067 - acc: 0.9225 - val_loss: 0.7193 - val_acc: 0.7000\n",
      "Epoch 15/25\n",
      "100/100 [==============================] - 8s 80ms/step - loss: 0.2031 - acc: 0.9220 - val_loss: 0.6559 - val_acc: 0.7180\n",
      "Epoch 16/25\n",
      "100/100 [==============================] - 8s 80ms/step - loss: 0.1565 - acc: 0.9495 - val_loss: 0.6775 - val_acc: 0.7400\n",
      "Epoch 17/25\n",
      "100/100 [==============================] - 8s 80ms/step - loss: 0.1400 - acc: 0.9575 - val_loss: 0.7508 - val_acc: 0.7050\n",
      "Epoch 18/25\n",
      "100/100 [==============================] - 8s 80ms/step - loss: 0.1140 - acc: 0.9680 - val_loss: 0.7804 - val_acc: 0.7130\n",
      "Epoch 19/25\n",
      "100/100 [==============================] - 8s 81ms/step - loss: 0.1005 - acc: 0.9735 - val_loss: 0.8256 - val_acc: 0.7290\n",
      "Epoch 20/25\n",
      "100/100 [==============================] - 8s 81ms/step - loss: 0.0664 - acc: 0.9875 - val_loss: 0.8750 - val_acc: 0.7160\n",
      "Epoch 21/25\n",
      "100/100 [==============================] - 8s 80ms/step - loss: 0.0562 - acc: 0.9880 - val_loss: 0.8920 - val_acc: 0.7300\n",
      "Epoch 22/25\n",
      "100/100 [==============================] - 8s 80ms/step - loss: 0.0474 - acc: 0.9935 - val_loss: 0.9311 - val_acc: 0.7290\n",
      "Epoch 23/25\n",
      "100/100 [==============================] - 8s 80ms/step - loss: 0.0372 - acc: 0.9945 - val_loss: 1.0221 - val_acc: 0.7120\n",
      "Epoch 24/25\n",
      "100/100 [==============================] - 8s 80ms/step - loss: 0.0254 - acc: 0.9985 - val_loss: 1.0524 - val_acc: 0.7220\n",
      "Epoch 25/25\n",
      "100/100 [==============================] - 8s 80ms/step - loss: 0.0166 - acc: 0.9995 - val_loss: 1.0830 - val_acc: 0.7370\n"
     ]
    }
   ],
   "source": [
    "history = model.fit_generator(\n",
    "      train_generator,\n",
    "      steps_per_epoch=100,\n",
    "      epochs=25,\n",
    "      validation_data=validation_generator,\n",
    "      validation_steps=50)"
   ]
  },
  {
   "cell_type": "code",
   "execution_count": 11,
   "metadata": {},
   "outputs": [
    {
     "data": {
      "image/png": "[encoded data removed]",
      "text/plain": [
       "<Figure size 432x288 with 1 Axes>"
      ]
     },
     "metadata": {},
     "output_type": "display_data"
    }
   ],
   "source": [
    "import matplotlib.pyplot as plt\n",
    "\n",
    "acc = history.history['acc']\n",
    "val_acc = history.history['val_acc']\n",
    "\n",
    "epochs = range(1, len(acc) + 1)\n",
    "\n",
    "plt.figure()\n",
    "\n",
    "plt.plot(epochs, acc, 'bo', label='Training Accuracy')\n",
    "plt.plot(epochs, val_acc, 'b', label='Validation Accuracy')\n",
    "plt.title('Training and validation Accuracy')\n",
    "plt.legend()\n",
    "\n",
    "plt.show()"
   ]
  },
  {
   "cell_type": "code",
   "execution_count": 10,
   "metadata": {},
   "outputs": [
    {
     "data": {
      "image/png": "[encoded data removed]",
      "text/plain": [
       "<Figure size 432x288 with 1 Axes>"
      ]
     },
     "metadata": {},
     "output_type": "display_data"
    }
   ],
   "source": [
    "import matplotlib.pyplot as plt\n",
    "\n",
    "acc = history.history['loss']\n",
    "val_acc = history.history['val_loss']\n",
    "\n",
    "epochs = range(1, len(acc) + 1)\n",
    "\n",
    "plt.figure()\n",
    "\n",
    "plt.plot(epochs, acc, 'bo', label='Training Loss')\n",
    "plt.plot(epochs, val_acc, 'b', label='Validation Loss')\n",
    "plt.title('Training and validation Loss')\n",
    "plt.legend()\n",
    "\n",
    "plt.show()"
   ]
  },
  {
   "cell_type": "code",
   "execution_count": null,
   "metadata": {},
   "outputs": [],
   "source": []
  }
 ],
 "metadata": {
  "kernelspec": {
   "display_name": "Python 3",
   "language": "python",
   "name": "python3"
  },
  "language_info": {
   "codemirror_mode": {
    "name": "ipython",
    "version": 3
   },
   "file_extension": ".py",
   "mimetype": "text/x-python",
   "name": "python",
   "nbconvert_exporter": "python",
   "pygments_lexer": "ipython3",
   "version": "3.6.5"
  }
 },
 "nbformat": 4,
 "nbformat_minor": 2
}
