{
 "cells": [
  {
   "cell_type": "code",
   "execution_count": 1,
   "metadata": {
    "collapsed": true
   },
   "outputs": [],
   "source": [
    "from numpy import array\n",
    "import numpy as np"
   ]
  },
  {
   "cell_type": "markdown",
   "metadata": {},
   "source": [
    "## 1. Matrix Multiplication: Element-wise"
   ]
  },
  {
   "cell_type": "code",
   "execution_count": 2,
   "metadata": {},
   "outputs": [
    {
     "name": "stdout",
     "output_type": "stream",
     "text": [
      "A's shape: (2, 3)\n",
      "[[1 2 3]\n",
      " [4 5 6]]\n"
     ]
    }
   ],
   "source": [
    "A = array([\n",
    " [1, 2, 3],\n",
    " [4, 5, 6]\n",
    "])\n",
    "print(\"A's shape: {}\".format(A.shape,))\n",
    "print(A)"
   ]
  },
  {
   "cell_type": "code",
   "execution_count": 3,
   "metadata": {},
   "outputs": [
    {
     "name": "stdout",
     "output_type": "stream",
     "text": [
      "B's shape: (2, 3)\n",
      "[[ 2  4  6]\n",
      " [ 8 10 12]]\n"
     ]
    }
   ],
   "source": [
    "B =  array([\n",
    " [2, 4, 6],\n",
    " [8, 10, 12]\n",
    "])\n",
    "print(\"B's shape: {}\".format(B.shape,))\n",
    "print(B)"
   ]
  },
  {
   "cell_type": "code",
   "execution_count": 4,
   "metadata": {},
   "outputs": [
    {
     "name": "stdout",
     "output_type": "stream",
     "text": [
      "C's shape: (2, 3)\n",
      "[[ 2  8 18]\n",
      " [32 50 72]]\n"
     ]
    }
   ],
   "source": [
    "C = A * B\n",
    "print(\"C's shape: {}\".format(C.shape,))\n",
    "print(C)"
   ]
  },
  {
   "cell_type": "markdown",
   "metadata": {},
   "source": [
    "## 2. Matrix-Vector Multiplication: Broadcasting"
   ]
  },
  {
   "cell_type": "code",
   "execution_count": 5,
   "metadata": {},
   "outputs": [
    {
     "name": "stdout",
     "output_type": "stream",
     "text": [
      "A's shape: (3, 2)\n",
      "[[1 2]\n",
      " [3 4]\n",
      " [5 6]]\n"
     ]
    }
   ],
   "source": [
    "A = array([\n",
    "    [1, 2], \n",
    "    [3, 4], \n",
    "    [5, 6]\n",
    "])\n",
    "print(\"A's shape: {}\".format(A.shape,))\n",
    "print(A)"
   ]
  },
  {
   "cell_type": "code",
   "execution_count": 6,
   "metadata": {},
   "outputs": [
    {
     "name": "stdout",
     "output_type": "stream",
     "text": [
      "B's shape: (2,)\n",
      "[2 3]\n"
     ]
    }
   ],
   "source": [
    "B = array([2, 3])\n",
    "print(\"B's shape: {}\".format(B.shape,))\n",
    "print(B)"
   ]
  },
  {
   "cell_type": "code",
   "execution_count": 7,
   "metadata": {},
   "outputs": [
    {
     "name": "stdout",
     "output_type": "stream",
     "text": [
      "C's shape: (3, 2)\n",
      "[[3 5]\n",
      " [5 7]\n",
      " [7 9]]\n"
     ]
    }
   ],
   "source": [
    "C = A + B\n",
    "print(\"C's shape: {}\".format(C.shape,))\n",
    "print(C)"
   ]
  },
  {
   "cell_type": "markdown",
   "metadata": {},
   "source": [
    "## 3. Dot Product"
   ]
  },
  {
   "cell_type": "code",
   "execution_count": 8,
   "metadata": {},
   "outputs": [
    {
     "name": "stdout",
     "output_type": "stream",
     "text": [
      "A's shape: (3, 2)\n",
      "\n",
      "[[1 2]\n",
      " [3 4]\n",
      " [5 6]]\n"
     ]
    }
   ],
   "source": [
    "A = array([\n",
    "    [1, 2], \n",
    "    [3, 4], \n",
    "    [5, 6]\n",
    "])\n",
    "print(\"A's shape: {}\\n\".format(A.shape,))\n",
    "print(A)\n"
   ]
  },
  {
   "cell_type": "code",
   "execution_count": 9,
   "metadata": {},
   "outputs": [
    {
     "name": "stdout",
     "output_type": "stream",
     "text": [
      "B's shape: (2, 2)\n",
      "\n",
      "[[1 2]\n",
      " [3 4]]\n"
     ]
    }
   ],
   "source": [
    "B = array([\n",
    "    [1, 2], \n",
    "    [3, 4]\n",
    "])\n",
    "print(\"B's shape: {}\\n\".format(B.shape,))\n",
    "print(B)"
   ]
  },
  {
   "cell_type": "code",
   "execution_count": 10,
   "metadata": {},
   "outputs": [
    {
     "name": "stdout",
     "output_type": "stream",
     "text": [
      "C's shape: (3, 2)\n",
      "\n",
      "[[ 7 10]\n",
      " [15 22]\n",
      " [23 34]]\n"
     ]
    }
   ],
   "source": [
    "C = A.dot(B)\n",
    "print(\"C's shape: {}\\n\".format(C.shape,))\n",
    "print(C)"
   ]
  },
  {
   "cell_type": "markdown",
   "metadata": {},
   "source": [
    "## 4. Python Loops vs. Numpy Matrix Operations"
   ]
  },
  {
   "cell_type": "code",
   "execution_count": 11,
   "metadata": {},
   "outputs": [
    {
     "name": "stdout",
     "output_type": "stream",
     "text": [
      "Matrix X:\n",
      " [[1 6 0 1 5 8 7 9 8 8]\n",
      " [6 8 5 1 7 8 6 0 1 0]\n",
      " [2 5 7 7 7 7 5 7 5 7]\n",
      " [7 1 3 3 9 4 2 2 3 8]\n",
      " [7 1 6 9 8 9 8 5 4 8]\n",
      " [7 7 9 7 3 1 4 2 2 0]\n",
      " [3 0 2 5 7 8 4 1 2 1]\n",
      " [5 6 4 8 5 7 3 9 2 0]\n",
      " [7 9 7 3 4 3 1 9 9 3]\n",
      " [8 3 6 5 3 4 2 4 9 4]]\n",
      "Matrix Y:\n",
      " [[7 1 6 2 0 9 6 6 0 2]\n",
      " [3 4 6 3 2 9 7 3 5 0]\n",
      " [5 6 1 3 2 2 9 7 7 0]\n",
      " [0 2 6 9 6 3 7 9 4 9]\n",
      " [9 9 2 7 5 6 1 7 7 1]\n",
      " [1 9 9 4 9 6 0 1 2 4]\n",
      " [1 6 5 7 7 8 2 0 0 5]\n",
      " [9 4 4 2 8 4 2 0 3 8]\n",
      " [1 6 9 9 5 5 4 0 5 0]\n",
      " [2 3 9 6 2 7 3 1 7 0]]\n"
     ]
    }
   ],
   "source": [
    "from numpy import random\n",
    "import timeit\n",
    "\n",
    "X = random.randint(10, size=(10, 10))\n",
    "Y = random.randint(10, size=(10, 10))\n",
    "\n",
    "print(\"Matrix X:\\n {}\".format(X))\n",
    "print(\"Matrix Y:\\n {}\".format(Y))"
   ]
  },
  {
   "cell_type": "code",
   "execution_count": 12,
   "metadata": {
    "collapsed": true
   },
   "outputs": [],
   "source": [
    "def add_python(X, Y):\n",
    "    return [[X[i][j] + Y[i][j]  for j in range(len(X[0]))] for i in range(len(X))]\n",
    "\n",
    "def add_numpy(X, Y):\n",
    "    return np.add(X, Y)"
   ]
  },
  {
   "cell_type": "code",
   "execution_count": null,
   "metadata": {},
   "outputs": [
    {
     "data": {
      "text/plain": [
       "0.6987719569879118"
      ]
     },
     "execution_count": 13,
     "metadata": {},
     "output_type": "execute_result"
    }
   ],
   "source": [
    "timeit.timeit('add_numpy(X, Y)', globals=globals())"
   ]
  },
  {
   "cell_type": "code",
   "execution_count": null,
   "metadata": {},
   "outputs": [],
   "source": [
    "timeit.timeit('add_python(X, Y)', globals=globals())"
   ]
  },
  {
   "cell_type": "markdown",
   "metadata": {},
   "source": [
    "## 5. Normalization"
   ]
  },
  {
   "cell_type": "code",
   "execution_count": null,
   "metadata": {},
   "outputs": [],
   "source": [
    "from numpy import array\n",
    "import numpy as np\n",
    "\n",
    "a = array([0.1, 5, 12, 100])\n",
    "print(\"Mean: {}\".format(a.mean(axis=0)))\n",
    "a -= a.mean(axis=0)\n",
    "print(\"After deduct mean: {}\".format(a))\n"
   ]
  },
  {
   "cell_type": "code",
   "execution_count": null,
   "metadata": {},
   "outputs": [],
   "source": [
    "print(\"Standard Deviation: {}\".format(a.std(axis=0)))\n",
    "a /= a.std(axis=0)\n",
    "print(\"After normalization: {}\".format(a))"
   ]
  },
  {
   "cell_type": "code",
   "execution_count": null,
   "metadata": {},
   "outputs": [],
   "source": [
    "print(\"Standard Deviation of the normalized array: {}\".format(a.std(axis=0)))"
   ]
  },
  {
   "cell_type": "markdown",
   "metadata": {},
   "source": [
    "## 6. Chain Rules"
   ]
  },
  {
   "cell_type": "code",
   "execution_count": null,
   "metadata": {},
   "outputs": [],
   "source": [
    "# sympy does symbolic differentiation\n",
    "import sympy as sp\n",
    "from sympy import *\n",
    "\n",
    "x = sp.symbols('x')\n",
    "y = sp.symbols('y')\n",
    "\n",
    "f = 2*x\n",
    "g = pow(f, 2)# g = f(x)**2\n",
    "\n",
    "# Calculate the derivative to x\n",
    "g_x_d = g.diff()\n",
    "\n",
    "g_x_d"
   ]
  },
  {
   "cell_type": "markdown",
   "metadata": {},
   "source": [
    "## 7. Gradient for a two variables function"
   ]
  },
  {
   "cell_type": "code",
   "execution_count": null,
   "metadata": {},
   "outputs": [],
   "source": [
    "m=sp.Matrix([[x],[y]])\n",
    "f = x**2-x*y\n",
    "\n",
    "f_x_y_d = [sp.diff(f, i) for i in m]\n",
    "f_x_y_d"
   ]
  },
  {
   "cell_type": "markdown",
   "metadata": {},
   "source": [
    "## 8. Softmax Function"
   ]
  },
  {
   "cell_type": "code",
   "execution_count": null,
   "metadata": {
    "collapsed": true
   },
   "outputs": [],
   "source": [
    "def softmax(y):\n",
    "    \"\"\"Compute softmax values for each sets of scores in y.\"\"\"\n",
    "    return np.exp(y) / np.sum(np.exp(y), axis=0)"
   ]
  },
  {
   "cell_type": "code",
   "execution_count": null,
   "metadata": {},
   "outputs": [],
   "source": [
    "# Let's say we want to classify: dog, pig, chickren, duck\n",
    "scores = [11,12,13,14]\n",
    "print(softmax(scores))"
   ]
  },
  {
   "cell_type": "markdown",
   "metadata": {},
   "source": [
    "## 9. Activation Functions"
   ]
  },
  {
   "cell_type": "markdown",
   "metadata": {},
   "source": [
    "### 1. Sigmod "
   ]
  },
  {
   "cell_type": "code",
   "execution_count": null,
   "metadata": {
    "collapsed": true
   },
   "outputs": [],
   "source": [
    "#sigmoid activation function\n",
    "def sigmoid(x, derivative=False):\n",
    "    if(derivative==True):\n",
    "        return x*(1-x)\n",
    "    return 1/(1+np.exp(-x))"
   ]
  },
  {
   "cell_type": "markdown",
   "metadata": {},
   "source": [
    "![Sigmoid](images/sigmoid.gif)"
   ]
  },
  {
   "cell_type": "code",
   "execution_count": null,
   "metadata": {},
   "outputs": [],
   "source": [
    "sigmoid(1)"
   ]
  },
  {
   "cell_type": "code",
   "execution_count": null,
   "metadata": {
    "collapsed": true
   },
   "outputs": [],
   "source": []
  }
 ],
 "metadata": {
  "kernelspec": {
   "display_name": "Python 3",
   "language": "python",
   "name": "python3"
  },
  "language_info": {
   "codemirror_mode": {
    "name": "ipython",
    "version": 3
   },
   "file_extension": ".py",
   "mimetype": "text/x-python",
   "name": "python",
   "nbconvert_exporter": "python",
   "pygments_lexer": "ipython3",
   "version": "3.6.3"
  }
 },
 "nbformat": 4,
 "nbformat_minor": 2
}
