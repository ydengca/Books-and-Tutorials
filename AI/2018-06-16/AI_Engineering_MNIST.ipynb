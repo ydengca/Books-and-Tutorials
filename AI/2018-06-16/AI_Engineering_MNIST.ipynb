{
 "cells": [
  {
   "cell_type": "code",
   "execution_count": 1,
   "metadata": {},
   "outputs": [
    {
     "name": "stderr",
     "output_type": "stream",
     "text": [
      "Using TensorFlow backend.\n",
      "/Users/alvinjin/anaconda3/lib/python3.6/importlib/_bootstrap.py:219: RuntimeWarning: compiletime version 3.5 of module 'tensorflow.python.framework.fast_tensor_util' does not match runtime version 3.6\n",
      "  return f(*args, **kwds)\n"
     ]
    }
   ],
   "source": [
    "import keras"
   ]
  },
  {
   "cell_type": "markdown",
   "metadata": {},
   "source": [
    "# Load MNIST data from Keras\n",
    "Images are ecoded as Numpy arrays"
   ]
  },
  {
   "cell_type": "code",
   "execution_count": 2,
   "metadata": {
    "collapsed": true
   },
   "outputs": [],
   "source": [
    "from keras.datasets import mnist\n",
    "\n",
    "(train_images, train_labels), (test_images, test_labels) = mnist.load_data()"
   ]
  },
  {
   "cell_type": "code",
   "execution_count": 3,
   "metadata": {},
   "outputs": [
    {
     "name": "stdout",
     "output_type": "stream",
     "text": [
      "Training Dataset Shape: (60000, 28, 28)\n"
     ]
    },
    {
     "data": {
      "text/plain": [
       "5"
      ]
     },
     "execution_count": 3,
     "metadata": {},
     "output_type": "execute_result"
    }
   ],
   "source": [
    "print(\"Training Dataset Shape: {}\".format(train_images.shape))\n",
    "train_images[0]\n",
    "train_labels[0]"
   ]
  },
  {
   "cell_type": "markdown",
   "metadata": {},
   "source": [
    "## First 4 samples in Test dataset"
   ]
  },
  {
   "cell_type": "code",
   "execution_count": 4,
   "metadata": {},
   "outputs": [
    {
     "data": {
      "image/png": "[encoded data removed]",
      "text/plain": [
       "<matplotlib.figure.Figure at 0x1188839e8>"
      ]
     },
     "metadata": {},
     "output_type": "display_data"
    }
   ],
   "source": [
    "import matplotlib.pyplot as plt\n",
    "# plot 4 images as gray scale\n",
    "plt.subplot(221)\n",
    "plt.imshow(test_images[0], cmap='gray')\n",
    "plt.subplot(222)\n",
    "plt.imshow(test_images[1], cmap='gray')\n",
    "plt.subplot(223)\n",
    "plt.imshow(test_images[2], cmap='gray')\n",
    "plt.subplot(224)\n",
    "plt.imshow(test_images[3], cmap='gray')\n",
    "# show the plot\n",
    "plt.show()"
   ]
  },
  {
   "cell_type": "markdown",
   "metadata": {},
   "source": [
    "# Data Preprocessing"
   ]
  },
  {
   "cell_type": "markdown",
   "metadata": {},
   "source": [
    "## 1. Normalize/Scale data\n",
    "For a multi-layer feedforward model we must reduce the images down into a vector of pixels. \n",
    "Reshape data by flattening 28x28 images to a 784 vector for each image.\n",
    "\n",
    "The pixel values are gray scale between 0 and 255. Normalize it 0-1 range by dividing 255."
   ]
  },
  {
   "cell_type": "code",
   "execution_count": 5,
   "metadata": {
    "collapsed": true
   },
   "outputs": [],
   "source": [
    "train_images = train_images.reshape((train_images.shape[0], 28 * 28))\n",
    "train_images = train_images.astype('float32')/255\n",
    "\n",
    "val_images = train_images[:5000]\n",
    "train_images = train_images[5000:]\n",
    "\n",
    "test_images = test_images.reshape((test_images.shape[0], 28*28))\n",
    "test_images = test_images.astype('float32')/255"
   ]
  },
  {
   "cell_type": "markdown",
   "metadata": {},
   "source": [
    "## 2. One-hot-encoding on Labels\n",
    "It is good practice to use a one-hot-encoding of the class values, transforming the vector of class integers into a binary matrix."
   ]
  },
  {
   "cell_type": "code",
   "execution_count": 6,
   "metadata": {},
   "outputs": [
    {
     "name": "stdout",
     "output_type": "stream",
     "text": [
      "Firt 10 Training Labels: [7 2 1 0 4 1 4 9 5 9]\n",
      "After encoding: [[ 0.  0.  0.  0.  0.  0.  0.  1.  0.  0.]\n",
      " [ 0.  0.  1.  0.  0.  0.  0.  0.  0.  0.]\n",
      " [ 0.  1.  0.  0.  0.  0.  0.  0.  0.  0.]\n",
      " [ 1.  0.  0.  0.  0.  0.  0.  0.  0.  0.]\n",
      " [ 0.  0.  0.  0.  1.  0.  0.  0.  0.  0.]\n",
      " [ 0.  1.  0.  0.  0.  0.  0.  0.  0.  0.]\n",
      " [ 0.  0.  0.  0.  1.  0.  0.  0.  0.  0.]\n",
      " [ 0.  0.  0.  0.  0.  0.  0.  0.  0.  1.]\n",
      " [ 0.  0.  0.  0.  0.  1.  0.  0.  0.  0.]\n",
      " [ 0.  0.  0.  0.  0.  0.  0.  0.  0.  1.]]\n"
     ]
    }
   ],
   "source": [
    "from keras.utils import to_categorical\n",
    "\n",
    "print(\"Firt 10 Training Labels: {}\".format(test_labels[:10]))\n",
    "\n",
    "train_labels = to_categorical(train_labels)\n",
    "\n",
    "# Split Validataion set from training set\n",
    "val_labels = train_labels[:5000]\n",
    "train_labels = train_labels[5000:]\n",
    "\n",
    "test_labels = to_categorical(test_labels)\n",
    "\n",
    "print(\"After encoding: {}\".format(test_labels[:10]))"
   ]
  },
  {
   "cell_type": "markdown",
   "metadata": {},
   "source": [
    "## Build a Feed-forward Neural Network"
   ]
  },
  {
   "cell_type": "code",
   "execution_count": 7,
   "metadata": {
    "collapsed": true
   },
   "outputs": [],
   "source": [
    "from keras import models\n",
    "from keras import layers\n",
    "\n",
    "nn = models.Sequential()"
   ]
  },
  {
   "cell_type": "markdown",
   "metadata": {},
   "source": [
    "The input layer consists 784 neurons"
   ]
  },
  {
   "cell_type": "code",
   "execution_count": 8,
   "metadata": {
    "collapsed": true
   },
   "outputs": [],
   "source": [
    "nn.add(layers.Dense(units=784, activation='sigmoid', input_shape=(28*28,)))"
   ]
  },
  {
   "cell_type": "code",
   "execution_count": 9,
   "metadata": {},
   "outputs": [
    {
     "name": "stdout",
     "output_type": "stream",
     "text": [
      "(None, 784)\n"
     ]
    }
   ],
   "source": [
    "print(nn.output_shape)"
   ]
  },
  {
   "cell_type": "markdown",
   "metadata": {},
   "source": [
    "The output layer consists of 10 neurons since we want to classify digits into 10 classes (0 to 9)"
   ]
  },
  {
   "cell_type": "code",
   "execution_count": 10,
   "metadata": {
    "collapsed": true
   },
   "outputs": [],
   "source": [
    "nn.add(layers.Dense(units=10, activation='softmax'))"
   ]
  },
  {
   "cell_type": "code",
   "execution_count": 11,
   "metadata": {},
   "outputs": [
    {
     "name": "stdout",
     "output_type": "stream",
     "text": [
      "(None, 10)\n"
     ]
    }
   ],
   "source": [
    "print(nn.output_shape)"
   ]
  },
  {
   "cell_type": "code",
   "execution_count": 12,
   "metadata": {
    "collapsed": true
   },
   "outputs": [],
   "source": [
    "from keras import optimizers\n",
    "\n",
    "nn.compile(optimizer=optimizers.Adam(lr=0.001),\n",
    "           loss='categorical_crossentropy',\n",
    "           metrics=['accuracy']\n",
    "          )"
   ]
  },
  {
   "cell_type": "markdown",
   "metadata": {},
   "source": [
    "## Start training"
   ]
  },
  {
   "cell_type": "code",
   "execution_count": 13,
   "metadata": {},
   "outputs": [
    {
     "name": "stdout",
     "output_type": "stream",
     "text": [
      "Train on 55000 samples, validate on 5000 samples\n",
      "Epoch 1/10\n",
      " - 10s - loss: 0.4428 - acc: 0.8806 - val_loss: 0.2761 - val_acc: 0.9182\n",
      "Epoch 2/10\n",
      " - 9s - loss: 0.2569 - acc: 0.9265 - val_loss: 0.2128 - val_acc: 0.9408\n",
      "Epoch 3/10\n",
      " - 10s - loss: 0.2040 - acc: 0.9400 - val_loss: 0.1727 - val_acc: 0.9518\n",
      "Epoch 4/10\n",
      " - 10s - loss: 0.1642 - acc: 0.9525 - val_loss: 0.1457 - val_acc: 0.9582\n",
      "Epoch 5/10\n",
      " - 10s - loss: 0.1342 - acc: 0.9610 - val_loss: 0.1237 - val_acc: 0.9648\n",
      "Epoch 6/10\n",
      " - 9s - loss: 0.1097 - acc: 0.9685 - val_loss: 0.1145 - val_acc: 0.9680\n",
      "Epoch 7/10\n",
      " - 10s - loss: 0.0906 - acc: 0.9739 - val_loss: 0.1015 - val_acc: 0.9706\n",
      "Epoch 8/10\n",
      " - 9s - loss: 0.0766 - acc: 0.9772 - val_loss: 0.0937 - val_acc: 0.9726\n",
      "Epoch 9/10\n",
      " - 9s - loss: 0.0648 - acc: 0.9812 - val_loss: 0.0824 - val_acc: 0.9734\n",
      "Epoch 10/10\n",
      " - 9s - loss: 0.0541 - acc: 0.9844 - val_loss: 0.0795 - val_acc: 0.9752\n"
     ]
    }
   ],
   "source": [
    "history = nn.fit(train_images, train_labels,\n",
    "      epochs=10,\n",
    "      batch_size=128,\n",
    "      validation_data=(val_images, val_labels),\n",
    "      verbose=2\n",
    "      )"
   ]
  },
  {
   "cell_type": "code",
   "execution_count": 14,
   "metadata": {},
   "outputs": [
    {
     "name": "stdout",
     "output_type": "stream",
     "text": [
      "_________________________________________________________________\n",
      "Layer (type)                 Output Shape              Param #   \n",
      "=================================================================\n",
      "dense_1 (Dense)              (None, 784)               615440    \n",
      "_________________________________________________________________\n",
      "dense_2 (Dense)              (None, 10)                7850      \n",
      "=================================================================\n",
      "Total params: 623,290\n",
      "Trainable params: 623,290\n",
      "Non-trainable params: 0\n",
      "_________________________________________________________________\n"
     ]
    }
   ],
   "source": [
    "nn.summary()"
   ]
  },
  {
   "cell_type": "markdown",
   "metadata": {},
   "source": [
    "## Evaluation and Test"
   ]
  },
  {
   "cell_type": "code",
   "execution_count": 17,
   "metadata": {},
   "outputs": [
    {
     "name": "stdout",
     "output_type": "stream",
     "text": [
      "10000/10000 [==============================] - 2s 164us/step\n"
     ]
    },
    {
     "data": {
      "text/plain": [
       "[0.081302840868569912, 0.97519999999999996]"
      ]
     },
     "execution_count": 17,
     "metadata": {},
     "output_type": "execute_result"
    }
   ],
   "source": [
    "nn.evaluate(test_images, test_labels)"
   ]
  },
  {
   "cell_type": "code",
   "execution_count": 18,
   "metadata": {},
   "outputs": [
    {
     "name": "stdout",
     "output_type": "stream",
     "text": [
      "Predicted Classes: [7 2 1 0]\n",
      "Predicted Probabilities:\n",
      " [[  1.11434497e-06   9.33532007e-09   1.34320144e-05   3.10329488e-04\n",
      "    1.46044776e-08   4.46380363e-06   8.91787963e-11   9.99621630e-01\n",
      "    2.27702076e-05   2.61553632e-05]\n",
      " [  3.64010225e-06   9.23414191e-04   9.98629332e-01   2.96562619e-04\n",
      "    1.44427512e-10   1.00012359e-04   2.42189471e-05   2.67816064e-11\n",
      "    2.28822209e-05   2.01905478e-10]\n",
      " [  5.72864110e-07   9.94812608e-01   2.47634191e-04   1.49351719e-04\n",
      "    4.25747749e-05   1.08485256e-04   7.76028246e-05   2.54830043e-03\n",
      "    1.93681801e-03   7.60285111e-05]\n",
      " [  9.99456704e-01   1.74804393e-06   5.39883113e-05   1.83309749e-05\n",
      "    9.57466818e-06   8.33767408e-05   2.15334439e-04   7.30045358e-05\n",
      "    3.78326126e-06   8.42789013e-05]]\n"
     ]
    }
   ],
   "source": [
    "preds = nn.predict_classes(test_images[:4])\n",
    "probs = nn.predict_proba(test_images[:4])\n",
    "\n",
    "print(\"Predicted Classes: {}\".format(preds))\n",
    "print(\"Predicted Probabilities:\\n {}\".format(probs))"
   ]
  },
  {
   "cell_type": "code",
   "execution_count": null,
   "metadata": {
    "collapsed": true
   },
   "outputs": [],
   "source": []
  }
 ],
 "metadata": {
  "kernelspec": {
   "display_name": "Python 3",
   "language": "python",
   "name": "python3"
  },
  "language_info": {
   "codemirror_mode": {
    "name": "ipython",
    "version": 3
   },
   "file_extension": ".py",
   "mimetype": "text/x-python",
   "name": "python",
   "nbconvert_exporter": "python",
   "pygments_lexer": "ipython3",
   "version": "3.6.3"
  }
 },
 "nbformat": 4,
 "nbformat_minor": 2
}
