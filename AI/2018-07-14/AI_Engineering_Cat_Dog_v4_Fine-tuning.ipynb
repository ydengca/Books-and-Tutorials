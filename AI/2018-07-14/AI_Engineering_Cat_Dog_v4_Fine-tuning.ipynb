{
 "cells": [
  {
   "cell_type": "code",
   "execution_count": 1,
   "metadata": {},
   "outputs": [],
   "source": [
    "import os\n",
    "import matplotlib.pyplot as plt"
   ]
  },
  {
   "cell_type": "code",
   "execution_count": 2,
   "metadata": {},
   "outputs": [],
   "source": [
    "base_dir = './data/cats_and_dogs_small'\n",
    "train_dir = os.path.join(base_dir, 'train')\n",
    "validation_dir = os.path.join(base_dir, 'validation')\n",
    "test_dir = os.path.join(base_dir, 'test')"
   ]
  },
  {
   "cell_type": "markdown",
   "metadata": {},
   "source": [
    "## VGG16 is 550MB large in HDF5 format, 16 trainable layers"
   ]
  },
  {
   "cell_type": "code",
   "execution_count": 3,
   "metadata": {},
   "outputs": [
    {
     "name": "stderr",
     "output_type": "stream",
     "text": [
      "/home/ubuntu/anaconda/envs/py36-venv/lib/python3.6/site-packages/h5py/__init__.py:36: FutureWarning: Conversion of the second argument of issubdtype from `float` to `np.floating` is deprecated. In future, it will be treated as `np.float64 == np.dtype(float).type`.\n",
      "  from ._conv import register_converters as _register_converters\n",
      "Using TensorFlow backend.\n"
     ]
    },
    {
     "name": "stdout",
     "output_type": "stream",
     "text": [
      "_________________________________________________________________\n",
      "Layer (type)                 Output Shape              Param #   \n",
      "=================================================================\n",
      "input_1 (InputLayer)         (None, 150, 150, 3)       0         \n",
      "_________________________________________________________________\n",
      "block1_conv1 (Conv2D)        (None, 150, 150, 64)      1792      \n",
      "_________________________________________________________________\n",
      "block1_conv2 (Conv2D)        (None, 150, 150, 64)      36928     \n",
      "_________________________________________________________________\n",
      "block1_pool (MaxPooling2D)   (None, 75, 75, 64)        0         \n",
      "_________________________________________________________________\n",
      "block2_conv1 (Conv2D)        (None, 75, 75, 128)       73856     \n",
      "_________________________________________________________________\n",
      "block2_conv2 (Conv2D)        (None, 75, 75, 128)       147584    \n",
      "_________________________________________________________________\n",
      "block2_pool (MaxPooling2D)   (None, 37, 37, 128)       0         \n",
      "_________________________________________________________________\n",
      "block3_conv1 (Conv2D)        (None, 37, 37, 256)       295168    \n",
      "_________________________________________________________________\n",
      "block3_conv2 (Conv2D)        (None, 37, 37, 256)       590080    \n",
      "_________________________________________________________________\n",
      "block3_conv3 (Conv2D)        (None, 37, 37, 256)       590080    \n",
      "_________________________________________________________________\n",
      "block3_pool (MaxPooling2D)   (None, 18, 18, 256)       0         \n",
      "_________________________________________________________________\n",
      "block4_conv1 (Conv2D)        (None, 18, 18, 512)       1180160   \n",
      "_________________________________________________________________\n",
      "block4_conv2 (Conv2D)        (None, 18, 18, 512)       2359808   \n",
      "_________________________________________________________________\n",
      "block4_conv3 (Conv2D)        (None, 18, 18, 512)       2359808   \n",
      "_________________________________________________________________\n",
      "block4_pool (MaxPooling2D)   (None, 9, 9, 512)         0         \n",
      "_________________________________________________________________\n",
      "block5_conv1 (Conv2D)        (None, 9, 9, 512)         2359808   \n",
      "_________________________________________________________________\n",
      "block5_conv2 (Conv2D)        (None, 9, 9, 512)         2359808   \n",
      "_________________________________________________________________\n",
      "block5_conv3 (Conv2D)        (None, 9, 9, 512)         2359808   \n",
      "_________________________________________________________________\n",
      "block5_pool (MaxPooling2D)   (None, 4, 4, 512)         0         \n",
      "=================================================================\n",
      "Total params: 14,714,688\n",
      "Trainable params: 14,714,688\n",
      "Non-trainable params: 0\n",
      "_________________________________________________________________\n"
     ]
    }
   ],
   "source": [
    "from keras.applications import VGG16\n",
    "\n",
    "vgg_model = VGG16(weights=\"imagenet\", include_top=False, input_shape=(150,150,3))\n",
    "\n",
    "vgg_model.summary()"
   ]
  },
  {
   "cell_type": "code",
   "execution_count": 4,
   "metadata": {},
   "outputs": [
    {
     "name": "stdout",
     "output_type": "stream",
     "text": [
      "_________________________________________________________________\n",
      "Layer (type)                 Output Shape              Param #   \n",
      "=================================================================\n",
      "vgg16 (Model)                (None, 4, 4, 512)         14714688  \n",
      "_________________________________________________________________\n",
      "flatten_1 (Flatten)          (None, 8192)              0         \n",
      "_________________________________________________________________\n",
      "dense_1 (Dense)              (None, 256)               2097408   \n",
      "_________________________________________________________________\n",
      "dropout_1 (Dropout)          (None, 256)               0         \n",
      "_________________________________________________________________\n",
      "dense_2 (Dense)              (None, 1)                 257       \n",
      "=================================================================\n",
      "Total params: 16,812,353\n",
      "Trainable params: 16,812,353\n",
      "Non-trainable params: 0\n",
      "_________________________________________________________________\n"
     ]
    }
   ],
   "source": [
    "from keras import models\n",
    "from keras import layers\n",
    "\n",
    "model = models.Sequential()\n",
    "\n",
    "model.add(vgg_model)\n",
    "\n",
    "model.add(layers.Flatten())\n",
    "model.add(layers.Dense(256, activation='relu'))\n",
    "model.add(layers.Dropout(0.5))\n",
    "\n",
    "model.add(layers.Dense(1, activation='sigmoid'))\n",
    "\n",
    "model.summary()"
   ]
  },
  {
   "cell_type": "code",
   "execution_count": 5,
   "metadata": {},
   "outputs": [
    {
     "name": "stdout",
     "output_type": "stream",
     "text": [
      "Number of trainable weights before freezing the conv base: 30\n",
      "Number of trainable weights after freezing the conv base: 4\n"
     ]
    }
   ],
   "source": [
    "print('Number of trainable weights before freezing the conv base:', len(model.trainable_weights))\n",
    "\n",
    "vgg_model.trainable = False\n",
    "\n",
    "print('Number of trainable weights after freezing the conv base:', len(model.trainable_weights))"
   ]
  },
  {
   "cell_type": "code",
   "execution_count": 6,
   "metadata": {},
   "outputs": [],
   "source": [
    "from keras import optimizers\n",
    "\n",
    "model.compile(loss='binary_crossentropy',\n",
    "              optimizer=optimizers.Adam(lr=2e-5),\n",
    "              metrics=['acc']\n",
    "             )"
   ]
  },
  {
   "cell_type": "markdown",
   "metadata": {},
   "source": [
    "## Data augmentation applied only on training dataset.\n",
    "\n",
    "the images presented to the input layer should be square. Using square inputs allows us to take\n",
    "advantage of linear algebra optimization libraries."
   ]
  },
  {
   "cell_type": "code",
   "execution_count": 7,
   "metadata": {},
   "outputs": [],
   "source": [
    "from keras.preprocessing.image import ImageDataGenerator\n",
    "\n",
    "train_datagen = ImageDataGenerator(\n",
    "      rescale=1./255,\n",
    "      rotation_range=40,\n",
    "      width_shift_range=0.2,\n",
    "      height_shift_range=0.2,\n",
    "      shear_range=0.2,\n",
    "      zoom_range=0.2,\n",
    "      horizontal_flip=True,\n",
    "      fill_mode='nearest')\n",
    "\n"
   ]
  },
  {
   "cell_type": "code",
   "execution_count": 8,
   "metadata": {},
   "outputs": [
    {
     "name": "stdout",
     "output_type": "stream",
     "text": [
      "Found 2000 images belonging to 2 classes.\n",
      "Found 1000 images belonging to 2 classes.\n"
     ]
    }
   ],
   "source": [
    "train_generator = train_datagen.flow_from_directory(\n",
    "        # This is the target directory\n",
    "        train_dir,\n",
    "        # All images will be resized to 150x150\n",
    "        target_size=(150, 150),\n",
    "        batch_size=32,\n",
    "        # Since we use binary_crossentropy loss, we need binary labels\n",
    "        class_mode='binary')\n",
    "\n",
    "validation_generator = ImageDataGenerator(rescale=1./255).flow_from_directory(\n",
    "        validation_dir,\n",
    "        target_size=(150, 150),\n",
    "        batch_size=32,\n",
    "        class_mode='binary')"
   ]
  },
  {
   "cell_type": "code",
   "execution_count": 9,
   "metadata": {
    "scrolled": true
   },
   "outputs": [
    {
     "name": "stdout",
     "output_type": "stream",
     "text": [
      "Epoch 1/30\n",
      "100/100 [==============================] - 33s 330ms/step - loss: 0.6473 - acc: 0.6225 - val_loss: 0.4745 - val_acc: 0.8103\n",
      "Epoch 2/30\n",
      "100/100 [==============================] - 31s 306ms/step - loss: 0.5153 - acc: 0.7463 - val_loss: 0.3915 - val_acc: 0.8490\n",
      "Epoch 3/30\n",
      "100/100 [==============================] - 30s 298ms/step - loss: 0.4701 - acc: 0.7769 - val_loss: 0.3572 - val_acc: 0.8553\n",
      "Epoch 4/30\n",
      "100/100 [==============================] - 31s 312ms/step - loss: 0.4437 - acc: 0.7891 - val_loss: 0.3295 - val_acc: 0.8680\n",
      "Epoch 5/30\n",
      "100/100 [==============================] - 30s 297ms/step - loss: 0.4262 - acc: 0.7963 - val_loss: 0.3175 - val_acc: 0.8769\n",
      "Epoch 6/30\n",
      "100/100 [==============================] - 32s 318ms/step - loss: 0.4104 - acc: 0.8103 - val_loss: 0.2988 - val_acc: 0.8858\n",
      "Epoch 7/30\n",
      "100/100 [==============================] - 30s 302ms/step - loss: 0.3942 - acc: 0.8247 - val_loss: 0.2881 - val_acc: 0.8871\n",
      "Epoch 8/30\n",
      "100/100 [==============================] - 30s 296ms/step - loss: 0.3774 - acc: 0.8319 - val_loss: 0.2854 - val_acc: 0.8921\n",
      "Epoch 9/30\n",
      "100/100 [==============================] - 31s 308ms/step - loss: 0.3892 - acc: 0.8194 - val_loss: 0.2731 - val_acc: 0.8959\n",
      "Epoch 10/30\n",
      "100/100 [==============================] - 30s 298ms/step - loss: 0.3686 - acc: 0.8316 - val_loss: 0.2713 - val_acc: 0.8921\n",
      "Epoch 11/30\n",
      "100/100 [==============================] - 32s 316ms/step - loss: 0.3611 - acc: 0.8453 - val_loss: 0.2843 - val_acc: 0.8820\n",
      "Epoch 12/30\n",
      "100/100 [==============================] - 30s 301ms/step - loss: 0.3591 - acc: 0.8391 - val_loss: 0.2727 - val_acc: 0.8890\n",
      "Epoch 13/30\n",
      "100/100 [==============================] - 30s 297ms/step - loss: 0.3424 - acc: 0.8491 - val_loss: 0.2655 - val_acc: 0.8915\n",
      "Epoch 14/30\n",
      "100/100 [==============================] - 31s 307ms/step - loss: 0.3508 - acc: 0.8419 - val_loss: 0.2577 - val_acc: 0.8972\n",
      "Epoch 15/30\n",
      "100/100 [==============================] - 30s 297ms/step - loss: 0.3513 - acc: 0.8428 - val_loss: 0.2541 - val_acc: 0.9004\n",
      "Epoch 16/30\n",
      "100/100 [==============================] - 31s 313ms/step - loss: 0.3427 - acc: 0.8531 - val_loss: 0.2521 - val_acc: 0.9029\n",
      "Epoch 17/30\n",
      "100/100 [==============================] - 30s 298ms/step - loss: 0.3324 - acc: 0.8547 - val_loss: 0.2490 - val_acc: 0.9010\n",
      "Epoch 18/30\n",
      "100/100 [==============================] - 32s 317ms/step - loss: 0.3248 - acc: 0.8678 - val_loss: 0.2525 - val_acc: 0.8991\n",
      "Epoch 19/30\n",
      "100/100 [==============================] - 30s 305ms/step - loss: 0.3264 - acc: 0.8534 - val_loss: 0.2411 - val_acc: 0.9055\n",
      "Epoch 20/30\n",
      "100/100 [==============================] - 30s 296ms/step - loss: 0.3177 - acc: 0.8603 - val_loss: 0.2479 - val_acc: 0.9004\n",
      "Epoch 21/30\n",
      "100/100 [==============================] - 31s 310ms/step - loss: 0.3177 - acc: 0.8631 - val_loss: 0.2475 - val_acc: 0.9010\n",
      "Epoch 22/30\n",
      "100/100 [==============================] - 30s 298ms/step - loss: 0.3262 - acc: 0.8519 - val_loss: 0.2475 - val_acc: 0.8934\n",
      "Epoch 23/30\n",
      "100/100 [==============================] - 32s 317ms/step - loss: 0.3141 - acc: 0.8587 - val_loss: 0.2466 - val_acc: 0.9010\n",
      "Epoch 24/30\n",
      "100/100 [==============================] - 30s 302ms/step - loss: 0.3184 - acc: 0.8644 - val_loss: 0.2511 - val_acc: 0.8966\n",
      "Epoch 25/30\n",
      "100/100 [==============================] - 30s 297ms/step - loss: 0.3022 - acc: 0.8709 - val_loss: 0.2465 - val_acc: 0.8972\n",
      "Epoch 26/30\n",
      "100/100 [==============================] - 31s 308ms/step - loss: 0.3164 - acc: 0.8581 - val_loss: 0.2343 - val_acc: 0.9010\n",
      "Epoch 27/30\n",
      "100/100 [==============================] - 30s 297ms/step - loss: 0.2998 - acc: 0.8737 - val_loss: 0.2339 - val_acc: 0.9036\n",
      "Epoch 28/30\n",
      "100/100 [==============================] - 32s 316ms/step - loss: 0.2939 - acc: 0.8759 - val_loss: 0.2361 - val_acc: 0.8997\n",
      "Epoch 29/30\n",
      "100/100 [==============================] - 30s 299ms/step - loss: 0.3008 - acc: 0.8719 - val_loss: 0.2382 - val_acc: 0.9004\n",
      "Epoch 30/30\n",
      "100/100 [==============================] - 30s 297ms/step - loss: 0.3134 - acc: 0.8616 - val_loss: 0.2379 - val_acc: 0.9061\n"
     ]
    }
   ],
   "source": [
    "history = model.fit_generator(\n",
    "      train_generator,\n",
    "      steps_per_epoch=100,\n",
    "      epochs=30,\n",
    "      validation_data=validation_generator,\n",
    "      validation_steps=50)"
   ]
  },
  {
   "cell_type": "markdown",
   "metadata": {},
   "source": [
    "## Unfreeze and Fine-tune the last conv block"
   ]
  },
  {
   "cell_type": "code",
   "execution_count": 10,
   "metadata": {},
   "outputs": [
    {
     "name": "stdout",
     "output_type": "stream",
     "text": [
      "The number of trainable weights after unfreezing the last conv block: 10\n"
     ]
    }
   ],
   "source": [
    "vgg_model.trainable = True\n",
    "\n",
    "set_trainable = False\n",
    "for layer in vgg_model.layers:\n",
    "    if layer.name == 'block5_conv1':\n",
    "        set_trainable = True\n",
    "    if set_trainable:\n",
    "        layer.trainable = True\n",
    "    else:\n",
    "        layer.trainable = False\n",
    "                \n",
    "print('The number of trainable weights after unfreezing the last conv block:', len(model.trainable_weights))        "
   ]
  },
  {
   "cell_type": "code",
   "execution_count": 11,
   "metadata": {
    "scrolled": true
   },
   "outputs": [
    {
     "name": "stdout",
     "output_type": "stream",
     "text": [
      "Epoch 1/50\n",
      "100/100 [==============================] - 33s 325ms/step - loss: 0.2781 - acc: 0.8797 - val_loss: 0.2139 - val_acc: 0.9118\n",
      "Epoch 2/50\n",
      "100/100 [==============================] - 32s 316ms/step - loss: 0.2608 - acc: 0.8909 - val_loss: 0.2062 - val_acc: 0.9194\n",
      "Epoch 3/50\n",
      "100/100 [==============================] - 31s 308ms/step - loss: 0.2289 - acc: 0.8994 - val_loss: 0.1906 - val_acc: 0.9258\n",
      "Epoch 4/50\n",
      "100/100 [==============================] - 32s 319ms/step - loss: 0.2113 - acc: 0.9134 - val_loss: 0.1846 - val_acc: 0.9175\n",
      "Epoch 5/50\n",
      "100/100 [==============================] - 31s 311ms/step - loss: 0.1903 - acc: 0.9206 - val_loss: 0.1930 - val_acc: 0.9156\n",
      "Epoch 6/50\n",
      "100/100 [==============================] - 32s 320ms/step - loss: 0.1741 - acc: 0.9300 - val_loss: 0.1831 - val_acc: 0.9308\n",
      "Epoch 7/50\n",
      "100/100 [==============================] - 31s 314ms/step - loss: 0.1592 - acc: 0.9341 - val_loss: 0.1769 - val_acc: 0.9302\n",
      "Epoch 8/50\n",
      "100/100 [==============================] - 31s 307ms/step - loss: 0.1460 - acc: 0.9422 - val_loss: 0.1778 - val_acc: 0.9270\n",
      "Epoch 9/50\n",
      "100/100 [==============================] - 32s 317ms/step - loss: 0.1443 - acc: 0.9428 - val_loss: 0.1849 - val_acc: 0.9270\n",
      "Epoch 10/50\n",
      "100/100 [==============================] - 31s 312ms/step - loss: 0.1241 - acc: 0.9509 - val_loss: 0.1661 - val_acc: 0.9334\n",
      "Epoch 11/50\n",
      "100/100 [==============================] - 32s 320ms/step - loss: 0.1203 - acc: 0.9509 - val_loss: 0.1556 - val_acc: 0.9416\n",
      "Epoch 12/50\n",
      "100/100 [==============================] - 31s 313ms/step - loss: 0.1095 - acc: 0.9566 - val_loss: 0.1716 - val_acc: 0.9321\n",
      "Epoch 13/50\n",
      "100/100 [==============================] - 30s 305ms/step - loss: 0.1085 - acc: 0.9528 - val_loss: 0.1793 - val_acc: 0.9277\n",
      "Epoch 14/50\n",
      "100/100 [==============================] - 32s 318ms/step - loss: 0.1028 - acc: 0.9563 - val_loss: 0.1801 - val_acc: 0.9302\n",
      "Epoch 15/50\n",
      "100/100 [==============================] - 31s 309ms/step - loss: 0.0954 - acc: 0.9597 - val_loss: 0.2316 - val_acc: 0.9207\n",
      "Epoch 16/50\n",
      "100/100 [==============================] - 32s 319ms/step - loss: 0.0838 - acc: 0.9687 - val_loss: 0.1977 - val_acc: 0.9277\n",
      "Epoch 17/50\n",
      "100/100 [==============================] - 31s 310ms/step - loss: 0.0934 - acc: 0.9656 - val_loss: 0.1774 - val_acc: 0.9321\n",
      "Epoch 18/50\n",
      "100/100 [==============================] - 32s 323ms/step - loss: 0.0766 - acc: 0.9684 - val_loss: 0.1804 - val_acc: 0.9283\n",
      "Epoch 19/50\n",
      "100/100 [==============================] - 31s 314ms/step - loss: 0.0730 - acc: 0.9728 - val_loss: 0.1795 - val_acc: 0.9365\n",
      "Epoch 20/50\n",
      "100/100 [==============================] - 31s 308ms/step - loss: 0.0686 - acc: 0.9766 - val_loss: 0.2443 - val_acc: 0.9226\n",
      "Epoch 21/50\n",
      "100/100 [==============================] - 32s 316ms/step - loss: 0.0731 - acc: 0.9741 - val_loss: 0.1936 - val_acc: 0.9359\n",
      "Epoch 22/50\n",
      "100/100 [==============================] - 31s 311ms/step - loss: 0.0690 - acc: 0.9741 - val_loss: 0.2080 - val_acc: 0.9226\n",
      "Epoch 23/50\n",
      "100/100 [==============================] - 32s 321ms/step - loss: 0.0559 - acc: 0.9787 - val_loss: 0.2362 - val_acc: 0.9207\n",
      "Epoch 24/50\n",
      "100/100 [==============================] - 31s 313ms/step - loss: 0.0565 - acc: 0.9797 - val_loss: 0.2058 - val_acc: 0.9258\n",
      "Epoch 25/50\n",
      "100/100 [==============================] - 31s 308ms/step - loss: 0.0510 - acc: 0.9797 - val_loss: 0.2048 - val_acc: 0.9220\n",
      "Epoch 26/50\n",
      "100/100 [==============================] - 32s 316ms/step - loss: 0.0499 - acc: 0.9800 - val_loss: 0.1913 - val_acc: 0.9302\n",
      "Epoch 27/50\n",
      "100/100 [==============================] - 31s 311ms/step - loss: 0.0520 - acc: 0.9819 - val_loss: 0.2003 - val_acc: 0.9321\n",
      "Epoch 28/50\n",
      "100/100 [==============================] - 32s 320ms/step - loss: 0.0476 - acc: 0.9834 - val_loss: 0.1942 - val_acc: 0.9321\n",
      "Epoch 29/50\n",
      "100/100 [==============================] - 31s 313ms/step - loss: 0.0523 - acc: 0.9784 - val_loss: 0.1767 - val_acc: 0.9334\n",
      "Epoch 30/50\n",
      "100/100 [==============================] - 31s 306ms/step - loss: 0.0425 - acc: 0.9841 - val_loss: 0.1918 - val_acc: 0.9327\n",
      "Epoch 31/50\n",
      "100/100 [==============================] - 32s 316ms/step - loss: 0.0511 - acc: 0.9831 - val_loss: 0.2609 - val_acc: 0.9175\n",
      "Epoch 32/50\n",
      "100/100 [==============================] - 31s 307ms/step - loss: 0.0410 - acc: 0.9866 - val_loss: 0.2022 - val_acc: 0.9340\n",
      "Epoch 33/50\n",
      "100/100 [==============================] - 32s 316ms/step - loss: 0.0530 - acc: 0.9825 - val_loss: 0.2124 - val_acc: 0.9353\n",
      "Epoch 34/50\n",
      "100/100 [==============================] - 31s 311ms/step - loss: 0.0425 - acc: 0.9869 - val_loss: 0.1667 - val_acc: 0.9372\n",
      "Epoch 35/50\n",
      "100/100 [==============================] - 32s 322ms/step - loss: 0.0395 - acc: 0.9872 - val_loss: 0.1786 - val_acc: 0.9435\n",
      "Epoch 36/50\n",
      "100/100 [==============================] - 32s 315ms/step - loss: 0.0293 - acc: 0.9906 - val_loss: 0.1935 - val_acc: 0.9353\n",
      "Epoch 37/50\n",
      "100/100 [==============================] - 31s 308ms/step - loss: 0.0351 - acc: 0.9881 - val_loss: 0.1878 - val_acc: 0.9410\n",
      "Epoch 38/50\n",
      "100/100 [==============================] - 32s 318ms/step - loss: 0.0260 - acc: 0.9912 - val_loss: 0.2017 - val_acc: 0.9365\n",
      "Epoch 39/50\n",
      "100/100 [==============================] - 31s 311ms/step - loss: 0.0291 - acc: 0.9897 - val_loss: 0.2187 - val_acc: 0.9308\n",
      "Epoch 40/50\n",
      "100/100 [==============================] - 32s 319ms/step - loss: 0.0307 - acc: 0.9906 - val_loss: 0.2087 - val_acc: 0.9346\n",
      "Epoch 41/50\n",
      "100/100 [==============================] - 31s 312ms/step - loss: 0.0287 - acc: 0.9916 - val_loss: 0.1876 - val_acc: 0.9372\n",
      "Epoch 42/50\n",
      "100/100 [==============================] - 31s 306ms/step - loss: 0.0341 - acc: 0.9894 - val_loss: 0.2072 - val_acc: 0.9385\n",
      "Epoch 43/50\n",
      "100/100 [==============================] - 32s 315ms/step - loss: 0.0286 - acc: 0.9912 - val_loss: 0.2234 - val_acc: 0.9372\n",
      "Epoch 44/50\n",
      "100/100 [==============================] - 31s 310ms/step - loss: 0.0276 - acc: 0.9903 - val_loss: 0.2261 - val_acc: 0.9315\n",
      "Epoch 45/50\n",
      "100/100 [==============================] - 32s 319ms/step - loss: 0.0377 - acc: 0.9859 - val_loss: 0.1985 - val_acc: 0.9410\n",
      "Epoch 46/50\n",
      "100/100 [==============================] - 31s 312ms/step - loss: 0.0284 - acc: 0.9903 - val_loss: 0.2784 - val_acc: 0.9239\n",
      "Epoch 47/50\n",
      "100/100 [==============================] - 30s 304ms/step - loss: 0.0229 - acc: 0.9928 - val_loss: 0.2320 - val_acc: 0.9270\n",
      "Epoch 48/50\n",
      "100/100 [==============================] - 32s 316ms/step - loss: 0.0237 - acc: 0.9912 - val_loss: 0.2123 - val_acc: 0.9359\n",
      "Epoch 49/50\n",
      "100/100 [==============================] - 31s 310ms/step - loss: 0.0229 - acc: 0.9922 - val_loss: 0.2180 - val_acc: 0.9397\n",
      "Epoch 50/50\n",
      "100/100 [==============================] - 32s 318ms/step - loss: 0.0283 - acc: 0.9912 - val_loss: 0.2578 - val_acc: 0.9289\n"
     ]
    }
   ],
   "source": [
    "model.compile(loss='binary_crossentropy',\n",
    "              optimizer=optimizers.Adam(lr=1e-5),\n",
    "              metrics=['acc']\n",
    "             )\n",
    "\n",
    "history = model.fit_generator(train_generator,\n",
    "                              steps_per_epoch=100,\n",
    "                              epochs=50,\n",
    "                              validation_data=validation_generator,\n",
    "                              validation_steps=50\n",
    "                             )"
   ]
  },
  {
   "cell_type": "markdown",
   "metadata": {},
   "source": [
    "## After joinly training both last Cov block and FC classifier"
   ]
  },
  {
   "cell_type": "code",
   "execution_count": 12,
   "metadata": {},
   "outputs": [
    {
     "name": "stdout",
     "output_type": "stream",
     "text": [
      "Found 1000 images belonging to 2 classes.\n",
      "test acc: 0.9329999911785126\n"
     ]
    }
   ],
   "source": [
    "test_generator = ImageDataGenerator(rescale=1./255).flow_from_directory(\n",
    "        test_dir,\n",
    "        target_size=(150, 150),\n",
    "        batch_size=20,\n",
    "        class_mode='binary')\n",
    "\n",
    "test_loss, test_acc = model.evaluate_generator(test_generator, steps=50)\n",
    "print('test acc:', test_acc)\n"
   ]
  },
  {
   "cell_type": "code",
   "execution_count": 13,
   "metadata": {},
   "outputs": [
    {
     "data": {
      "image/png": "[encoded data removed]",
      "text/plain": [
       "<Figure size 432x288 with 1 Axes>"
      ]
     },
     "metadata": {},
     "output_type": "display_data"
    }
   ],
   "source": [
    "acc = history.history['acc']\n",
    "val_acc = history.history['val_acc']\n",
    "\n",
    "epochs = range(1, len(acc) + 1)\n",
    "\n",
    "plt.figure()\n",
    "\n",
    "plt.plot(epochs, acc, 'bo', label='Training Accuracy')\n",
    "plt.plot(epochs, val_acc, 'b', label='Validation Accuracy')\n",
    "plt.title('Training and validation Accuracy')\n",
    "plt.legend()\n",
    "\n",
    "plt.show()"
   ]
  },
  {
   "cell_type": "code",
   "execution_count": 14,
   "metadata": {},
   "outputs": [
    {
     "data": {
      "image/png": "[encoded data removed]",
      "text/plain": [
       "<Figure size 432x288 with 1 Axes>"
      ]
     },
     "metadata": {},
     "output_type": "display_data"
    }
   ],
   "source": [
    "acc = history.history['loss']\n",
    "val_acc = history.history['val_loss']\n",
    "\n",
    "epochs = range(1, len(acc) + 1)\n",
    "\n",
    "plt.figure()\n",
    "\n",
    "plt.plot(epochs, acc, 'bo', label='Training Loss')\n",
    "plt.plot(epochs, val_acc, 'b', label='Validation Loss')\n",
    "plt.title('Training and validation Loss')\n",
    "plt.legend()\n",
    "\n",
    "plt.show()"
   ]
  },
  {
   "cell_type": "markdown",
   "metadata": {},
   "source": [
    "## Model Saving"
   ]
  },
  {
   "cell_type": "code",
   "execution_count": 15,
   "metadata": {},
   "outputs": [],
   "source": [
    "model.save('./models/vgg_fine_tuning_cats_and_dogs.h5')"
   ]
  },
  {
   "cell_type": "code",
   "execution_count": null,
   "metadata": {},
   "outputs": [],
   "source": []
  }
 ],
 "metadata": {
  "kernelspec": {
   "display_name": "Python 3",
   "language": "python",
   "name": "python3"
  },
  "language_info": {
   "codemirror_mode": {
    "name": "ipython",
    "version": 3
   },
   "file_extension": ".py",
   "mimetype": "text/x-python",
   "name": "python",
   "nbconvert_exporter": "python",
   "pygments_lexer": "ipython3",
   "version": "3.6.5"
  }
 },
 "nbformat": 4,
 "nbformat_minor": 2
}
