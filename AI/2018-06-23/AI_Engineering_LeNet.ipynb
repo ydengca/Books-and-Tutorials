{
 "cells": [
  {
   "cell_type": "code",
   "execution_count": 1,
   "metadata": {},
   "outputs": [
    {
     "name": "stderr",
     "output_type": "stream",
     "text": [
      "Using TensorFlow backend.\n",
      "/Users/alvinjin/anaconda3/lib/python3.6/importlib/_bootstrap.py:219: RuntimeWarning: compiletime version 3.5 of module 'tensorflow.python.framework.fast_tensor_util' does not match runtime version 3.6\n",
      "  return f(*args, **kwds)\n"
     ]
    }
   ],
   "source": [
    "import keras"
   ]
  },
  {
   "cell_type": "markdown",
   "metadata": {},
   "source": [
    "# Load MNIST data from Keras\n",
    "Images are ecoded as Numpy arrays"
   ]
  },
  {
   "cell_type": "code",
   "execution_count": 2,
   "metadata": {
    "collapsed": true
   },
   "outputs": [],
   "source": [
    "from keras.datasets import mnist\n",
    "\n",
    "(train_images, train_labels), (test_images, test_labels) = mnist.load_data()"
   ]
  },
  {
   "cell_type": "code",
   "execution_count": 3,
   "metadata": {},
   "outputs": [
    {
     "name": "stdout",
     "output_type": "stream",
     "text": [
      "Training Dataset Shape: (60000, 28, 28)\n"
     ]
    }
   ],
   "source": [
    "print(\"Training Dataset Shape: {}\".format(train_images.shape))"
   ]
  },
  {
   "cell_type": "markdown",
   "metadata": {},
   "source": [
    "## First 4 samples in Test dataset"
   ]
  },
  {
   "cell_type": "code",
   "execution_count": 4,
   "metadata": {},
   "outputs": [
    {
     "data": {
      "image/png": "[encoded data removed]",
      "text/plain": [
       "<matplotlib.figure.Figure at 0x115f1c6d8>"
      ]
     },
     "metadata": {},
     "output_type": "display_data"
    }
   ],
   "source": [
    "import matplotlib.pyplot as plt\n",
    "# plot 4 images as gray scale\n",
    "plt.subplot(221)\n",
    "plt.imshow(test_images[0], cmap='gray')\n",
    "plt.subplot(222)\n",
    "plt.imshow(test_images[1], cmap='gray')\n",
    "plt.subplot(223)\n",
    "plt.imshow(test_images[2], cmap='gray')\n",
    "plt.subplot(224)\n",
    "plt.imshow(test_images[3], cmap='gray')\n",
    "# show the plot\n",
    "plt.show()"
   ]
  },
  {
   "cell_type": "markdown",
   "metadata": {},
   "source": [
    "# Data Preprocessing"
   ]
  },
  {
   "cell_type": "markdown",
   "metadata": {},
   "source": [
    "## 1. Normalize/Scale data\n",
    "\n",
    "The pixel values are gray scale between 0 and 255. Normalize it 0-1 range by dividing 255."
   ]
  },
  {
   "cell_type": "code",
   "execution_count": 5,
   "metadata": {
    "collapsed": true
   },
   "outputs": [],
   "source": [
    "train_images = train_images.reshape((train_images.shape[0], 28, 28, 1))\n",
    "train_images = train_images.astype('float32')/255\n",
    "\n",
    "val_images = train_images[:5000]\n",
    "train_images = train_images[5000:]\n",
    "\n",
    "test_images = test_images.reshape((test_images.shape[0], 28, 28, 1))\n",
    "test_images = test_images.astype('float32')/255"
   ]
  },
  {
   "cell_type": "markdown",
   "metadata": {},
   "source": [
    "## 2. One-hot-encoding on Labels\n",
    "It is good practice to use a one-hot-encoding of the class values, transforming the vector of class integers into a binary matrix."
   ]
  },
  {
   "cell_type": "code",
   "execution_count": 6,
   "metadata": {},
   "outputs": [
    {
     "name": "stdout",
     "output_type": "stream",
     "text": [
      "Firt 10 Training Labels: [7 2 1 0 4 1 4 9 5 9]\n",
      "After encoding: [[ 0.  0.  0.  0.  0.  0.  0.  1.  0.  0.]\n",
      " [ 0.  0.  1.  0.  0.  0.  0.  0.  0.  0.]\n",
      " [ 0.  1.  0.  0.  0.  0.  0.  0.  0.  0.]\n",
      " [ 1.  0.  0.  0.  0.  0.  0.  0.  0.  0.]\n",
      " [ 0.  0.  0.  0.  1.  0.  0.  0.  0.  0.]\n",
      " [ 0.  1.  0.  0.  0.  0.  0.  0.  0.  0.]\n",
      " [ 0.  0.  0.  0.  1.  0.  0.  0.  0.  0.]\n",
      " [ 0.  0.  0.  0.  0.  0.  0.  0.  0.  1.]\n",
      " [ 0.  0.  0.  0.  0.  1.  0.  0.  0.  0.]\n",
      " [ 0.  0.  0.  0.  0.  0.  0.  0.  0.  1.]]\n"
     ]
    }
   ],
   "source": [
    "from keras.utils import to_categorical\n",
    "\n",
    "print(\"Firt 10 Training Labels: {}\".format(test_labels[:10]))\n",
    "\n",
    "train_labels = to_categorical(train_labels)\n",
    "\n",
    "# Split Validataion set from training set\n",
    "val_labels = train_labels[:5000]\n",
    "train_labels = train_labels[5000:]\n",
    "\n",
    "test_labels = to_categorical(test_labels)\n",
    "\n",
    "print(\"After encoding: {}\".format(test_labels[:10]))"
   ]
  },
  {
   "cell_type": "markdown",
   "metadata": {},
   "source": [
    "## Build a ConvNet"
   ]
  },
  {
   "cell_type": "code",
   "execution_count": 7,
   "metadata": {},
   "outputs": [],
   "source": [
    "from keras.models import Sequential\n",
    "from keras.layers.convolutional import Conv2D\n",
    "from keras.layers.convolutional import MaxPooling2D\n",
    "from keras.layers.core import Activation\n",
    "from keras.layers.core import Flatten\n",
    "from keras.layers.core import Dense\n",
    "\n",
    "nn = Sequential()"
   ]
  },
  {
   "cell_type": "code",
   "execution_count": 8,
   "metadata": {},
   "outputs": [],
   "source": [
    "nn.add(Conv2D(filters=20, \n",
    "              kernel_size=(5, 5), \n",
    "              strides=(1, 1), \n",
    "              padding=\"same\", \n",
    "              activation='relu', \n",
    "              input_shape=(28, 28, 1)))\n",
    "\n",
    "nn.add(MaxPooling2D(pool_size=(2, 2), strides=(2, 2)))\n",
    "\n",
    "nn.add(Conv2D(filters=50, \n",
    "              kernel_size=(5, 5), \n",
    "              strides=(1, 1), \n",
    "              padding=\"same\", \n",
    "              activation='relu'))\n",
    "\n",
    "nn.add(MaxPooling2D(pool_size=(2, 2), strides=(2, 2)))"
   ]
  },
  {
   "cell_type": "code",
   "execution_count": 9,
   "metadata": {},
   "outputs": [
    {
     "name": "stdout",
     "output_type": "stream",
     "text": [
      "(None, 7, 7, 50)\n"
     ]
    }
   ],
   "source": [
    "print(nn.output_shape)"
   ]
  },
  {
   "cell_type": "markdown",
   "metadata": {},
   "source": [
    "## Below two Fully-connected layers are inherited from last lesson."
   ]
  },
  {
   "cell_type": "code",
   "execution_count": 21,
   "metadata": {},
   "outputs": [],
   "source": [
    "nn.add(Flatten())\n",
    "nn.add(Dense(units=500, activation='relu'))"
   ]
  },
  {
   "cell_type": "markdown",
   "metadata": {},
   "source": [
    "The output layer consists of 10 neurons since we want to classify digits into 10 classes (0 to 9)"
   ]
  },
  {
   "cell_type": "code",
   "execution_count": 11,
   "metadata": {},
   "outputs": [],
   "source": [
    "nn.add(Dense(units=10, activation='softmax'))"
   ]
  },
  {
   "cell_type": "code",
   "execution_count": 12,
   "metadata": {
    "collapsed": true
   },
   "outputs": [],
   "source": [
    "from keras import optimizers\n",
    "\n",
    "nn.compile(optimizer=optimizers.Adam(lr=0.001),\n",
    "           loss='categorical_crossentropy',\n",
    "           metrics=['accuracy']\n",
    "          )"
   ]
  },
  {
   "cell_type": "markdown",
   "metadata": {},
   "source": [
    "## Start training"
   ]
  },
  {
   "cell_type": "code",
   "execution_count": 13,
   "metadata": {
    "scrolled": true
   },
   "outputs": [
    {
     "name": "stdout",
     "output_type": "stream",
     "text": [
      "Train on 55000 samples, validate on 5000 samples\n",
      "Epoch 1/10\n",
      "55000/55000 [==============================] - 101s 2ms/step - loss: 0.1683 - acc: 0.9489 - val_loss: 0.0480 - val_acc: 0.9864\n",
      "Epoch 2/10\n",
      "55000/55000 [==============================] - 97s 2ms/step - loss: 0.0436 - acc: 0.9861 - val_loss: 0.0399 - val_acc: 0.9884\n",
      "Epoch 3/10\n",
      "55000/55000 [==============================] - 445s 8ms/step - loss: 0.0305 - acc: 0.9901 - val_loss: 0.0352 - val_acc: 0.9890\n",
      "Epoch 4/10\n",
      "55000/55000 [==============================] - 98s 2ms/step - loss: 0.0213 - acc: 0.9934 - val_loss: 0.0341 - val_acc: 0.9882\n",
      "Epoch 5/10\n",
      "55000/55000 [==============================] - 101s 2ms/step - loss: 0.0168 - acc: 0.9946 - val_loss: 0.0317 - val_acc: 0.9902\n",
      "Epoch 6/10\n",
      "55000/55000 [==============================] - 107s 2ms/step - loss: 0.0129 - acc: 0.9959 - val_loss: 0.0503 - val_acc: 0.9870\n",
      "Epoch 7/10\n",
      "55000/55000 [==============================] - 101s 2ms/step - loss: 0.0117 - acc: 0.9963 - val_loss: 0.0356 - val_acc: 0.9900\n",
      "Epoch 8/10\n",
      "55000/55000 [==============================] - 103s 2ms/step - loss: 0.0083 - acc: 0.9974 - val_loss: 0.0353 - val_acc: 0.9904\n",
      "Epoch 9/10\n",
      "55000/55000 [==============================] - 104s 2ms/step - loss: 0.0096 - acc: 0.9968 - val_loss: 0.0266 - val_acc: 0.9924\n",
      "Epoch 10/10\n",
      "55000/55000 [==============================] - 104s 2ms/step - loss: 0.0061 - acc: 0.9981 - val_loss: 0.0428 - val_acc: 0.9890\n"
     ]
    }
   ],
   "source": [
    "history = nn.fit(train_images, train_labels,\n",
    "      epochs=10,\n",
    "      batch_size=128,\n",
    "      validation_data=(val_images, val_labels),\n",
    "      verbose=1\n",
    "      )"
   ]
  },
  {
   "cell_type": "code",
   "execution_count": 14,
   "metadata": {},
   "outputs": [
    {
     "name": "stdout",
     "output_type": "stream",
     "text": [
      "_________________________________________________________________\n",
      "Layer (type)                 Output Shape              Param #   \n",
      "=================================================================\n",
      "conv2d_1 (Conv2D)            (None, 28, 28, 20)        520       \n",
      "_________________________________________________________________\n",
      "max_pooling2d_1 (MaxPooling2 (None, 14, 14, 20)        0         \n",
      "_________________________________________________________________\n",
      "conv2d_2 (Conv2D)            (None, 14, 14, 50)        25050     \n",
      "_________________________________________________________________\n",
      "max_pooling2d_2 (MaxPooling2 (None, 7, 7, 50)          0         \n",
      "_________________________________________________________________\n",
      "flatten_1 (Flatten)          (None, 2450)              0         \n",
      "_________________________________________________________________\n",
      "dense_1 (Dense)              (None, 500)               1225500   \n",
      "_________________________________________________________________\n",
      "dense_2 (Dense)              (None, 10)                5010      \n",
      "=================================================================\n",
      "Total params: 1,256,080\n",
      "Trainable params: 1,256,080\n",
      "Non-trainable params: 0\n",
      "_________________________________________________________________\n"
     ]
    }
   ],
   "source": [
    "nn.summary()"
   ]
  },
  {
   "cell_type": "markdown",
   "metadata": {},
   "source": [
    "## Convoluation Filters"
   ]
  },
  {
   "cell_type": "code",
   "execution_count": 20,
   "metadata": {},
   "outputs": [
    {
     "name": "stdout",
     "output_type": "stream",
     "text": [
      "The first conv layer's filers: (5, 5, 1, 20)\n",
      "\n"
     ]
    },
    {
     "data": {
      "text/plain": [
       "array([[[-0.00294838],\n",
       "        [ 0.03362969],\n",
       "        [-0.08557463],\n",
       "        [ 0.02284927],\n",
       "        [ 0.0436881 ]],\n",
       "\n",
       "       [[ 0.04798874],\n",
       "        [-0.17309083],\n",
       "        [-0.23320314],\n",
       "        [-0.05227446],\n",
       "        [ 0.05326051]],\n",
       "\n",
       "       [[-0.05660954],\n",
       "        [-0.35320321],\n",
       "        [-0.07855018],\n",
       "        [ 0.14665954],\n",
       "        [ 0.10088838]],\n",
       "\n",
       "       [[-0.2324755 ],\n",
       "        [-0.14694062],\n",
       "        [-0.06243295],\n",
       "        [ 0.06652897],\n",
       "        [ 0.15800895]],\n",
       "\n",
       "       [[-0.21889977],\n",
       "        [-0.07005432],\n",
       "        [ 0.0369084 ],\n",
       "        [ 0.14429262],\n",
       "        [ 0.15124311]]], dtype=float32)"
      ]
     },
     "execution_count": 20,
     "metadata": {},
     "output_type": "execute_result"
    }
   ],
   "source": [
    "weights = nn.get_weights() # get model weights\n",
    "conv1_filters = weights[0]\n",
    "print(\"The first conv layer's filers: {}\\n\".format(conv1_filters.shape))\n",
    "conv1_filters[:,:,:,0] # the first filter "
   ]
  },
  {
   "cell_type": "markdown",
   "metadata": {},
   "source": [
    "## Evaluation and Test"
   ]
  },
  {
   "cell_type": "code",
   "execution_count": 16,
   "metadata": {},
   "outputs": [
    {
     "name": "stdout",
     "output_type": "stream",
     "text": [
      "10000/10000 [==============================] - 7s 697us/step\n"
     ]
    },
    {
     "data": {
      "text/plain": [
       "[0.033653665206319558, 0.99109999999999998]"
      ]
     },
     "execution_count": 16,
     "metadata": {},
     "output_type": "execute_result"
    }
   ],
   "source": [
    "nn.evaluate(test_images, test_labels)"
   ]
  },
  {
   "cell_type": "code",
   "execution_count": 17,
   "metadata": {},
   "outputs": [
    {
     "name": "stdout",
     "output_type": "stream",
     "text": [
      "Predicted Classes: [7 2 1 0]\n",
      "Predicted Probabilities:\n",
      " [[  3.47908195e-16   1.55704525e-17   3.47905718e-15   1.54346544e-12\n",
      "    2.59434626e-23   6.99588365e-19   2.10560418e-22   1.00000000e+00\n",
      "    9.61308677e-17   3.83890211e-11]\n",
      " [  1.32583763e-13   1.87115694e-14   1.00000000e+00   7.28904740e-17\n",
      "    7.80622493e-20   3.20550749e-24   4.46997006e-14   2.37722947e-16\n",
      "    3.03479572e-14   2.20725640e-18]\n",
      " [  3.78378129e-09   9.99959826e-01   1.19140503e-10   4.97053787e-13\n",
      "    1.31937776e-08   5.30408911e-11   3.12725867e-09   3.68579604e-05\n",
      "    3.37669894e-06   4.20661735e-11]\n",
      " [  1.00000000e+00   8.96663453e-18   4.51478937e-15   1.43834199e-15\n",
      "    4.49764668e-17   7.98107934e-12   3.13514859e-09   9.76453779e-11\n",
      "    1.41394646e-10   6.10292372e-10]]\n"
     ]
    }
   ],
   "source": [
    "preds = nn.predict_classes(test_images[:4])\n",
    "probs = nn.predict_proba(test_images[:4])\n",
    "\n",
    "print(\"Predicted Classes: {}\".format(preds))\n",
    "print(\"Predicted Probabilities:\\n {}\".format(probs))"
   ]
  },
  {
   "cell_type": "markdown",
   "metadata": {},
   "source": [
    "## Loss and Accuracy Diagrams"
   ]
  },
  {
   "cell_type": "code",
   "execution_count": 18,
   "metadata": {},
   "outputs": [
    {
     "data": {
      "image/png": "[encoded data removed]",
      "text/plain": [
       "<matplotlib.figure.Figure at 0x1226ef710>"
      ]
     },
     "metadata": {},
     "output_type": "display_data"
    }
   ],
   "source": [
    "import matplotlib.pyplot as plt\n",
    "loss = history.history['loss']\n",
    "val_loss = history.history['val_loss']\n",
    "\n",
    "epochs = range(1, len(loss) + 1)\n",
    "\n",
    "plt.figure()\n",
    "\n",
    "plt.plot(epochs, loss, 'bo', label='Training loss')\n",
    "plt.plot(epochs, val_loss, 'b', label='Validation loss')\n",
    "plt.title('Training and validation loss')\n",
    "plt.legend()\n",
    "\n",
    "plt.show()"
   ]
  },
  {
   "cell_type": "code",
   "execution_count": 19,
   "metadata": {},
   "outputs": [
    {
     "data": {
      "image/png": "[encoded data removed]",
      "text/plain": [
       "<matplotlib.figure.Figure at 0x1226a5978>"
      ]
     },
     "metadata": {},
     "output_type": "display_data"
    }
   ],
   "source": [
    "acc = history.history['acc']\n",
    "val_acc = history.history['val_acc']\n",
    "\n",
    "epochs = range(1, len(acc) + 1)\n",
    "\n",
    "plt.figure()\n",
    "\n",
    "plt.plot(epochs, acc, 'bo', label='Training Accuracy')\n",
    "plt.plot(epochs, val_acc, 'b', label='Validation Accuracy')\n",
    "plt.title('Training and validation Accuracy')\n",
    "plt.legend()\n",
    "\n",
    "plt.show()"
   ]
  },
  {
   "cell_type": "code",
   "execution_count": null,
   "metadata": {
    "collapsed": true
   },
   "outputs": [],
   "source": []
  }
 ],
 "metadata": {
  "kernelspec": {
   "display_name": "Python 3",
   "language": "python",
   "name": "python3"
  },
  "language_info": {
   "codemirror_mode": {
    "name": "ipython",
    "version": 3
   },
   "file_extension": ".py",
   "mimetype": "text/x-python",
   "name": "python",
   "nbconvert_exporter": "python",
   "pygments_lexer": "ipython3",
   "version": "3.6.3"
  }
 },
 "nbformat": 4,
 "nbformat_minor": 2
}
